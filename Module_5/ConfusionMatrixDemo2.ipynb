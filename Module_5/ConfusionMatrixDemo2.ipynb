{
 "cells": [
  {
   "cell_type": "code",
   "execution_count": 17,
   "id": "b5fa5791",
   "metadata": {},
   "outputs": [
    {
     "data": {
      "text/html": [
       "<div>\n",
       "<style scoped>\n",
       "    .dataframe tbody tr th:only-of-type {\n",
       "        vertical-align: middle;\n",
       "    }\n",
       "\n",
       "    .dataframe tbody tr th {\n",
       "        vertical-align: top;\n",
       "    }\n",
       "\n",
       "    .dataframe thead th {\n",
       "        text-align: right;\n",
       "    }\n",
       "</style>\n",
       "<table border=\"1\" class=\"dataframe\">\n",
       "  <thead>\n",
       "    <tr style=\"text-align: right;\">\n",
       "      <th></th>\n",
       "      <th>Prediction Bird</th>\n",
       "      <th>Prediction Cat</th>\n",
       "      <th>Prediction Dog</th>\n",
       "    </tr>\n",
       "  </thead>\n",
       "  <tbody>\n",
       "    <tr>\n",
       "      <th>Actual Bird</th>\n",
       "      <td>1</td>\n",
       "      <td>0</td>\n",
       "      <td>1</td>\n",
       "    </tr>\n",
       "    <tr>\n",
       "      <th>Actual Cat</th>\n",
       "      <td>0</td>\n",
       "      <td>4</td>\n",
       "      <td>0</td>\n",
       "    </tr>\n",
       "    <tr>\n",
       "      <th>Actual Dog</th>\n",
       "      <td>0</td>\n",
       "      <td>1</td>\n",
       "      <td>2</td>\n",
       "    </tr>\n",
       "  </tbody>\n",
       "</table>\n",
       "</div>"
      ],
      "text/plain": [
       "             Prediction Bird  Prediction Cat  Prediction Dog\n",
       "Actual Bird                1               0               1\n",
       "Actual Cat                 0               4               0\n",
       "Actual Dog                 0               1               2"
      ]
     },
     "execution_count": 17,
     "metadata": {},
     "output_type": "execute_result"
    }
   ],
   "source": [
    "import pandas as pd \n",
    "\n",
    "data = {'Prediction Bird':[1,0,0],\n",
    "        'Prediction Cat':[0,4,1],\n",
    "        'Prediction Dog':[1,0,2]\n",
    "       } \n",
    "\n",
    "df = pd.DataFrame(data, index =['Actual Bird',\n",
    "                                'Actual Cat',\n",
    "                                'Actual Dog'\n",
    "                               ]) \n",
    "\n",
    "df"
   ]
  },
  {
   "cell_type": "code",
   "execution_count": 29,
   "id": "2c00377d",
   "metadata": {},
   "outputs": [],
   "source": [
    "TP_Bird = 1\n",
    "FP_Bird = 0\n",
    "FN_Bird = 1\n",
    "TN_Bird = 7\n",
    "\n",
    "\n",
    "TP_Cat = 4\n",
    "FP_Cat = 1\n",
    "FN_Cat = 0\n",
    "TN_Cat = 4\n",
    "\n",
    "\n",
    "TP_Dog = 2\n",
    "FP_Dog = 1\n",
    "FN_Dog = 1\n",
    "TN_Dog = 5\n",
    "\n",
    "total = 9"
   ]
  },
  {
   "cell_type": "code",
   "execution_count": 37,
   "id": "a9d989e7",
   "metadata": {},
   "outputs": [],
   "source": [
    "No_Birds = 2\n",
    "No_Cats = 4\n",
    "No_Dogs = 3\n",
    "\n",
    "Sample_total = No_Birds + No_Cats + No_Dogs "
   ]
  },
  {
   "cell_type": "code",
   "execution_count": 30,
   "id": "b561465a",
   "metadata": {},
   "outputs": [
    {
     "data": {
      "text/plain": [
       "7"
      ]
     },
     "execution_count": 30,
     "metadata": {},
     "output_type": "execute_result"
    }
   ],
   "source": [
    "TP_total = TP_Bird + TP_Cat + TP_Dog\n",
    "TP_total"
   ]
  },
  {
   "cell_type": "code",
   "execution_count": 31,
   "id": "b896a2dd",
   "metadata": {},
   "outputs": [
    {
     "data": {
      "text/plain": [
       "2"
      ]
     },
     "execution_count": 31,
     "metadata": {},
     "output_type": "execute_result"
    }
   ],
   "source": [
    "FP_total = FP_Bird + FP_Cat + FP_Dog\n",
    "FP_total"
   ]
  },
  {
   "cell_type": "code",
   "execution_count": 32,
   "id": "9eb6e6a5",
   "metadata": {},
   "outputs": [
    {
     "data": {
      "text/plain": [
       "2"
      ]
     },
     "execution_count": 32,
     "metadata": {},
     "output_type": "execute_result"
    }
   ],
   "source": [
    "FN_total = FN_Bird + FN_Cat + FN_Dog\n",
    "FN_total"
   ]
  },
  {
   "cell_type": "code",
   "execution_count": 20,
   "id": "8dc35f57",
   "metadata": {},
   "outputs": [
    {
     "data": {
      "text/plain": [
       "0.8888888888888888"
      ]
     },
     "execution_count": 20,
     "metadata": {},
     "output_type": "execute_result"
    }
   ],
   "source": [
    "#Accuracy (TP+TN)/total \n",
    "\n",
    "AccuracyBird = (TP_Bird+TN_Bird) / total\n",
    "AccuracyBird"
   ]
  },
  {
   "cell_type": "code",
   "execution_count": 24,
   "id": "7ceeb300",
   "metadata": {},
   "outputs": [
    {
     "data": {
      "text/plain": [
       "0.8888888888888888"
      ]
     },
     "execution_count": 24,
     "metadata": {},
     "output_type": "execute_result"
    }
   ],
   "source": [
    "AccuracyCat = (TP_Cat+TN_Cat) / total\n",
    "AccuracyCat"
   ]
  },
  {
   "cell_type": "code",
   "execution_count": 25,
   "id": "746a7051",
   "metadata": {},
   "outputs": [
    {
     "data": {
      "text/plain": [
       "0.7777777777777778"
      ]
     },
     "execution_count": 25,
     "metadata": {},
     "output_type": "execute_result"
    }
   ],
   "source": [
    "AccuracyDog = (TP_Dog+TN_Dog) / total\n",
    "AccuracyDog"
   ]
  },
  {
   "cell_type": "code",
   "execution_count": 39,
   "id": "5f2c351e",
   "metadata": {},
   "outputs": [
    {
     "data": {
      "text/plain": [
       "0.1111111111111111"
      ]
     },
     "execution_count": 39,
     "metadata": {},
     "output_type": "execute_result"
    }
   ],
   "source": [
    "#Misclassification Rate: Overall, how often is it wrong?\n",
    "#equivalent to 1 minus Accuracy\n",
    "#also known as \"Error Rate\"\n",
    "    \n",
    "MisclassificationBirds = (FP_Bird + FN_Bird)/total\n",
    "MisclassificationBirds"
   ]
  },
  {
   "cell_type": "code",
   "execution_count": 40,
   "id": "f997d320",
   "metadata": {},
   "outputs": [
    {
     "data": {
      "text/plain": [
       "0.1111111111111111"
      ]
     },
     "execution_count": 40,
     "metadata": {},
     "output_type": "execute_result"
    }
   ],
   "source": [
    "MisclassificationCats = (FP_Cat + FN_Cat)/total\n",
    "MisclassificationCats"
   ]
  },
  {
   "cell_type": "code",
   "execution_count": 41,
   "id": "d05a6d49",
   "metadata": {},
   "outputs": [
    {
     "data": {
      "text/plain": [
       "0.2222222222222222"
      ]
     },
     "execution_count": 41,
     "metadata": {},
     "output_type": "execute_result"
    }
   ],
   "source": [
    "MisclassificationDogs = (FP_Dog + FN_Dog)/total\n",
    "MisclassificationDogs"
   ]
  },
  {
   "cell_type": "code",
   "execution_count": 44,
   "id": "ad757207",
   "metadata": {},
   "outputs": [
    {
     "data": {
      "text/plain": [
       "0.5"
      ]
     },
     "execution_count": 44,
     "metadata": {},
     "output_type": "execute_result"
    }
   ],
   "source": [
    "#True Positive Rate - Birds\n",
    "\n",
    "TP_Bird / No_Birds"
   ]
  },
  {
   "cell_type": "code",
   "execution_count": 45,
   "id": "960ca6de",
   "metadata": {},
   "outputs": [
    {
     "data": {
      "text/plain": [
       "1.0"
      ]
     },
     "execution_count": 45,
     "metadata": {},
     "output_type": "execute_result"
    }
   ],
   "source": [
    "#True Positive Rate - Cats\n",
    "\n",
    "TP_Cat / No_Cats"
   ]
  },
  {
   "cell_type": "code",
   "execution_count": 46,
   "id": "16006872",
   "metadata": {},
   "outputs": [
    {
     "data": {
      "text/plain": [
       "0.6666666666666666"
      ]
     },
     "execution_count": 46,
     "metadata": {},
     "output_type": "execute_result"
    }
   ],
   "source": [
    "#True Positive Rate - Dogs\n",
    "\n",
    "TP_Dog / No_Dogs"
   ]
  },
  {
   "cell_type": "code",
   "execution_count": null,
   "id": "2429711f",
   "metadata": {},
   "outputs": [],
   "source": [
    "#False Positive Rate - Birds\n",
    "\n",
    "\n"
   ]
  },
  {
   "cell_type": "code",
   "execution_count": null,
   "id": "e68139d9",
   "metadata": {},
   "outputs": [],
   "source": []
  },
  {
   "cell_type": "code",
   "execution_count": null,
   "id": "1735d8f9",
   "metadata": {},
   "outputs": [],
   "source": [
    "#Precision"
   ]
  },
  {
   "cell_type": "code",
   "execution_count": 26,
   "id": "7ae590ef",
   "metadata": {},
   "outputs": [
    {
     "data": {
      "text/plain": [
       "1.0"
      ]
     },
     "execution_count": 26,
     "metadata": {},
     "output_type": "execute_result"
    }
   ],
   "source": [
    "Precision_Bird = TP_Bird / (TP_Bird+FP_Bird)\n",
    "Precision_Bird"
   ]
  },
  {
   "cell_type": "code",
   "execution_count": 27,
   "id": "b0ea4f99",
   "metadata": {},
   "outputs": [
    {
     "data": {
      "text/plain": [
       "0.8"
      ]
     },
     "execution_count": 27,
     "metadata": {},
     "output_type": "execute_result"
    }
   ],
   "source": [
    "Precision_Cat = TP_Cat / (TP_Cat+FP_Cat)\n",
    "Precision_Cat"
   ]
  },
  {
   "cell_type": "code",
   "execution_count": 28,
   "id": "cf0a4fef",
   "metadata": {},
   "outputs": [
    {
     "data": {
      "text/plain": [
       "0.6666666666666666"
      ]
     },
     "execution_count": 28,
     "metadata": {},
     "output_type": "execute_result"
    }
   ],
   "source": [
    "Precision_Dog = TP_Dog / (TP_Dog+FP_Dog)\n",
    "Precision_Dog"
   ]
  },
  {
   "cell_type": "code",
   "execution_count": null,
   "id": "8db6016d",
   "metadata": {},
   "outputs": [],
   "source": []
  },
  {
   "cell_type": "code",
   "execution_count": 34,
   "id": "cd9a10fa",
   "metadata": {},
   "outputs": [
    {
     "data": {
      "text/plain": [
       "0.7777777777777778"
      ]
     },
     "execution_count": 34,
     "metadata": {},
     "output_type": "execute_result"
    }
   ],
   "source": [
    "#Micro-averaged: all samples equally contribute to the final averaged metric\n",
    "#Micro Averaged Precision\n",
    "\n",
    "MicroAP = TP_total / (TP_total + FP_total)\n",
    "MicroAP"
   ]
  },
  {
   "cell_type": "code",
   "execution_count": 36,
   "id": "30a87d14",
   "metadata": {},
   "outputs": [
    {
     "data": {
      "text/plain": [
       "0.8222222222222222"
      ]
     },
     "execution_count": 36,
     "metadata": {},
     "output_type": "execute_result"
    }
   ],
   "source": [
    "#Macro Averaged Precision\n",
    "#Macro-averaged Precision is calculated as an average of Precisions of all classes:\n",
    "\n",
    "MacroAP = (1/3) * (Precision_Bird + Precision_Cat + Precision_Dog)\n",
    "MacroAP"
   ]
  },
  {
   "cell_type": "code",
   "execution_count": 38,
   "id": "dd111b94",
   "metadata": {},
   "outputs": [
    {
     "data": {
      "text/plain": [
       "0.8"
      ]
     },
     "execution_count": 38,
     "metadata": {},
     "output_type": "execute_result"
    }
   ],
   "source": [
    "#Weighted-averaged Precision is also calculated based on Precision per class \n",
    "#but takes into account the number of samples of each class in the data:\n",
    "\n",
    "WeightAP = ((Precision_Bird * No_Birds) + (Precision_Cat * No_Cats) + (Precision_Dog * No_Dogs)) / Sample_total\n",
    "WeightAP"
   ]
  },
  {
   "cell_type": "code",
   "execution_count": null,
   "id": "64ec403a",
   "metadata": {},
   "outputs": [],
   "source": []
  }
 ],
 "metadata": {
  "kernelspec": {
   "display_name": "Python 3",
   "language": "python",
   "name": "python3"
  },
  "language_info": {
   "codemirror_mode": {
    "name": "ipython",
    "version": 3
   },
   "file_extension": ".py",
   "mimetype": "text/x-python",
   "name": "python",
   "nbconvert_exporter": "python",
   "pygments_lexer": "ipython3",
   "version": "3.8.8"
  }
 },
 "nbformat": 4,
 "nbformat_minor": 5
}
