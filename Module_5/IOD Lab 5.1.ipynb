{
 "cells": [
  {
   "cell_type": "markdown",
   "source": [
    "<div>\n",
    "<img src=https://www.institutedata.com/wp-content/uploads/2019/10/iod_h_tp_primary_c.svg width=\"300\">\n",
    "</div>"
   ],
   "metadata": {
    "colab_type": "text",
    "id": "MV1ykjySSrEu"
   }
  },
  {
   "cell_type": "markdown",
   "source": [
    "# Lab 5.1 \n",
    "# *Logistic Regression*"
   ],
   "metadata": {
    "colab_type": "text",
    "id": "42orCR4NSrEw"
   }
  },
  {
   "cell_type": "markdown",
   "source": [
    "## Predicting Survival on the Titanic\n",
    "\n",
    "The Titanic sank during her maiden voyage after colliding with an iceberg (April 15, 1912). Due to a commercial decision there were insufficient lifeboats, a fact that was partially responsible for the loss 1,502 out of 2,224 passengers and crew. \n",
    "\n",
    "The Titanic dataset incorporates many features of typical real-world problems: a mixture of continuous and discrete features, missing data, linear covariance, and an element of random chance. Predicting survival therefore involves many practical data science skills."
   ],
   "metadata": {
    "colab_type": "text",
    "id": "z6dger9XSrEz"
   }
  },
  {
   "cell_type": "code",
   "execution_count": 1,
   "source": [
    "import pandas as pd\r\n",
    "import numpy as np\r\n",
    "import matplotlib.pyplot as plt\r\n",
    "import seaborn as sns\r\n",
    "\r\n",
    "from sklearn.model_selection import train_test_split\r\n",
    "from sklearn.linear_model import LogisticRegression\r\n",
    "from sklearn import metrics\r\n",
    "\r\n",
    "%matplotlib inline"
   ],
   "outputs": [
    {
     "output_type": "error",
     "ename": "ModuleNotFoundError",
     "evalue": "No module named 'sklearn'",
     "traceback": [
      "\u001b[1;31m---------------------------------------------------------------------------\u001b[0m",
      "\u001b[1;31mModuleNotFoundError\u001b[0m                       Traceback (most recent call last)",
      "\u001b[1;32m<ipython-input-1-3469891ba9a7>\u001b[0m in \u001b[0;36m<module>\u001b[1;34m\u001b[0m\n\u001b[0;32m      4\u001b[0m \u001b[1;32mimport\u001b[0m \u001b[0mseaborn\u001b[0m \u001b[1;32mas\u001b[0m \u001b[0msns\u001b[0m\u001b[1;33m\u001b[0m\u001b[1;33m\u001b[0m\u001b[0m\n\u001b[0;32m      5\u001b[0m \u001b[1;33m\u001b[0m\u001b[0m\n\u001b[1;32m----> 6\u001b[1;33m \u001b[1;32mfrom\u001b[0m \u001b[0msklearn\u001b[0m\u001b[1;33m.\u001b[0m\u001b[0mmodel_selection\u001b[0m \u001b[1;32mimport\u001b[0m \u001b[0mtrain_test_split\u001b[0m\u001b[1;33m\u001b[0m\u001b[1;33m\u001b[0m\u001b[0m\n\u001b[0m\u001b[0;32m      7\u001b[0m \u001b[1;32mfrom\u001b[0m \u001b[0msklearn\u001b[0m\u001b[1;33m.\u001b[0m\u001b[0mlinear_model\u001b[0m \u001b[1;32mimport\u001b[0m \u001b[0mLogisticRegression\u001b[0m\u001b[1;33m\u001b[0m\u001b[1;33m\u001b[0m\u001b[0m\n\u001b[0;32m      8\u001b[0m \u001b[1;32mfrom\u001b[0m \u001b[0msklearn\u001b[0m \u001b[1;32mimport\u001b[0m \u001b[0mmetrics\u001b[0m\u001b[1;33m\u001b[0m\u001b[1;33m\u001b[0m\u001b[0m\n",
      "\u001b[1;31mModuleNotFoundError\u001b[0m: No module named 'sklearn'"
     ]
    }
   ],
   "metadata": {
    "colab": {},
    "colab_type": "code",
    "id": "BpW4z29ASrE1"
   }
  },
  {
   "cell_type": "markdown",
   "source": [
    "### 1. Load Data\n",
    "\n",
    "Load the `titanic.csv` file into a DataFrame named \"titanic\", with index column = `PassengerId`. Display the head of the DataFrame."
   ],
   "metadata": {
    "colab_type": "text",
    "id": "BSpp7YdtSrE8"
   }
  },
  {
   "cell_type": "code",
   "execution_count": 7,
   "source": [
    "# ANSWER\r\n",
    "titanic = pd.read_csv('C:/Users/nadun/Documents/InstitueOfData/DATA/titanic_train.csv', index_col='PassengerId')"
   ],
   "outputs": [],
   "metadata": {
    "colab": {},
    "colab_type": "code",
    "id": "GXnrsCXeSrE-"
   }
  },
  {
   "cell_type": "markdown",
   "source": [
    "Why would we want to set an index column based on `PassengerId`?"
   ],
   "metadata": {
    "colab_type": "text",
    "id": "BA8iN36rSrFE"
   }
  },
  {
   "cell_type": "markdown",
   "source": [
    "ANSWER: This column is the key to training and testing our model. We use it to partition the dataset and to test the predictions of our model against known outcomes."
   ],
   "metadata": {
    "colab_type": "text",
    "id": "WwYgjo5JSrFG"
   }
  },
  {
   "cell_type": "markdown",
   "source": [
    "<a name=\"datadictionary\"></a>\n",
    "### 2. Data Dictionary \n",
    "\n",
    "If a data dictionary is available, it is handy to include it in the notebook for reference:\n",
    "\n",
    "| Variable |                                 Definition | Key                                            |\n",
    "|----------|-------------------------------------------:|------------------------------------------------|\n",
    "| Survival | Survival                                   | 0 = No, 1 = Yes                                |\n",
    "| Pclass   | Ticket class                               | 1 = 1st, 2 = 2nd, 3 = 3rd                      |\n",
    "| Sex      | Sex                                        |                                                |\n",
    "| Age      | Age in years                               |                                                |\n",
    "| SibSp    | # of siblings / spouses aboard the Titanic |                                                |\n",
    "| Parch    | # of parents / children aboard the Titanic |                                                |\n",
    "| Ticket   | Ticket number                              |                                                |\n",
    "| Fare     | Passenger fare                             |                                                |\n",
    "| Cabin    | Cabin number                               |                                                |\n",
    "| Embarked | Port of Embarkation                        | C = Cherbourg, Q = Queenstown, S = Southampton |"
   ],
   "metadata": {
    "colab_type": "text",
    "id": "NOJDV6emYn4d"
   }
  },
  {
   "cell_type": "markdown",
   "source": [
    "### 2. EDA"
   ],
   "metadata": {
    "colab_type": "text",
    "id": "LIunWCDPYn4e"
   }
  },
  {
   "cell_type": "code",
   "execution_count": 8,
   "source": [
    "# Shape\r\n",
    "titanic.shape"
   ],
   "outputs": [
    {
     "output_type": "execute_result",
     "data": {
      "text/plain": [
       "(891, 11)"
      ]
     },
     "metadata": {},
     "execution_count": 8
    }
   ],
   "metadata": {
    "colab": {},
    "colab_type": "code",
    "id": "wEn6Dd9lYn4e",
    "outputId": "5e5da247-fe09-4414-9342-dd20d8606277"
   }
  },
  {
   "cell_type": "code",
   "execution_count": 9,
   "source": [
    "# Head\r\n",
    "titanic.head()"
   ],
   "outputs": [
    {
     "output_type": "execute_result",
     "data": {
      "text/html": [
       "<div>\n",
       "<style scoped>\n",
       "    .dataframe tbody tr th:only-of-type {\n",
       "        vertical-align: middle;\n",
       "    }\n",
       "\n",
       "    .dataframe tbody tr th {\n",
       "        vertical-align: top;\n",
       "    }\n",
       "\n",
       "    .dataframe thead th {\n",
       "        text-align: right;\n",
       "    }\n",
       "</style>\n",
       "<table border=\"1\" class=\"dataframe\">\n",
       "  <thead>\n",
       "    <tr style=\"text-align: right;\">\n",
       "      <th></th>\n",
       "      <th>Survived</th>\n",
       "      <th>Pclass</th>\n",
       "      <th>Name</th>\n",
       "      <th>Sex</th>\n",
       "      <th>Age</th>\n",
       "      <th>SibSp</th>\n",
       "      <th>Parch</th>\n",
       "      <th>Ticket</th>\n",
       "      <th>Fare</th>\n",
       "      <th>Cabin</th>\n",
       "      <th>Embarked</th>\n",
       "    </tr>\n",
       "    <tr>\n",
       "      <th>PassengerId</th>\n",
       "      <th></th>\n",
       "      <th></th>\n",
       "      <th></th>\n",
       "      <th></th>\n",
       "      <th></th>\n",
       "      <th></th>\n",
       "      <th></th>\n",
       "      <th></th>\n",
       "      <th></th>\n",
       "      <th></th>\n",
       "      <th></th>\n",
       "    </tr>\n",
       "  </thead>\n",
       "  <tbody>\n",
       "    <tr>\n",
       "      <th>1</th>\n",
       "      <td>0</td>\n",
       "      <td>3</td>\n",
       "      <td>Braund, Mr. Owen Harris</td>\n",
       "      <td>male</td>\n",
       "      <td>22.0</td>\n",
       "      <td>1</td>\n",
       "      <td>0</td>\n",
       "      <td>A/5 21171</td>\n",
       "      <td>7.2500</td>\n",
       "      <td>NaN</td>\n",
       "      <td>S</td>\n",
       "    </tr>\n",
       "    <tr>\n",
       "      <th>2</th>\n",
       "      <td>1</td>\n",
       "      <td>1</td>\n",
       "      <td>Cumings, Mrs. John Bradley (Florence Briggs Th...</td>\n",
       "      <td>female</td>\n",
       "      <td>38.0</td>\n",
       "      <td>1</td>\n",
       "      <td>0</td>\n",
       "      <td>PC 17599</td>\n",
       "      <td>71.2833</td>\n",
       "      <td>C85</td>\n",
       "      <td>C</td>\n",
       "    </tr>\n",
       "    <tr>\n",
       "      <th>3</th>\n",
       "      <td>1</td>\n",
       "      <td>3</td>\n",
       "      <td>Heikkinen, Miss. Laina</td>\n",
       "      <td>female</td>\n",
       "      <td>26.0</td>\n",
       "      <td>0</td>\n",
       "      <td>0</td>\n",
       "      <td>STON/O2. 3101282</td>\n",
       "      <td>7.9250</td>\n",
       "      <td>NaN</td>\n",
       "      <td>S</td>\n",
       "    </tr>\n",
       "    <tr>\n",
       "      <th>4</th>\n",
       "      <td>1</td>\n",
       "      <td>1</td>\n",
       "      <td>Futrelle, Mrs. Jacques Heath (Lily May Peel)</td>\n",
       "      <td>female</td>\n",
       "      <td>35.0</td>\n",
       "      <td>1</td>\n",
       "      <td>0</td>\n",
       "      <td>113803</td>\n",
       "      <td>53.1000</td>\n",
       "      <td>C123</td>\n",
       "      <td>S</td>\n",
       "    </tr>\n",
       "    <tr>\n",
       "      <th>5</th>\n",
       "      <td>0</td>\n",
       "      <td>3</td>\n",
       "      <td>Allen, Mr. William Henry</td>\n",
       "      <td>male</td>\n",
       "      <td>35.0</td>\n",
       "      <td>0</td>\n",
       "      <td>0</td>\n",
       "      <td>373450</td>\n",
       "      <td>8.0500</td>\n",
       "      <td>NaN</td>\n",
       "      <td>S</td>\n",
       "    </tr>\n",
       "  </tbody>\n",
       "</table>\n",
       "</div>"
      ],
      "text/plain": [
       "             Survived  Pclass  \\\n",
       "PassengerId                     \n",
       "1                   0       3   \n",
       "2                   1       1   \n",
       "3                   1       3   \n",
       "4                   1       1   \n",
       "5                   0       3   \n",
       "\n",
       "                                                          Name     Sex   Age  \\\n",
       "PassengerId                                                                    \n",
       "1                                      Braund, Mr. Owen Harris    male  22.0   \n",
       "2            Cumings, Mrs. John Bradley (Florence Briggs Th...  female  38.0   \n",
       "3                                       Heikkinen, Miss. Laina  female  26.0   \n",
       "4                 Futrelle, Mrs. Jacques Heath (Lily May Peel)  female  35.0   \n",
       "5                                     Allen, Mr. William Henry    male  35.0   \n",
       "\n",
       "             SibSp  Parch            Ticket     Fare Cabin Embarked  \n",
       "PassengerId                                                          \n",
       "1                1      0         A/5 21171   7.2500   NaN        S  \n",
       "2                1      0          PC 17599  71.2833   C85        C  \n",
       "3                0      0  STON/O2. 3101282   7.9250   NaN        S  \n",
       "4                1      0            113803  53.1000  C123        S  \n",
       "5                0      0            373450   8.0500   NaN        S  "
      ]
     },
     "metadata": {},
     "execution_count": 9
    }
   ],
   "metadata": {
    "colab": {},
    "colab_type": "code",
    "id": "DOScCeGGYn4i",
    "outputId": "edcd043f-41a0-4089-bc5f-15bb5a9e11b6"
   }
  },
  {
   "cell_type": "code",
   "execution_count": 10,
   "source": [
    "# Check how many data are missing in these columns\n",
    "titanic.isnull().sum()"
   ],
   "outputs": [
    {
     "output_type": "execute_result",
     "data": {
      "text/plain": [
       "Survived      0\n",
       "Pclass        0\n",
       "Name          0\n",
       "Sex           0\n",
       "Age         177\n",
       "SibSp         0\n",
       "Parch         0\n",
       "Ticket        0\n",
       "Fare          0\n",
       "Cabin       687\n",
       "Embarked      2\n",
       "dtype: int64"
      ]
     },
     "metadata": {},
     "execution_count": 10
    }
   ],
   "metadata": {
    "colab": {},
    "colab_type": "code",
    "id": "9h_m_UmfYn4k",
    "outputId": "2b276654-e19b-4154-e1b4-173b53ec08b9"
   }
  },
  {
   "cell_type": "code",
   "execution_count": 11,
   "source": [
    "def facetgridplot(train, var):\n",
    "    facet = sns.FacetGrid(train, hue=\"Survived\", aspect=4)\n",
    "    facet.map(sns.kdeplot, var, shade= True)\n",
    "    facet.set(xlim=(0, train[var].max()))\n",
    "    facet.add_legend()\n",
    "    plt.show();"
   ],
   "outputs": [],
   "metadata": {
    "colab": {},
    "colab_type": "code",
    "id": "-DlGS9CHYn4m"
   }
  },
  {
   "cell_type": "code",
   "execution_count": 12,
   "source": [
    "def bar_chart(df, feature):\n",
    "    survived = df[df['Survived']==1][feature].value_counts(normalize=True)*100\n",
    "    dead = df[df['Survived']==0][feature].value_counts(normalize=True)*100\n",
    "    data = pd.DataFrame([survived,dead])\n",
    "    data.index = ['Survived','Dead']\n",
    "    data.plot(kind='bar',stacked=True, figsize=(10,5))"
   ],
   "outputs": [],
   "metadata": {
    "colab": {},
    "colab_type": "code",
    "id": "t2JQ7sqNYn4p"
   }
  },
  {
   "cell_type": "code",
   "execution_count": 13,
   "source": [
    "# Sex\n",
    "bar_chart(titanic, 'Sex')"
   ],
   "outputs": [
    {
     "output_type": "display_data",
     "data": {
      "image/png": "[encoded data removed]",
      "text/plain": [
       "<Figure size 720x360 with 1 Axes>"
      ]
     },
     "metadata": {
      "needs_background": "light"
     }
    }
   ],
   "metadata": {
    "colab": {},
    "colab_type": "code",
    "id": "_FX3DytDYn4r",
    "outputId": "34a30062-e762-4cef-9e03-53590b5c884f"
   }
  },
  {
   "cell_type": "code",
   "execution_count": 18,
   "source": [
    "# Pclass\n",
    "bar_chart(titanic, 'Pclass')"
   ],
   "outputs": [
    {
     "output_type": "display_data",
     "data": {
      "image/png": "[encoded data removed]",
      "text/plain": [
       "<Figure size 720x360 with 1 Axes>"
      ]
     },
     "metadata": {
      "needs_background": "light"
     }
    }
   ],
   "metadata": {
    "colab": {},
    "colab_type": "code",
    "id": "eF53noqGYn4t",
    "outputId": "2844e1fc-6d1a-4e2a-edbd-2174b945424e"
   }
  },
  {
   "cell_type": "code",
   "execution_count": 19,
   "source": [
    "# Embarked\n",
    "bar_chart(titanic, 'Embarked')"
   ],
   "outputs": [
    {
     "output_type": "display_data",
     "data": {
      "image/png": "[encoded data removed]",
      "text/plain": [
       "<Figure size 720x360 with 1 Axes>"
      ]
     },
     "metadata": {
      "needs_background": "light"
     }
    }
   ],
   "metadata": {
    "colab": {},
    "colab_type": "code",
    "id": "CwMUENWLYn4v",
    "outputId": "92d53a8d-673d-4bbb-b291-f06a8129bfe5"
   }
  },
  {
   "cell_type": "code",
   "execution_count": 20,
   "source": [
    "# Find median age by sex\n",
    "\n",
    "titanic.groupby(\"Sex\")[\"Age\"].median()"
   ],
   "outputs": [
    {
     "output_type": "execute_result",
     "data": {
      "text/plain": [
       "Sex\n",
       "female    27.0\n",
       "male      29.0\n",
       "Name: Age, dtype: float64"
      ]
     },
     "metadata": {},
     "execution_count": 20
    }
   ],
   "metadata": {}
  },
  {
   "cell_type": "code",
   "execution_count": 21,
   "source": [
    "# The following is an array of the median age by sex\n",
    "titanic.groupby(\"Sex\")[\"Age\"].transform(\"median\")"
   ],
   "outputs": [
    {
     "output_type": "execute_result",
     "data": {
      "text/plain": [
       "PassengerId\n",
       "1      29.0\n",
       "2      27.0\n",
       "3      27.0\n",
       "4      27.0\n",
       "5      29.0\n",
       "       ... \n",
       "887    29.0\n",
       "888    27.0\n",
       "889    27.0\n",
       "890    29.0\n",
       "891    29.0\n",
       "Name: Age, Length: 891, dtype: float64"
      ]
     },
     "metadata": {},
     "execution_count": 21
    }
   ],
   "metadata": {}
  },
  {
   "cell_type": "code",
   "execution_count": 13,
   "source": [
    "# fill missing age with median age for each sex (0 (male), 1 (female)) in new column\n",
    "titanic[\"Age_imp\"] = titanic[\"Age\"].fillna(   titanic.groupby(\"Sex\")[\"Age\"].transform(\"median\")    )\n",
    "\n",
    "# check values\n",
    "titanic[titanic['Age'].isnull()][['Sex', 'Age', 'Age_imp']].head(10)"
   ],
   "outputs": [
    {
     "output_type": "execute_result",
     "data": {
      "text/html": [
       "<div>\n",
       "<style scoped>\n",
       "    .dataframe tbody tr th:only-of-type {\n",
       "        vertical-align: middle;\n",
       "    }\n",
       "\n",
       "    .dataframe tbody tr th {\n",
       "        vertical-align: top;\n",
       "    }\n",
       "\n",
       "    .dataframe thead th {\n",
       "        text-align: right;\n",
       "    }\n",
       "</style>\n",
       "<table border=\"1\" class=\"dataframe\">\n",
       "  <thead>\n",
       "    <tr style=\"text-align: right;\">\n",
       "      <th></th>\n",
       "      <th>Sex</th>\n",
       "      <th>Age</th>\n",
       "      <th>Age_imp</th>\n",
       "    </tr>\n",
       "    <tr>\n",
       "      <th>PassengerId</th>\n",
       "      <th></th>\n",
       "      <th></th>\n",
       "      <th></th>\n",
       "    </tr>\n",
       "  </thead>\n",
       "  <tbody>\n",
       "    <tr>\n",
       "      <th>6</th>\n",
       "      <td>male</td>\n",
       "      <td>NaN</td>\n",
       "      <td>29.0</td>\n",
       "    </tr>\n",
       "    <tr>\n",
       "      <th>18</th>\n",
       "      <td>male</td>\n",
       "      <td>NaN</td>\n",
       "      <td>29.0</td>\n",
       "    </tr>\n",
       "    <tr>\n",
       "      <th>20</th>\n",
       "      <td>female</td>\n",
       "      <td>NaN</td>\n",
       "      <td>27.0</td>\n",
       "    </tr>\n",
       "    <tr>\n",
       "      <th>27</th>\n",
       "      <td>male</td>\n",
       "      <td>NaN</td>\n",
       "      <td>29.0</td>\n",
       "    </tr>\n",
       "    <tr>\n",
       "      <th>29</th>\n",
       "      <td>female</td>\n",
       "      <td>NaN</td>\n",
       "      <td>27.0</td>\n",
       "    </tr>\n",
       "    <tr>\n",
       "      <th>30</th>\n",
       "      <td>male</td>\n",
       "      <td>NaN</td>\n",
       "      <td>29.0</td>\n",
       "    </tr>\n",
       "    <tr>\n",
       "      <th>32</th>\n",
       "      <td>female</td>\n",
       "      <td>NaN</td>\n",
       "      <td>27.0</td>\n",
       "    </tr>\n",
       "    <tr>\n",
       "      <th>33</th>\n",
       "      <td>female</td>\n",
       "      <td>NaN</td>\n",
       "      <td>27.0</td>\n",
       "    </tr>\n",
       "    <tr>\n",
       "      <th>37</th>\n",
       "      <td>male</td>\n",
       "      <td>NaN</td>\n",
       "      <td>29.0</td>\n",
       "    </tr>\n",
       "    <tr>\n",
       "      <th>43</th>\n",
       "      <td>male</td>\n",
       "      <td>NaN</td>\n",
       "      <td>29.0</td>\n",
       "    </tr>\n",
       "  </tbody>\n",
       "</table>\n",
       "</div>"
      ],
      "text/plain": [
       "                Sex  Age  Age_imp\n",
       "PassengerId                      \n",
       "6              male  NaN     29.0\n",
       "18             male  NaN     29.0\n",
       "20           female  NaN     27.0\n",
       "27             male  NaN     29.0\n",
       "29           female  NaN     27.0\n",
       "30             male  NaN     29.0\n",
       "32           female  NaN     27.0\n",
       "33           female  NaN     27.0\n",
       "37             male  NaN     29.0\n",
       "43             male  NaN     29.0"
      ]
     },
     "metadata": {},
     "execution_count": 13
    }
   ],
   "metadata": {
    "colab": {},
    "colab_type": "code",
    "id": "rRdfZI6PYn4x"
   }
  },
  {
   "cell_type": "code",
   "execution_count": 14,
   "source": [
    "# Age\n",
    "facetgridplot(titanic, 'Age')"
   ],
   "outputs": [
    {
     "output_type": "display_data",
     "data": {
      "image/png": "[encoded data removed]",
      "text/plain": [
       "<Figure size 915.875x216 with 1 Axes>"
      ]
     },
     "metadata": {
      "needs_background": "light"
     }
    }
   ],
   "metadata": {
    "colab": {},
    "colab_type": "code",
    "id": "WPtCcoBIYn4z",
    "outputId": "54b0b26c-0f25-4125-effd-24ad4a7789a1"
   }
  },
  {
   "cell_type": "code",
   "execution_count": 15,
   "source": [
    "# Age\n",
    "facetgridplot(titanic, 'Age_imp')"
   ],
   "outputs": [
    {
     "output_type": "display_data",
     "data": {
      "image/png": "[encoded data removed]",
      "text/plain": [
       "<Figure size 915.875x216 with 1 Axes>"
      ]
     },
     "metadata": {
      "needs_background": "light"
     }
    }
   ],
   "metadata": {}
  },
  {
   "cell_type": "code",
   "execution_count": 25,
   "source": [
    "# Fare\n",
    "facetgridplot(titanic, 'Fare')"
   ],
   "outputs": [
    {
     "output_type": "display_data",
     "data": {
      "image/png": "[encoded data removed]",
      "text/plain": [
       "<Figure size 915.875x216 with 1 Axes>"
      ]
     },
     "metadata": {
      "needs_background": "light"
     }
    }
   ],
   "metadata": {
    "colab": {},
    "colab_type": "code",
    "id": "08-rVdQkYn41",
    "outputId": "4ae2b8f8-e15a-48d8-9e52-127d89914c53"
   }
  },
  {
   "cell_type": "code",
   "execution_count": 16,
   "source": [
    "# fill missing embarked with `S` as most people embarked from there\n",
    "titanic['Embarked'].fillna('S', inplace=True)"
   ],
   "outputs": [],
   "metadata": {
    "colab": {},
    "colab_type": "code",
    "id": "isPGW1FhYn43"
   }
  },
  {
   "cell_type": "code",
   "execution_count": 17,
   "source": [
    "bar_chart(titanic, 'Embarked')"
   ],
   "outputs": [
    {
     "output_type": "display_data",
     "data": {
      "image/png": "[encoded data removed]",
      "text/plain": [
       "<Figure size 720x360 with 1 Axes>"
      ]
     },
     "metadata": {
      "needs_background": "light"
     }
    }
   ],
   "metadata": {
    "colab": {},
    "colab_type": "code",
    "id": "wdlgSsrwYn45",
    "outputId": "e0667b99-3f1d-4680-cd63-d12521e0685e"
   }
  },
  {
   "cell_type": "code",
   "execution_count": null,
   "source": [
    "Pre-processing "
   ],
   "outputs": [],
   "metadata": {}
  },
  {
   "cell_type": "markdown",
   "source": [
    "### 3. Numerical Predictors Only"
   ],
   "metadata": {
    "colab_type": "text",
    "id": "uxrHcNYzSrFN"
   }
  },
  {
   "cell_type": "markdown",
   "source": [
    "#### 3.1. Set Target and Features\n",
    "\n",
    "To begin, let's try a model based on the passenger class and parents/children features:"
   ],
   "metadata": {
    "colab_type": "text",
    "id": "gWs3gb8KSrFP"
   }
  },
  {
   "cell_type": "code",
   "execution_count": 18,
   "source": [
    "# ANSWER\n",
    "feature_cols = ['Pclass', 'Parch']\n",
    "X = titanic[feature_cols]\n",
    "y = titanic['Survived']"
   ],
   "outputs": [],
   "metadata": {
    "colab": {},
    "colab_type": "code",
    "id": "5hIpl6VeSrFR"
   }
  },
  {
   "cell_type": "markdown",
   "source": [
    "#### 3.2 Partition"
   ],
   "metadata": {
    "colab_type": "text",
    "id": "9ZzimF2sYn4_"
   }
  },
  {
   "cell_type": "markdown",
   "source": [
    "Partition the data into training and testing subsets:"
   ],
   "metadata": {
    "colab_type": "text",
    "id": "kc2wfIDqSrFT"
   }
  },
  {
   "cell_type": "code",
   "execution_count": 19,
   "source": [
    "# ANSWER\n",
    "X_train, X_test, y_train, y_test = train_test_split(X, y, test_size=0.2, random_state=1)"
   ],
   "outputs": [],
   "metadata": {
    "colab": {},
    "colab_type": "code",
    "id": "CbfZLOdRSrFU"
   }
  },
  {
   "cell_type": "markdown",
   "source": [
    "#### 3.3. Build Model\n",
    "\n",
    "Prepare a model by creating an instance of the `LogisticRegression` class from the `sklearn.linear_model` library:"
   ],
   "metadata": {
    "colab_type": "text",
    "id": "l8p1bdc1SrFW"
   }
  },
  {
   "cell_type": "code",
   "execution_count": 20,
   "source": [
    "# ANSWER\n",
    "# Create Model\n",
    "logreg = LogisticRegression(solver='liblinear', max_iter=10000)"
   ],
   "outputs": [],
   "metadata": {
    "colab": {},
    "colab_type": "code",
    "id": "nIhxqfrXSrFY"
   }
  },
  {
   "cell_type": "markdown",
   "source": [
    "Now train it on the training data subset, using the `fit` method of the model object (Nb. by default, `fit` will print the hyperparameters of the model):"
   ],
   "metadata": {
    "colab_type": "text",
    "id": "HJNFicg9SrFa"
   }
  },
  {
   "cell_type": "code",
   "execution_count": 21,
   "source": [
    "# ANSWER\n",
    "# Fit Model\n",
    "logreg.fit(X_train, y_train)"
   ],
   "outputs": [
    {
     "output_type": "execute_result",
     "data": {
      "text/plain": [
       "LogisticRegression(max_iter=10000, solver='liblinear')"
      ]
     },
     "metadata": {},
     "execution_count": 21
    }
   ],
   "metadata": {
    "colab": {},
    "colab_type": "code",
    "id": "lzefYEzfSrFb",
    "outputId": "fd681b38-96a3-44c6-ed06-156125de1b96"
   }
  },
  {
   "cell_type": "markdown",
   "source": [
    "The computed coefficients are an array stored in the 1st element of an array:"
   ],
   "metadata": {
    "colab_type": "text",
    "id": "JsfC92SgSrFd"
   }
  },
  {
   "cell_type": "code",
   "execution_count": 22,
   "source": [
    "# ANSWER\n",
    "logreg.coef_"
   ],
   "outputs": [
    {
     "output_type": "execute_result",
     "data": {
      "text/plain": [
       "array([[-0.88004686,  0.33746428]])"
      ]
     },
     "metadata": {},
     "execution_count": 22
    }
   ],
   "metadata": {
    "colab": {},
    "colab_type": "code",
    "id": "Kr7GMdllSrFe",
    "outputId": "e88bcae4-35ce-40da-bd80-1e8bcab95529"
   }
  },
  {
   "cell_type": "markdown",
   "source": [
    "The computed intercept is the 1st element of another array:"
   ],
   "metadata": {
    "colab_type": "text",
    "id": "KL7uKC8USrFh"
   }
  },
  {
   "cell_type": "code",
   "execution_count": 23,
   "source": [
    "# ANSWER\n",
    "logreg.intercept_"
   ],
   "outputs": [
    {
     "output_type": "execute_result",
     "data": {
      "text/plain": [
       "array([1.33560599])"
      ]
     },
     "metadata": {},
     "execution_count": 23
    }
   ],
   "metadata": {
    "colab": {},
    "colab_type": "code",
    "id": "4TudzIpjSrFi",
    "outputId": "66345e0b-0e2f-4d21-cb81-fdee13b968a8"
   }
  },
  {
   "cell_type": "markdown",
   "source": [
    "We can create tuples of the predictor names and coefficients like this:"
   ],
   "metadata": {
    "colab_type": "text",
    "id": "SSc0PEbjSrFk"
   }
  },
  {
   "cell_type": "code",
   "execution_count": 169,
   "source": [
    "# ANSWER\n",
    "print(set(zip(feature_cols, logreg.coef_[0])))"
   ],
   "outputs": [
    {
     "output_type": "stream",
     "name": "stdout",
     "text": [
      "{('Parch', 0.33746427592522643), ('Pclass', -0.8800468638257546)}\n"
     ]
    }
   ],
   "metadata": {
    "colab": {},
    "colab_type": "code",
    "id": "DlaUpqxRSrFk",
    "outputId": "7728b7ed-82d3-4486-97d1-e4e106a162c7"
   }
  },
  {
   "cell_type": "markdown",
   "source": [
    "> Be careful when interpret coef & intercept of logistic regression as it is in log(odds) logit function log(p/1-p)"
   ],
   "metadata": {}
  },
  {
   "cell_type": "code",
   "execution_count": 170,
   "source": [
    "pd.DataFrame({'feature': feature_cols, 'coefficient': logreg.coef_[0]})"
   ],
   "outputs": [
    {
     "output_type": "execute_result",
     "data": {
      "text/html": [
       "<div>\n",
       "<style scoped>\n",
       "    .dataframe tbody tr th:only-of-type {\n",
       "        vertical-align: middle;\n",
       "    }\n",
       "\n",
       "    .dataframe tbody tr th {\n",
       "        vertical-align: top;\n",
       "    }\n",
       "\n",
       "    .dataframe thead th {\n",
       "        text-align: right;\n",
       "    }\n",
       "</style>\n",
       "<table border=\"1\" class=\"dataframe\">\n",
       "  <thead>\n",
       "    <tr style=\"text-align: right;\">\n",
       "      <th></th>\n",
       "      <th>feature</th>\n",
       "      <th>coefficient</th>\n",
       "    </tr>\n",
       "  </thead>\n",
       "  <tbody>\n",
       "    <tr>\n",
       "      <th>0</th>\n",
       "      <td>Pclass</td>\n",
       "      <td>-0.880047</td>\n",
       "    </tr>\n",
       "    <tr>\n",
       "      <th>1</th>\n",
       "      <td>Parch</td>\n",
       "      <td>0.337464</td>\n",
       "    </tr>\n",
       "  </tbody>\n",
       "</table>\n",
       "</div>"
      ],
      "text/plain": [
       "  feature  coefficient\n",
       "0  Pclass    -0.880047\n",
       "1   Parch     0.337464"
      ]
     },
     "metadata": {},
     "execution_count": 170
    }
   ],
   "metadata": {}
  },
  {
   "cell_type": "markdown",
   "source": [
    "If we want formatted output, here is a neat way to list the coefficients by predictor:"
   ],
   "metadata": {
    "colab_type": "text",
    "id": "duCXO8aqSrFm"
   }
  },
  {
   "cell_type": "code",
   "execution_count": 180,
   "source": [
    "for col in zip(feature_cols, logreg.coef_[0]):\n",
    "    print(f'{col[0]}   {col[1]}')  # Nb. increase 10 for longer names"
   ],
   "outputs": [
    {
     "output_type": "stream",
     "name": "stdout",
     "text": [
      "Pclass   -0.8800468638257546\n",
      "Parch   0.33746427592522643\n"
     ]
    }
   ],
   "metadata": {
    "colab": {},
    "colab_type": "code",
    "id": "jiz-vjACSrFm",
    "outputId": "7777af20-3087-4cfb-aca8-812a3bbae2b9"
   }
  },
  {
   "cell_type": "markdown",
   "source": [
    "This result implies that survival declines with passenger class (i.e. 1st class is highest) but increases with the number of parents or children in a group."
   ],
   "metadata": {
    "colab_type": "text",
    "id": "65YucOmmSrFo"
   }
  },
  {
   "cell_type": "markdown",
   "source": [
    "Let's see how well the model fit the training data. The `accuracy_score` is the proportion of correct predictions:"
   ],
   "metadata": {
    "colab_type": "text",
    "id": "5FkRLS3oSrFp"
   }
  },
  {
   "cell_type": "code",
   "execution_count": 181,
   "source": [
    "print('accuracy = {:7.4f}'.format(logreg.score(X_train, y_train)))"
   ],
   "outputs": [
    {
     "output_type": "stream",
     "name": "stdout",
     "text": [
      "accuracy =  0.6924\n"
     ]
    }
   ],
   "metadata": {
    "colab": {},
    "colab_type": "code",
    "id": "-Gep5OXUSrFp",
    "outputId": "386c4faa-1426-45b9-ba8e-8f153c3b4b02"
   }
  },
  {
   "cell_type": "markdown",
   "source": [
    "What is the  `accuracy_score` for the test data?"
   ],
   "metadata": {
    "colab_type": "text",
    "id": "_alclvzjSrFs"
   }
  },
  {
   "cell_type": "code",
   "execution_count": 182,
   "source": [
    "#?\n",
    "print('accuracy = {:7.4f}'.format(logreg.score(X_test, y_test)))"
   ],
   "outputs": [
    {
     "output_type": "stream",
     "name": "stdout",
     "text": [
      "accuracy =  0.6536\n"
     ]
    }
   ],
   "metadata": {
    "colab": {},
    "colab_type": "code",
    "id": "2GRLpAdmSrFt",
    "outputId": "a44c9b0e-2593-423c-ba2a-0654f29b5362"
   }
  },
  {
   "cell_type": "code",
   "execution_count": null,
   "source": [],
   "outputs": [],
   "metadata": {}
  },
  {
   "cell_type": "markdown",
   "source": [
    "What can we say aout this result?"
   ],
   "metadata": {
    "colab_type": "text",
    "id": "KwgPpa5sSrFw"
   }
  },
  {
   "cell_type": "markdown",
   "source": [
    "ANSWER\n",
    "- test set is predicted almost as well as training set\n",
    "- overfitting seems unlikely"
   ],
   "metadata": {
    "colab_type": "text",
    "id": "7XUWZoBRSrFx"
   }
  },
  {
   "cell_type": "markdown",
   "source": [
    "#### 3.4. Add `AGE` as Feature"
   ],
   "metadata": {
    "colab_type": "text",
    "id": "mFJMt9-FYn5f"
   }
  },
  {
   "cell_type": "markdown",
   "source": [
    "Let's include `Age` in the model. As we know from our EDA, this feature has many missing values. We don't want to throw away so many rows, so we will replace `NA` values with imputed values (e.g. the overall mean age):"
   ],
   "metadata": {
    "colab_type": "text",
    "id": "Rxmg3b2wSrFy"
   }
  },
  {
   "cell_type": "code",
   "execution_count": 25,
   "source": [
    "# ANSWER\n",
    "titanic['Age'].fillna(titanic.Age.mean(), inplace=True)\n",
    "feature_cols = ['Pclass', 'Parch', 'Age']\n",
    "X = titanic[feature_cols]\n",
    "X_train, X_test, y_train, y_test = train_test_split(X, y, test_size=0.2, random_state=1)"
   ],
   "outputs": [],
   "metadata": {
    "colab": {},
    "colab_type": "code",
    "id": "IVfjTrF8SrFy"
   }
  },
  {
   "cell_type": "code",
   "execution_count": 26,
   "source": [
    "# Build Model\n",
    "logreg = LogisticRegression(solver='liblinear', max_iter=10000)\n",
    "\n",
    "# Fit Model\n",
    "logreg.fit(X_train, y_train)\n",
    "\n",
    "# Score\n",
    "logreg_score = logreg.score(X_train, y_train)\n",
    "print('accuracy = {:1.4f}'.format(logreg_score))"
   ],
   "outputs": [
    {
     "output_type": "stream",
     "name": "stdout",
     "text": [
      "accuracy = 0.7219\n"
     ]
    }
   ],
   "metadata": {
    "colab": {},
    "colab_type": "code",
    "id": "SwLXZyiHYn5i",
    "outputId": "34ea74f3-84d3-4426-a858-103068572bd6"
   }
  },
  {
   "cell_type": "code",
   "execution_count": 27,
   "source": [
    "logreg_score = logreg.score(X_test, y_test)\n",
    "print('accuracy = {:1.4f}'.format(logreg_score))"
   ],
   "outputs": [
    {
     "output_type": "stream",
     "name": "stdout",
     "text": [
      "accuracy = 0.6872\n"
     ]
    }
   ],
   "metadata": {}
  },
  {
   "cell_type": "code",
   "execution_count": 186,
   "source": [
    "titanic.Age.mean()"
   ],
   "outputs": [
    {
     "output_type": "execute_result",
     "data": {
      "text/plain": [
       "29.69911764705882"
      ]
     },
     "metadata": {},
     "execution_count": 186
    }
   ],
   "metadata": {}
  },
  {
   "cell_type": "code",
   "execution_count": 105,
   "source": [
    "titanic.groupby('Sex')['Age'].mean()"
   ],
   "outputs": [
    {
     "output_type": "execute_result",
     "data": {
      "text/plain": [
       "Sex\n",
       "female    28.216730\n",
       "male      30.505824\n",
       "Name: Age, dtype: float64"
      ]
     },
     "metadata": {},
     "execution_count": 105
    }
   ],
   "metadata": {}
  },
  {
   "cell_type": "markdown",
   "source": [
    "So, including age did little to reduce the variance in our model. Why might this be?"
   ],
   "metadata": {
    "colab_type": "text",
    "id": "v6_aYK1oSrF0"
   }
  },
  {
   "cell_type": "markdown",
   "source": [
    "ANSWER\n",
    "\n",
    "- age is not related to Titanic survival\n",
    "- age is not independent of other features already in the model\n",
    "- imputing the missing values distorted the distribution too much"
   ],
   "metadata": {
    "colab_type": "text",
    "id": "w1pzei3QSrF1"
   }
  },
  {
   "cell_type": "markdown",
   "source": [
    "Let's see where the model is going wrong by showing the Confusion Matrix:"
   ],
   "metadata": {
    "colab_type": "text",
    "id": "bPLvK9s2SrF1"
   }
  },
  {
   "cell_type": "code",
   "execution_count": 187,
   "source": [
    "y_pred_class = logreg.predict(X_test)\n",
    "print(metrics.confusion_matrix(y_test, y_pred_class))"
   ],
   "outputs": [
    {
     "output_type": "stream",
     "name": "stdout",
     "text": [
      "[[93 13]\n",
      " [43 30]]\n"
     ]
    }
   ],
   "metadata": {
    "colab": {},
    "colab_type": "code",
    "id": "rAzihOU2SrF1",
    "outputId": "ccef79f2-c0c6-49e8-8fa6-64c796dc696e"
   }
  },
  {
   "cell_type": "markdown",
   "source": [
    "Nb. Here is how `confusion_matrix` arranges its output:"
   ],
   "metadata": {
    "colab_type": "text",
    "id": "S-mclQOiSrF3"
   }
  },
  {
   "cell_type": "code",
   "execution_count": 188,
   "source": [
    "print(np.asarray([['TN', 'FP'], ['FN', 'TP']]))"
   ],
   "outputs": [
    {
     "output_type": "stream",
     "name": "stdout",
     "text": [
      "[['TN' 'FP']\n",
      " ['FN' 'TP']]\n"
     ]
    }
   ],
   "metadata": {
    "colab": {},
    "colab_type": "code",
    "id": "QquT0zbNSrF4",
    "outputId": "5538402f-d0a4-4d98-bc28-3be5ab2276f5"
   }
  },
  {
   "cell_type": "code",
   "execution_count": 189,
   "source": [
    "# Plot confusion matrix\n",
    "metrics.plot_confusion_matrix(logreg, X_test, y_test,\n",
    "                              display_labels=['Died', 'Survived'],\n",
    "                              cmap=plt.cm.Blues,\n",
    "                              values_format='d')\n",
    "plt.title('Confusion matrix for logistic regression model')\n",
    "plt.show()"
   ],
   "outputs": [
    {
     "output_type": "display_data",
     "data": {
      "image/png": "[encoded data removed]",
      "text/plain": [
       "<Figure size 432x288 with 2 Axes>"
      ]
     },
     "metadata": {
      "needs_background": "light"
     }
    }
   ],
   "metadata": {}
  },
  {
   "cell_type": "code",
   "execution_count": 191,
   "source": [
    "print(metrics.classification_report(y_test, y_pred_class))"
   ],
   "outputs": [
    {
     "output_type": "stream",
     "name": "stdout",
     "text": [
      "              precision    recall  f1-score   support\n",
      "\n",
      "           0       0.68      0.88      0.77       106\n",
      "           1       0.70      0.41      0.52        73\n",
      "\n",
      "    accuracy                           0.69       179\n",
      "   macro avg       0.69      0.64      0.64       179\n",
      "weighted avg       0.69      0.69      0.67       179\n",
      "\n"
     ]
    }
   ],
   "metadata": {}
  },
  {
   "cell_type": "markdown",
   "source": [
    "Which type of error is more prevalent?"
   ],
   "metadata": {
    "colab_type": "text",
    "id": "j9sT-8GqSrF6"
   }
  },
  {
   "cell_type": "markdown",
   "source": [
    "ANSWER:Type 2 (false negatives)."
   ],
   "metadata": {
    "colab_type": "text",
    "id": "E08zup6gSrF7"
   }
  },
  {
   "cell_type": "code",
   "execution_count": 30,
   "source": [
    "logreg.predict_proba(X_test)[:, 1]"
   ],
   "outputs": [
    {
     "output_type": "execute_result",
     "data": {
      "text/plain": [
       "array([0.5364334 , 0.20032266, 0.49835847, 0.20032266, 0.69238693,\n",
       "       0.24224889, 0.49605916, 0.62491479, 0.66967489, 0.20032266,\n",
       "       0.22226182, 0.21745321, 0.49444411, 0.41033025, 0.20032266,\n",
       "       0.66967489, 0.42690627, 0.2271459 , 0.17351305, 0.64644327,\n",
       "       0.19018835, 0.21745321, 0.6939942 , 0.49135029, 0.27724785,\n",
       "       0.21272018, 0.8085282 , 0.33015823, 0.43563626, 0.70577087,\n",
       "       0.23713971, 0.65905332, 0.42524654, 0.22226182, 0.1561584 ,\n",
       "       0.46150032, 0.61832056, 0.20032266, 0.68800811, 0.24743244,\n",
       "       0.21272018, 0.3162414 , 0.60892173, 0.55381145, 0.72701277,\n",
       "       0.17757048, 0.4200615 , 0.34901741, 0.62491479, 0.50536729,\n",
       "       0.41033025, 0.47035713, 0.48434551, 0.36836144, 0.20348099,\n",
       "       0.2271459 , 0.41508098, 0.44559688, 0.42524654, 0.24743244,\n",
       "       0.30011046, 0.20032266, 0.48844953, 0.55727271, 0.67584701,\n",
       "       0.30424351, 0.30077719, 0.21745321, 0.41606473, 0.38538527,\n",
       "       0.2271459 , 0.33729258, 0.55034497, 0.20032266, 0.24452826,\n",
       "       0.46746641, 0.62491479, 0.20032266, 0.4664582 , 0.73945708,\n",
       "       0.21745321, 0.30011046, 0.20032266, 0.18170193, 0.45641516,\n",
       "       0.20348099, 0.20032266, 0.20032266, 0.45454081, 0.40829074,\n",
       "       0.54339765, 0.20032266, 0.22226182, 0.20032266, 0.20032266,\n",
       "       0.65715529, 0.09923421, 0.20032266, 0.25268992, 0.20032266,\n",
       "       0.65905332, 0.60500263, 0.24684221, 0.31269983, 0.78783128,\n",
       "       0.23210528, 0.20348099, 0.20348099, 0.3824576 , 0.15069657,\n",
       "       0.52945491, 0.23713971, 0.29407248, 0.22226182, 0.45641516,\n",
       "       0.18590778, 0.41508098, 0.65081115, 0.36836144, 0.19454393,\n",
       "       0.42190364, 0.57507831, 0.20032266, 0.49135029, 0.76135337,\n",
       "       0.7229296 , 0.42190364, 0.23713971, 0.30011046, 0.20032266,\n",
       "       0.2271459 , 0.14365972, 0.42460337, 0.67584701, 0.18590778,\n",
       "       0.4664582 , 0.82121242, 0.48946166, 0.25802081, 0.23210528,\n",
       "       0.79056434, 0.16178047, 0.83708922, 0.20032266, 0.20032266,\n",
       "       0.25802081, 0.40153532, 0.20032266, 0.42524654, 0.23713971,\n",
       "       0.41606473, 0.12726049, 0.41606473, 0.23713971, 0.20032266,\n",
       "       0.19018835, 0.23713971, 0.15069657, 0.42875623, 0.45641516,\n",
       "       0.36186265, 0.20806278, 0.24224889, 0.66967489, 0.21745321,\n",
       "       0.27444768, 0.51647764, 0.20032266, 0.2689004 , 0.59944138,\n",
       "       0.62491479, 0.48245827, 0.65715529, 0.31269983, 0.52945491,\n",
       "       0.65905332, 0.20032266, 0.24224889, 0.39578531])"
      ]
     },
     "metadata": {},
     "execution_count": 30
    }
   ],
   "metadata": {
    "collapsed": true,
    "jupyter": {
     "outputs_hidden": true
    },
    "tags": []
   }
  },
  {
   "cell_type": "markdown",
   "source": [
    "Maybe we aren't using the right cut-off value. By default, we are predicting that `Survival` = True if the probability >= 0.5, but we could use a different threshold. The ROC curve helps us decide (as well as showing us how good our predictive model really is):"
   ],
   "metadata": {
    "colab_type": "text",
    "id": "tOPBQRsGSrF8"
   }
  },
  {
   "cell_type": "code",
   "execution_count": 31,
   "source": [
    "roc_auc"
   ],
   "outputs": [
    {
     "output_type": "execute_result",
     "data": {
      "text/plain": [
       "0.6578573274747997"
      ]
     },
     "metadata": {},
     "execution_count": 31
    }
   ],
   "metadata": {}
  },
  {
   "cell_type": "code",
   "execution_count": 28,
   "source": [
    "# Generate the prediction values for each of the test observations using predict_proba() function rather than just predict\n",
    "preds = logreg.predict_proba(X_test)[:,1]\n",
    "\n",
    "# Store the false positive rate(fpr), true positive rate (tpr) in vectors for use in the graph\n",
    "fpr, tpr, _ = metrics.roc_curve(y_test, preds)\n",
    "\n",
    "# Store the Area Under the Curve (AUC) so we can annotate our graph with theis metric\n",
    "roc_auc = metrics.auc(fpr, tpr)\n",
    "\n",
    "# Plot the ROC Curve\n",
    "plt.figure()\n",
    "lw = 2\n",
    "plt.plot(fpr, tpr, color='darkorange', lw = lw, label = 'ROC curve (area = %0.2f)' % roc_auc)\n",
    "plt.plot([0, 1], [0, 1], color = 'navy', lw = lw, linestyle = '--')\n",
    "plt.xlim([0.0, 1.0])\n",
    "plt.ylim([0.0, 1.0])\n",
    "plt.xlabel('False Positive Rate')\n",
    "plt.ylabel('True Positive Rate')\n",
    "plt.title('Receiver operating characteristic example')\n",
    "plt.legend(loc=\"lower right\")\n",
    "plt.show()"
   ],
   "outputs": [
    {
     "output_type": "display_data",
     "data": {
      "image/png": "[encoded data removed]",
      "text/plain": [
       "<Figure size 432x288 with 1 Axes>"
      ]
     },
     "metadata": {
      "needs_background": "light"
     }
    }
   ],
   "metadata": {
    "colab": {},
    "colab_type": "code",
    "id": "mqqqTVZCSrF9",
    "outputId": "17213a8d-512c-4f3b-8425-822d12d80683"
   }
  },
  {
   "cell_type": "markdown",
   "source": [
    "### 4. Including Categorical Predictors"
   ],
   "metadata": {
    "colab_type": "text",
    "id": "WpOA8_TFSrF_"
   }
  },
  {
   "cell_type": "markdown",
   "source": [
    "So far, we've only used numerical features for prediction. Let's convert the character features to dummy variables so we can include them in the model:"
   ],
   "metadata": {
    "colab_type": "text",
    "id": "Zp8r1ePeSrF_"
   }
  },
  {
   "cell_type": "code",
   "execution_count": 200,
   "source": [
    "titanic_with_dummies = pd.get_dummies(data = titanic, columns = ['Sex', 'Embarked', 'Pclass'], \n",
    "                                      prefix = ['Sex', 'Embarked', 'Pclass'] )\n",
    "titanic_with_dummies.head()"
   ],
   "outputs": [
    {
     "output_type": "execute_result",
     "data": {
      "text/html": [
       "<div>\n",
       "<style scoped>\n",
       "    .dataframe tbody tr th:only-of-type {\n",
       "        vertical-align: middle;\n",
       "    }\n",
       "\n",
       "    .dataframe tbody tr th {\n",
       "        vertical-align: top;\n",
       "    }\n",
       "\n",
       "    .dataframe thead th {\n",
       "        text-align: right;\n",
       "    }\n",
       "</style>\n",
       "<table border=\"1\" class=\"dataframe\">\n",
       "  <thead>\n",
       "    <tr style=\"text-align: right;\">\n",
       "      <th></th>\n",
       "      <th>Survived</th>\n",
       "      <th>Name</th>\n",
       "      <th>Age</th>\n",
       "      <th>SibSp</th>\n",
       "      <th>Parch</th>\n",
       "      <th>Ticket</th>\n",
       "      <th>Fare</th>\n",
       "      <th>Cabin</th>\n",
       "      <th>Age_imp</th>\n",
       "      <th>age_group</th>\n",
       "      <th>age_encoder</th>\n",
       "      <th>Sex_female</th>\n",
       "      <th>Sex_male</th>\n",
       "      <th>Embarked_C</th>\n",
       "      <th>Embarked_Q</th>\n",
       "      <th>Embarked_S</th>\n",
       "      <th>Pclass_1</th>\n",
       "      <th>Pclass_2</th>\n",
       "      <th>Pclass_3</th>\n",
       "    </tr>\n",
       "    <tr>\n",
       "      <th>PassengerId</th>\n",
       "      <th></th>\n",
       "      <th></th>\n",
       "      <th></th>\n",
       "      <th></th>\n",
       "      <th></th>\n",
       "      <th></th>\n",
       "      <th></th>\n",
       "      <th></th>\n",
       "      <th></th>\n",
       "      <th></th>\n",
       "      <th></th>\n",
       "      <th></th>\n",
       "      <th></th>\n",
       "      <th></th>\n",
       "      <th></th>\n",
       "      <th></th>\n",
       "      <th></th>\n",
       "      <th></th>\n",
       "      <th></th>\n",
       "    </tr>\n",
       "  </thead>\n",
       "  <tbody>\n",
       "    <tr>\n",
       "      <th>1</th>\n",
       "      <td>0</td>\n",
       "      <td>Braund, Mr. Owen Harris</td>\n",
       "      <td>22.0</td>\n",
       "      <td>1</td>\n",
       "      <td>0</td>\n",
       "      <td>A/5 21171</td>\n",
       "      <td>7.2500</td>\n",
       "      <td>NaN</td>\n",
       "      <td>22.0</td>\n",
       "      <td>earlyTeen</td>\n",
       "      <td>1</td>\n",
       "      <td>0</td>\n",
       "      <td>1</td>\n",
       "      <td>0</td>\n",
       "      <td>0</td>\n",
       "      <td>1</td>\n",
       "      <td>0</td>\n",
       "      <td>0</td>\n",
       "      <td>1</td>\n",
       "    </tr>\n",
       "    <tr>\n",
       "      <th>2</th>\n",
       "      <td>1</td>\n",
       "      <td>Cumings, Mrs. John Bradley (Florence Briggs Th...</td>\n",
       "      <td>38.0</td>\n",
       "      <td>1</td>\n",
       "      <td>0</td>\n",
       "      <td>PC 17599</td>\n",
       "      <td>71.2833</td>\n",
       "      <td>C85</td>\n",
       "      <td>38.0</td>\n",
       "      <td>midAge</td>\n",
       "      <td>3</td>\n",
       "      <td>1</td>\n",
       "      <td>0</td>\n",
       "      <td>1</td>\n",
       "      <td>0</td>\n",
       "      <td>0</td>\n",
       "      <td>1</td>\n",
       "      <td>0</td>\n",
       "      <td>0</td>\n",
       "    </tr>\n",
       "    <tr>\n",
       "      <th>3</th>\n",
       "      <td>1</td>\n",
       "      <td>Heikkinen, Miss. Laina</td>\n",
       "      <td>26.0</td>\n",
       "      <td>0</td>\n",
       "      <td>0</td>\n",
       "      <td>STON/O2. 3101282</td>\n",
       "      <td>7.9250</td>\n",
       "      <td>NaN</td>\n",
       "      <td>26.0</td>\n",
       "      <td>lateTeen</td>\n",
       "      <td>2</td>\n",
       "      <td>1</td>\n",
       "      <td>0</td>\n",
       "      <td>0</td>\n",
       "      <td>0</td>\n",
       "      <td>1</td>\n",
       "      <td>0</td>\n",
       "      <td>0</td>\n",
       "      <td>1</td>\n",
       "    </tr>\n",
       "    <tr>\n",
       "      <th>4</th>\n",
       "      <td>1</td>\n",
       "      <td>Futrelle, Mrs. Jacques Heath (Lily May Peel)</td>\n",
       "      <td>35.0</td>\n",
       "      <td>1</td>\n",
       "      <td>0</td>\n",
       "      <td>113803</td>\n",
       "      <td>53.1000</td>\n",
       "      <td>C123</td>\n",
       "      <td>35.0</td>\n",
       "      <td>midAge</td>\n",
       "      <td>3</td>\n",
       "      <td>1</td>\n",
       "      <td>0</td>\n",
       "      <td>0</td>\n",
       "      <td>0</td>\n",
       "      <td>1</td>\n",
       "      <td>1</td>\n",
       "      <td>0</td>\n",
       "      <td>0</td>\n",
       "    </tr>\n",
       "    <tr>\n",
       "      <th>5</th>\n",
       "      <td>0</td>\n",
       "      <td>Allen, Mr. William Henry</td>\n",
       "      <td>35.0</td>\n",
       "      <td>0</td>\n",
       "      <td>0</td>\n",
       "      <td>373450</td>\n",
       "      <td>8.0500</td>\n",
       "      <td>NaN</td>\n",
       "      <td>35.0</td>\n",
       "      <td>midAge</td>\n",
       "      <td>3</td>\n",
       "      <td>0</td>\n",
       "      <td>1</td>\n",
       "      <td>0</td>\n",
       "      <td>0</td>\n",
       "      <td>1</td>\n",
       "      <td>0</td>\n",
       "      <td>0</td>\n",
       "      <td>1</td>\n",
       "    </tr>\n",
       "  </tbody>\n",
       "</table>\n",
       "</div>"
      ],
      "text/plain": [
       "             Survived                                               Name  \\\n",
       "PassengerId                                                                \n",
       "1                   0                            Braund, Mr. Owen Harris   \n",
       "2                   1  Cumings, Mrs. John Bradley (Florence Briggs Th...   \n",
       "3                   1                             Heikkinen, Miss. Laina   \n",
       "4                   1       Futrelle, Mrs. Jacques Heath (Lily May Peel)   \n",
       "5                   0                           Allen, Mr. William Henry   \n",
       "\n",
       "              Age  SibSp  Parch            Ticket     Fare Cabin  Age_imp  \\\n",
       "PassengerId                                                                 \n",
       "1            22.0      1      0         A/5 21171   7.2500   NaN     22.0   \n",
       "2            38.0      1      0          PC 17599  71.2833   C85     38.0   \n",
       "3            26.0      0      0  STON/O2. 3101282   7.9250   NaN     26.0   \n",
       "4            35.0      1      0            113803  53.1000  C123     35.0   \n",
       "5            35.0      0      0            373450   8.0500   NaN     35.0   \n",
       "\n",
       "             age_group age_encoder  Sex_female  Sex_male  Embarked_C  \\\n",
       "PassengerId                                                            \n",
       "1            earlyTeen           1           0         1           0   \n",
       "2               midAge           3           1         0           1   \n",
       "3             lateTeen           2           1         0           0   \n",
       "4               midAge           3           1         0           0   \n",
       "5               midAge           3           0         1           0   \n",
       "\n",
       "             Embarked_Q  Embarked_S  Pclass_1  Pclass_2  Pclass_3  \n",
       "PassengerId                                                        \n",
       "1                     0           1         0         0         1  \n",
       "2                     0           0         1         0         0  \n",
       "3                     0           1         0         0         1  \n",
       "4                     0           1         1         0         0  \n",
       "5                     0           1         0         0         1  "
      ]
     },
     "metadata": {},
     "execution_count": 200
    }
   ],
   "metadata": {
    "colab": {},
    "colab_type": "code",
    "id": "cbwHVP-bSrGA",
    "outputId": "d1430ede-6331-4f76-dd6f-b0928755f98c"
   }
  },
  {
   "cell_type": "markdown",
   "source": [
    "So, this created a column for every possible value of every categorical variable. (A more compact approach would have been to reduce the number of dummy variables by one for each feature, so that the first vriable from each captures two possible states.)"
   ],
   "metadata": {
    "colab_type": "text",
    "id": "v_WnnEWdSrGB"
   }
  },
  {
   "cell_type": "markdown",
   "source": [
    "Now that we have data on sex, embarkation port, and passenger class we can try to improve our `Age` imputation by stratifying it by the means of groups within the passenger population:"
   ],
   "metadata": {
    "colab_type": "text",
    "id": "FWjijSClSrGB"
   }
  },
  {
   "cell_type": "code",
   "execution_count": 201,
   "source": [
    "# Calculate mean age by parch, sex, passenger class\n",
    "\n",
    "titanic_with_dummies[[\"Age\", \"Parch\", \"Sex_male\", \"Pclass_1\", \"Pclass_2\"]].groupby([\"Parch\", \"Sex_male\", \"Pclass_1\", \"Pclass_2\"])[\"Age\"].mean()"
   ],
   "outputs": [
    {
     "output_type": "execute_result",
     "data": {
      "text/plain": [
       "Parch  Sex_male  Pclass_1  Pclass_2\n",
       "0      0         0         0           26.090266\n",
       "                           1           31.953294\n",
       "                 1         0           35.462390\n",
       "       1         0         0           29.073054\n",
       "                           1           33.233619\n",
       "                 1         0           39.789712\n",
       "1      0         0         0           18.051859\n",
       "                           1           24.666667\n",
       "                 1         0           38.276419\n",
       "       1         0         0           16.917245\n",
       "                           1           18.107143\n",
       "                 1         0           44.071429\n",
       "2      0         0         0           18.035753\n",
       "                           1           20.454545\n",
       "                 1         0           22.230769\n",
       "       1         0         0           16.110866\n",
       "                           1           19.866000\n",
       "                 1         0           21.615000\n",
       "3      0         0         0           36.000000\n",
       "                           1           39.000000\n",
       "       1         0         0           16.000000\n",
       "4      0         0         0           37.000000\n",
       "       1         0         0           40.000000\n",
       "                 1         0           64.000000\n",
       "5      0         0         0           39.250000\n",
       "       1         0         0           39.000000\n",
       "6      0         0         0           43.000000\n",
       "Name: Age, dtype: float64"
      ]
     },
     "metadata": {},
     "execution_count": 201
    }
   ],
   "metadata": {}
  },
  {
   "cell_type": "markdown",
   "source": [
    "So the mean age for female 3rd class passengers with no parents or children on board is 26.090266, female 2nd class passengers with no parents or children on board have a mean age of 31.953294, female 1st class passengers with no parents or children on board have a mean age of 35.462390, etc. "
   ],
   "metadata": {}
  },
  {
   "cell_type": "code",
   "execution_count": 202,
   "source": [
    "# Impute age\n",
    "\n",
    "titanic_with_dummies['Age'] = titanic_with_dummies[[\"Age\", \"Parch\", \"Sex_male\", \"Pclass_1\", \"Pclass_2\"]].groupby([\"Parch\", \"Sex_male\", \"Pclass_1\", \"Pclass_2\"])[\"Age\"].transform(lambda x: x.fillna(x.mean()))"
   ],
   "outputs": [],
   "metadata": {
    "colab": {},
    "colab_type": "code",
    "id": "EYTqaSTySrGC"
   }
  },
  {
   "cell_type": "markdown",
   "source": [
    "Now train the model using the expanded set of predictors and compute the accuracy score for the test set:"
   ],
   "metadata": {
    "colab_type": "text",
    "id": "AMt6G9JYSrGE"
   }
  },
  {
   "cell_type": "code",
   "execution_count": 203,
   "source": [
    "def get_logreg_score(data, feature_cols, target_col):\n",
    "    X = data[feature_cols]\n",
    "    y = data[target_col]\n",
    "\n",
    "    # Split\n",
    "    X_train, X_test, y_train, y_test = train_test_split(X, y, random_state = 1)\n",
    "\n",
    "    # Build Model\n",
    "    logreg = LogisticRegression(solver='liblinear', max_iter=10000)\n",
    "\n",
    "    # Fit\n",
    "    logreg.fit(X_train, y_train)\n",
    "\n",
    "    # Score\n",
    "    logreg_score = logreg.score(X_test, y_test)\n",
    "\n",
    "    # Return accuracy rate\n",
    "    return logreg_score"
   ],
   "outputs": [],
   "metadata": {
    "colab": {},
    "colab_type": "code",
    "id": "bW-vZvDyYn52"
   }
  },
  {
   "cell_type": "code",
   "execution_count": 204,
   "source": [
    "# ANSWER\n",
    "# Set Feature Both Numerical, Categorical\n",
    "target_col = 'Survived'\n",
    "feature_cols = ['Parch', 'Pclass_1', 'Pclass_2', 'Pclass_3', 'Age', 'SibSp']\n",
    "get_logreg_score(titanic_with_dummies, feature_cols, target_col)"
   ],
   "outputs": [
    {
     "output_type": "execute_result",
     "data": {
      "text/plain": [
       "0.6502242152466368"
      ]
     },
     "metadata": {},
     "execution_count": 204
    }
   ],
   "metadata": {
    "colab": {},
    "colab_type": "code",
    "id": "dSX26hn-SrGE",
    "outputId": "03dc39b3-eb07-4cd5-a9b1-0afff8f5b033"
   }
  },
  {
   "cell_type": "markdown",
   "source": [
    "Plot the ROC curve for the new model:"
   ],
   "metadata": {
    "colab_type": "text",
    "id": "CLTPHMa2SrGF"
   }
  },
  {
   "cell_type": "code",
   "execution_count": 205,
   "source": [
    "# ANSWER\n",
    "def plot_roc_curve(X_test, y_test):\n",
    "    # Generate the prediction values for each of the test observations using predict_proba() function rather than just predict\n",
    "    preds = logreg.predict_proba(X_test)[:,1]\n",
    "\n",
    "    # Store the false positive rate(fpr), true positive rate (tpr) in vectors for use in the graph\n",
    "    fpr, tpr, _ = metrics.roc_curve(y_test, preds)\n",
    "\n",
    "    # Store the Area Under the Curve (AUC) so we can annotate our graph with theis metric\n",
    "    roc_auc = metrics.auc(fpr, tpr)\n",
    "\n",
    "    # Plot the ROC Curve\n",
    "    plt.figure()\n",
    "    lw = 2\n",
    "    plt.plot(fpr, tpr, color='darkorange', lw = lw, label = 'ROC curve (area = %0.2f)' % roc_auc)\n",
    "    plt.plot([0, 1], [0, 1], color = 'navy', lw = lw, linestyle = '--')\n",
    "    plt.xlim([0.0, 1.0])\n",
    "    plt.ylim([0.0, 1.0])\n",
    "    plt.xlabel('False Positive Rate')\n",
    "    plt.ylabel('True Positive Rate')\n",
    "    plt.title('Receiver operating characteristic example')\n",
    "    plt.legend(loc = \"lower right\")\n",
    "    plt.show()"
   ],
   "outputs": [],
   "metadata": {
    "colab": {},
    "colab_type": "code",
    "id": "zTdfHGN9SrGG"
   }
  },
  {
   "cell_type": "code",
   "execution_count": 206,
   "source": [
    "# Train\n",
    "plot_roc_curve(X_train, y_train)"
   ],
   "outputs": [
    {
     "output_type": "display_data",
     "data": {
      "image/png": "[encoded data removed]",
      "text/plain": [
       "<Figure size 432x288 with 1 Axes>"
      ]
     },
     "metadata": {
      "needs_background": "light"
     }
    }
   ],
   "metadata": {
    "colab": {},
    "colab_type": "code",
    "id": "3JWWtU2OYn59",
    "outputId": "aef5db3a-8f61-4ffa-ddf1-c42e707c0f4c"
   }
  },
  {
   "cell_type": "code",
   "execution_count": 207,
   "source": [
    "# Test\n",
    "plot_roc_curve(X_test, y_test)"
   ],
   "outputs": [
    {
     "output_type": "display_data",
     "data": {
      "image/png": "[encoded data removed]",
      "text/plain": [
       "<Figure size 432x288 with 1 Axes>"
      ]
     },
     "metadata": {
      "needs_background": "light"
     }
    }
   ],
   "metadata": {
    "colab": {},
    "colab_type": "code",
    "id": "V3kBVgpDYn5-",
    "outputId": "3bfa16a5-6b3f-408a-b5ee-ef7d8b18c725"
   }
  },
  {
   "cell_type": "markdown",
   "source": [
    "Can we improve the model by including the remaining features?"
   ],
   "metadata": {
    "colab_type": "text",
    "id": "ZlT5P8TfSrGH"
   }
  },
  {
   "cell_type": "code",
   "execution_count": 208,
   "source": [
    "# ANSWER \n",
    "target_col = 'Survived'\n",
    "feature_cols = ['Age', 'SibSp', 'Parch', 'Fare', \n",
    "       'Sex_female', 'Sex_male', 'Embarked_C', 'Embarked_Q', 'Embarked_S',\n",
    "       'Pclass_1', 'Pclass_2', 'Pclass_3']\n",
    "get_logreg_score(titanic_with_dummies, feature_cols, target_col)"
   ],
   "outputs": [
    {
     "output_type": "execute_result",
     "data": {
      "text/plain": [
       "0.7982062780269058"
      ]
     },
     "metadata": {},
     "execution_count": 208
    }
   ],
   "metadata": {
    "colab": {},
    "colab_type": "code",
    "id": "ltIhqWclYn6B",
    "outputId": "ff2da9c6-713d-4153-8f8e-b2a68962d157"
   }
  },
  {
   "cell_type": "code",
   "execution_count": 209,
   "source": [
    "ttwd = titanic_with_dummies\n",
    "print(\"Male survival: {:5.2f}% of {}\\nFemale survival: {:5.2f}% of {}\\nChild survival: {:5.2f}% of {}\".format(\n",
    "                                            100 * ttwd[ttwd.Sex_male == 1].Survived.mean(), ttwd.Sex_male.sum(), \n",
    "                                            100 * ttwd[ttwd.Sex_female == 1].Survived.mean(), ttwd.Sex_female.sum(),\n",
    "                                            100 * ttwd[ttwd.Age < 16].Survived.mean(), len(ttwd[ttwd.Age < 16])))"
   ],
   "outputs": [
    {
     "output_type": "stream",
     "name": "stdout",
     "text": [
      "Male survival: 18.89% of 577\n",
      "Female survival: 74.20% of 314\n",
      "Child survival: 59.04% of 83\n"
     ]
    }
   ],
   "metadata": {
    "colab": {},
    "colab_type": "code",
    "id": "oHZYyE8wYn6F",
    "outputId": "868f9ec2-5e96-4fef-8919-74d8549a9545"
   }
  },
  {
   "cell_type": "code",
   "execution_count": 210,
   "source": [
    "X = titanic_with_dummies[feature_cols]\n",
    "y = titanic_with_dummies[target_col]\n",
    "\n",
    "# Split\n",
    "X_train, X_test, y_train, y_test = train_test_split(X, y, random_state = 1)\n",
    "\n",
    "# Build Model\n",
    "logreg = LogisticRegression(solver='liblinear', max_iter=10000)\n",
    "\n",
    "# Fit\n",
    "logreg.fit(X_train, y_train)\n",
    "\n",
    "# Make a data frame of results, including actual and predicted response:\n",
    "y_hat = logreg.predict(X)\n",
    "y_hats = pd.Series(y_hat, index = X.index)\n",
    "y_hatdf = pd.DataFrame({'y_hat': y_hats})\n",
    "y_actuals = pd.Series(y, index = X.index)    # names 'y', 'y_test' are in use\n",
    "y_actualdf = pd.DataFrame({'y_actual': y_actuals})   \n",
    "ttall = y_hatdf.join(y_actualdf).join(X)\n",
    "ttall.head()"
   ],
   "outputs": [
    {
     "output_type": "execute_result",
     "data": {
      "text/html": [
       "<div>\n",
       "<style scoped>\n",
       "    .dataframe tbody tr th:only-of-type {\n",
       "        vertical-align: middle;\n",
       "    }\n",
       "\n",
       "    .dataframe tbody tr th {\n",
       "        vertical-align: top;\n",
       "    }\n",
       "\n",
       "    .dataframe thead th {\n",
       "        text-align: right;\n",
       "    }\n",
       "</style>\n",
       "<table border=\"1\" class=\"dataframe\">\n",
       "  <thead>\n",
       "    <tr style=\"text-align: right;\">\n",
       "      <th></th>\n",
       "      <th>y_hat</th>\n",
       "      <th>y_actual</th>\n",
       "      <th>Age</th>\n",
       "      <th>SibSp</th>\n",
       "      <th>Parch</th>\n",
       "      <th>Fare</th>\n",
       "      <th>Sex_female</th>\n",
       "      <th>Sex_male</th>\n",
       "      <th>Embarked_C</th>\n",
       "      <th>Embarked_Q</th>\n",
       "      <th>Embarked_S</th>\n",
       "      <th>Pclass_1</th>\n",
       "      <th>Pclass_2</th>\n",
       "      <th>Pclass_3</th>\n",
       "    </tr>\n",
       "    <tr>\n",
       "      <th>PassengerId</th>\n",
       "      <th></th>\n",
       "      <th></th>\n",
       "      <th></th>\n",
       "      <th></th>\n",
       "      <th></th>\n",
       "      <th></th>\n",
       "      <th></th>\n",
       "      <th></th>\n",
       "      <th></th>\n",
       "      <th></th>\n",
       "      <th></th>\n",
       "      <th></th>\n",
       "      <th></th>\n",
       "      <th></th>\n",
       "    </tr>\n",
       "  </thead>\n",
       "  <tbody>\n",
       "    <tr>\n",
       "      <th>1</th>\n",
       "      <td>0</td>\n",
       "      <td>0</td>\n",
       "      <td>22.0</td>\n",
       "      <td>1</td>\n",
       "      <td>0</td>\n",
       "      <td>7.2500</td>\n",
       "      <td>0</td>\n",
       "      <td>1</td>\n",
       "      <td>0</td>\n",
       "      <td>0</td>\n",
       "      <td>1</td>\n",
       "      <td>0</td>\n",
       "      <td>0</td>\n",
       "      <td>1</td>\n",
       "    </tr>\n",
       "    <tr>\n",
       "      <th>2</th>\n",
       "      <td>1</td>\n",
       "      <td>1</td>\n",
       "      <td>38.0</td>\n",
       "      <td>1</td>\n",
       "      <td>0</td>\n",
       "      <td>71.2833</td>\n",
       "      <td>1</td>\n",
       "      <td>0</td>\n",
       "      <td>1</td>\n",
       "      <td>0</td>\n",
       "      <td>0</td>\n",
       "      <td>1</td>\n",
       "      <td>0</td>\n",
       "      <td>0</td>\n",
       "    </tr>\n",
       "    <tr>\n",
       "      <th>3</th>\n",
       "      <td>1</td>\n",
       "      <td>1</td>\n",
       "      <td>26.0</td>\n",
       "      <td>0</td>\n",
       "      <td>0</td>\n",
       "      <td>7.9250</td>\n",
       "      <td>1</td>\n",
       "      <td>0</td>\n",
       "      <td>0</td>\n",
       "      <td>0</td>\n",
       "      <td>1</td>\n",
       "      <td>0</td>\n",
       "      <td>0</td>\n",
       "      <td>1</td>\n",
       "    </tr>\n",
       "    <tr>\n",
       "      <th>4</th>\n",
       "      <td>1</td>\n",
       "      <td>1</td>\n",
       "      <td>35.0</td>\n",
       "      <td>1</td>\n",
       "      <td>0</td>\n",
       "      <td>53.1000</td>\n",
       "      <td>1</td>\n",
       "      <td>0</td>\n",
       "      <td>0</td>\n",
       "      <td>0</td>\n",
       "      <td>1</td>\n",
       "      <td>1</td>\n",
       "      <td>0</td>\n",
       "      <td>0</td>\n",
       "    </tr>\n",
       "    <tr>\n",
       "      <th>5</th>\n",
       "      <td>0</td>\n",
       "      <td>0</td>\n",
       "      <td>35.0</td>\n",
       "      <td>0</td>\n",
       "      <td>0</td>\n",
       "      <td>8.0500</td>\n",
       "      <td>0</td>\n",
       "      <td>1</td>\n",
       "      <td>0</td>\n",
       "      <td>0</td>\n",
       "      <td>1</td>\n",
       "      <td>0</td>\n",
       "      <td>0</td>\n",
       "      <td>1</td>\n",
       "    </tr>\n",
       "  </tbody>\n",
       "</table>\n",
       "</div>"
      ],
      "text/plain": [
       "             y_hat  y_actual   Age  SibSp  Parch     Fare  Sex_female  \\\n",
       "PassengerId                                                             \n",
       "1                0         0  22.0      1      0   7.2500           0   \n",
       "2                1         1  38.0      1      0  71.2833           1   \n",
       "3                1         1  26.0      0      0   7.9250           1   \n",
       "4                1         1  35.0      1      0  53.1000           1   \n",
       "5                0         0  35.0      0      0   8.0500           0   \n",
       "\n",
       "             Sex_male  Embarked_C  Embarked_Q  Embarked_S  Pclass_1  Pclass_2  \\\n",
       "PassengerId                                                                     \n",
       "1                   1           0           0           1         0         0   \n",
       "2                   0           1           0           0         1         0   \n",
       "3                   0           0           0           1         0         0   \n",
       "4                   0           0           0           1         1         0   \n",
       "5                   1           0           0           1         0         0   \n",
       "\n",
       "             Pclass_3  \n",
       "PassengerId            \n",
       "1                   1  \n",
       "2                   0  \n",
       "3                   1  \n",
       "4                   0  \n",
       "5                   1  "
      ]
     },
     "metadata": {},
     "execution_count": 210
    }
   ],
   "metadata": {
    "colab": {},
    "colab_type": "code",
    "id": "dt1TIKpoYn6I",
    "outputId": "d76658a5-4b58-4c6a-ee59-d5b42e0f76c3"
   }
  },
  {
   "cell_type": "code",
   "execution_count": 137,
   "source": [
    "print(\"Male survival: {:5.2f}% of {}\\nFemale survival: {:5.2f}% of {}\\nChild survival: {:5.2f}% of {}\".format(\n",
    "                                                    100 * ttall[ttall.Sex_male == 1].y_hat.mean(), ttall.Sex_male.sum(), \n",
    "                                                    100 * ttall[ttall.Sex_female == 1].y_hat.mean(), ttall.Sex_female.sum(),\n",
    "                                                    100 * ttall[ttall.Age < 16].y_hat.mean(), len(ttall[ttall.Age < 16])))"
   ],
   "outputs": [
    {
     "output_type": "stream",
     "name": "stdout",
     "text": [
      "Male survival:  5.55% of 577\n",
      "Female survival: 87.26% of 314\n",
      "Child survival: 51.81% of 83\n"
     ]
    }
   ],
   "metadata": {
    "colab": {},
    "colab_type": "code",
    "id": "4hJh0MejYn6L",
    "outputId": "dc9620ee-ca3b-4d30-8d8a-bfea68e83022"
   }
  },
  {
   "cell_type": "markdown",
   "source": [
    "##### Why use `random_state` when splitting data?"
   ],
   "metadata": {}
  },
  {
   "cell_type": "code",
   "execution_count": 139,
   "source": [
    "X_train, X_test, y_train, y_test = train_test_split(X, y, random_state = 1)\n",
    "X_train.index"
   ],
   "outputs": [
    {
     "output_type": "execute_result",
     "data": {
      "text/plain": [
       "Int64Index([ 36,  47, 454, 292, 749,  42, 225, 341, 126, 804,\n",
       "            ...\n",
       "            584, 130, 145, 848, 646, 716, 768,  73, 236,  38],\n",
       "           dtype='int64', name='PassengerId', length=668)"
      ]
     },
     "metadata": {},
     "execution_count": 139
    }
   ],
   "metadata": {}
  },
  {
   "cell_type": "code",
   "execution_count": 145,
   "source": [
    "X_train, X_test, y_train, y_test = train_test_split(X, y)\n",
    "X_train.index"
   ],
   "outputs": [
    {
     "output_type": "execute_result",
     "data": {
      "text/plain": [
       "Int64Index([638, 154, 440, 375, 794, 389,  89, 394, 239, 304,\n",
       "            ...\n",
       "            683, 331, 871, 361,  56,  31, 403, 365, 135, 666],\n",
       "           dtype='int64', name='PassengerId', length=668)"
      ]
     },
     "metadata": {},
     "execution_count": 145
    }
   ],
   "metadata": {}
  },
  {
   "cell_type": "code",
   "execution_count": 146,
   "source": [
    "X_train, X_test, y_train, y_test = train_test_split(X, y)\n",
    "X_train.index"
   ],
   "outputs": [
    {
     "output_type": "execute_result",
     "data": {
      "text/plain": [
       "Int64Index([262, 200, 573, 732, 277, 843, 881, 467, 454, 681,\n",
       "            ...\n",
       "            863, 759, 192, 255, 344, 795, 165, 482,  55,  86],\n",
       "           dtype='int64', name='PassengerId', length=668)"
      ]
     },
     "metadata": {},
     "execution_count": 146
    }
   ],
   "metadata": {}
  },
  {
   "cell_type": "markdown",
   "source": [
    "## Homework\n",
    "\n",
    "1. Remove the `random_state` parameter, so that the data partition will be different every time, and run through the final modelling process a few times. Do the results change?\n",
    "\n",
    "2. Use cross-validation to assess the quality of the model when overfitting is controlled. Does the accuracy improve?\n",
    "\n",
    "3. Look at the `fpr` & `tpr` vectors for the best model."
   ],
   "metadata": {
    "colab_type": "text",
    "id": "NHrtlx8tSrGP"
   }
  },
  {
   "cell_type": "markdown",
   "source": [
    "#### 2. Use Cross-Validation\n",
    "\n",
    "Use cross-validation to assess the quality of the model when overfitting is controlled. Does the accuracy improve?"
   ],
   "metadata": {
    "colab_type": "text",
    "id": "dXFZwKXAYn6O"
   }
  },
  {
   "cell_type": "code",
   "execution_count": 211,
   "source": [
    "from sklearn.model_selection import cross_val_score\n",
    "target_col = 'Survived'\n",
    "feature_cols = ['Age', 'SibSp', 'Parch', 'Fare', \n",
    "       'Sex_female', 'Sex_male', 'Embarked_C', 'Embarked_Q', 'Embarked_S',\n",
    "       'Pclass_1', 'Pclass_2', 'Pclass_3']\n",
    "logreg = LogisticRegression()\n",
    "scores = cross_val_score(logreg, titanic_with_dummies[feature_cols], titanic_with_dummies[target_col], cv=5)\n",
    "scores.mean()"
   ],
   "outputs": [
    {
     "output_type": "stream",
     "name": "stderr",
     "text": [
      "D:\\Ricky\\envs\\python\\lib\\site-packages\\daal4py\\sklearn\\linear_model\\logistic_path.py:432: ConvergenceWarning: lbfgs failed to converge (status=1):\n",
      "STOP: TOTAL NO. of ITERATIONS REACHED LIMIT.\n",
      "\n",
      "Increase the number of iterations (max_iter) or scale the data as shown in:\n",
      "    https://scikit-learn.org/stable/modules/preprocessing.html\n",
      "Please also refer to the documentation for alternative solver options:\n",
      "    https://scikit-learn.org/stable/modules/linear_model.html#logistic-regression\n",
      "  n_iter_i = _check_optimize_result(\n",
      "D:\\Ricky\\envs\\python\\lib\\site-packages\\daal4py\\sklearn\\linear_model\\logistic_path.py:432: ConvergenceWarning: lbfgs failed to converge (status=1):\n",
      "STOP: TOTAL NO. of ITERATIONS REACHED LIMIT.\n",
      "\n",
      "Increase the number of iterations (max_iter) or scale the data as shown in:\n",
      "    https://scikit-learn.org/stable/modules/preprocessing.html\n",
      "Please also refer to the documentation for alternative solver options:\n",
      "    https://scikit-learn.org/stable/modules/linear_model.html#logistic-regression\n",
      "  n_iter_i = _check_optimize_result(\n",
      "D:\\Ricky\\envs\\python\\lib\\site-packages\\daal4py\\sklearn\\linear_model\\logistic_path.py:432: ConvergenceWarning: lbfgs failed to converge (status=1):\n",
      "STOP: TOTAL NO. of ITERATIONS REACHED LIMIT.\n",
      "\n",
      "Increase the number of iterations (max_iter) or scale the data as shown in:\n",
      "    https://scikit-learn.org/stable/modules/preprocessing.html\n",
      "Please also refer to the documentation for alternative solver options:\n",
      "    https://scikit-learn.org/stable/modules/linear_model.html#logistic-regression\n",
      "  n_iter_i = _check_optimize_result(\n",
      "D:\\Ricky\\envs\\python\\lib\\site-packages\\daal4py\\sklearn\\linear_model\\logistic_path.py:432: ConvergenceWarning: lbfgs failed to converge (status=1):\n",
      "STOP: TOTAL NO. of ITERATIONS REACHED LIMIT.\n",
      "\n",
      "Increase the number of iterations (max_iter) or scale the data as shown in:\n",
      "    https://scikit-learn.org/stable/modules/preprocessing.html\n",
      "Please also refer to the documentation for alternative solver options:\n",
      "    https://scikit-learn.org/stable/modules/linear_model.html#logistic-regression\n",
      "  n_iter_i = _check_optimize_result(\n",
      "D:\\Ricky\\envs\\python\\lib\\site-packages\\daal4py\\sklearn\\linear_model\\logistic_path.py:432: ConvergenceWarning: lbfgs failed to converge (status=1):\n",
      "STOP: TOTAL NO. of ITERATIONS REACHED LIMIT.\n",
      "\n",
      "Increase the number of iterations (max_iter) or scale the data as shown in:\n",
      "    https://scikit-learn.org/stable/modules/preprocessing.html\n",
      "Please also refer to the documentation for alternative solver options:\n",
      "    https://scikit-learn.org/stable/modules/linear_model.html#logistic-regression\n",
      "  n_iter_i = _check_optimize_result(\n"
     ]
    },
    {
     "output_type": "execute_result",
     "data": {
      "text/plain": [
       "0.7935095097608437"
      ]
     },
     "metadata": {},
     "execution_count": 211
    }
   ],
   "metadata": {
    "colab": {},
    "colab_type": "code",
    "id": "ca6tZXyEYn6P",
    "outputId": "4dbcdc48-8da5-4858-81c0-96bbc9e4663c"
   }
  },
  {
   "cell_type": "markdown",
   "source": [
    "#### 3. Look at the fpr & tpr vectors for the best model."
   ],
   "metadata": {
    "colab_type": "text",
    "id": "9gitK9c0Yn6Q"
   }
  },
  {
   "cell_type": "code",
   "execution_count": 212,
   "source": [
    "# Build Model\n",
    "logreg = LogisticRegression()\n",
    "\n",
    "# Fit\n",
    "logreg.fit(X_train, y_train)\n",
    "\n",
    "# Predict\n",
    "y_pred_class = logreg.predict(X_test)\n",
    "\n",
    "# save confusion matrix and slice into four pieces\n",
    "confusion = metrics.confusion_matrix(y_test, y_pred_class)\n",
    "print(confusion)\n",
    "\n",
    "#[row, column]\n",
    "TP = confusion[1, 1]\n",
    "TN = confusion[0, 0]\n",
    "FP = confusion[0, 1]\n",
    "FN = confusion[1, 0]"
   ],
   "outputs": [
    {
     "output_type": "stream",
     "name": "stdout",
     "text": [
      "[[113  15]\n",
      " [ 29  66]]\n"
     ]
    },
    {
     "output_type": "stream",
     "name": "stderr",
     "text": [
      "D:\\Ricky\\envs\\python\\lib\\site-packages\\daal4py\\sklearn\\linear_model\\logistic_path.py:432: ConvergenceWarning: lbfgs failed to converge (status=1):\n",
      "STOP: TOTAL NO. of ITERATIONS REACHED LIMIT.\n",
      "\n",
      "Increase the number of iterations (max_iter) or scale the data as shown in:\n",
      "    https://scikit-learn.org/stable/modules/preprocessing.html\n",
      "Please also refer to the documentation for alternative solver options:\n",
      "    https://scikit-learn.org/stable/modules/linear_model.html#logistic-regression\n",
      "  n_iter_i = _check_optimize_result(\n"
     ]
    }
   ],
   "metadata": {
    "colab": {},
    "colab_type": "code",
    "id": "gUTuol4HYn6Q",
    "outputId": "57cd5210-b0a0-408e-fc29-b538f9fc2091"
   }
  },
  {
   "cell_type": "markdown",
   "source": [
    "**Classification Accuracy:** Overall, how often is the classifier correct?"
   ],
   "metadata": {
    "colab_type": "text",
    "id": "b87LjLhEYn6U"
   }
  },
  {
   "cell_type": "code",
   "execution_count": 213,
   "source": [
    "# use float to perform true division, not integer division\n",
    "print((TP + TN) / float(TP + TN + FP + FN))\n",
    "print(metrics.accuracy_score(y_test, y_pred_class))"
   ],
   "outputs": [
    {
     "output_type": "stream",
     "name": "stdout",
     "text": [
      "0.8026905829596412\n",
      "0.8026905829596412\n"
     ]
    }
   ],
   "metadata": {
    "colab": {},
    "colab_type": "code",
    "id": "3iOtY6RIYn6U",
    "outputId": "e625beca-54a6-4cb9-bc1c-1b6870d0dd89"
   }
  },
  {
   "cell_type": "markdown",
   "source": [
    "**Classification Error:** Overall, how often is the classifier incorrect?\n",
    "\n",
    "Also known as \"Misclassification Rate\""
   ],
   "metadata": {
    "colab_type": "text",
    "id": "wMq1R881Yn6W"
   }
  },
  {
   "cell_type": "code",
   "execution_count": 214,
   "source": [
    "classification_error = (FP + FN) / float(TP + TN + FP + FN)\n",
    "print(classification_error)\n",
    "print(1 - metrics.accuracy_score(y_test, y_pred_class))"
   ],
   "outputs": [
    {
     "output_type": "stream",
     "name": "stdout",
     "text": [
      "0.19730941704035873\n",
      "0.19730941704035876\n"
     ]
    }
   ],
   "metadata": {
    "colab": {},
    "colab_type": "code",
    "id": "vsxTXq9uYn6W",
    "outputId": "656d486a-7f6b-4f0e-fa3f-535ee078c992"
   }
  },
  {
   "cell_type": "markdown",
   "source": [
    "**Sensitivity:** When the actual value is positive, how often is the prediction correct?\n",
    "\n",
    "Something we want to maximize\n",
    "How \"sensitive\" is the classifier to detecting positive instances?\n",
    "- Also known as \"True Positive Rate\" or \"Recall\"\n",
    "- TP / all positive\n",
    "    - all positive = TP + FN"
   ],
   "metadata": {
    "colab_type": "text",
    "id": "pcPdtVEsYn6Y"
   }
  },
  {
   "cell_type": "code",
   "execution_count": 215,
   "source": [
    "sensitivity = TP / float(FN + TP)\n",
    "print(sensitivity)\n",
    "print(metrics.recall_score(y_test, y_pred_class))"
   ],
   "outputs": [
    {
     "output_type": "stream",
     "name": "stdout",
     "text": [
      "0.6947368421052632\n",
      "0.6947368421052632\n"
     ]
    }
   ],
   "metadata": {
    "colab": {},
    "colab_type": "code",
    "id": "aRzGvMKoYn6Y",
    "outputId": "ed255ca2-8486-4ff1-b6ec-ac0e40f7c2bf"
   }
  },
  {
   "cell_type": "markdown",
   "source": [
    "**Specificity:** When the actual value is negative, how often is the prediction correct?\n",
    "\n",
    "Something we want to maximize\n",
    "How \"specific\" (or \"selective\") is the classifier in predicting positive instances?\n",
    "TN / all negative\n",
    "all negative = TN + FP"
   ],
   "metadata": {
    "colab_type": "text",
    "id": "qBGSm21WYn6b"
   }
  },
  {
   "cell_type": "code",
   "execution_count": 216,
   "source": [
    "specificity = TN / (TN + FP)\n",
    "\n",
    "print(specificity)"
   ],
   "outputs": [
    {
     "output_type": "stream",
     "name": "stdout",
     "text": [
      "0.8828125\n"
     ]
    }
   ],
   "metadata": {
    "colab": {},
    "colab_type": "code",
    "id": "n3GklVLvYn6c",
    "outputId": "f2d248dc-c1c2-414a-d111-1bd84bb2c547"
   }
  },
  {
   "cell_type": "markdown",
   "source": [
    "**False Positive Rate:** When the actual value is negative, how often is the prediction incorrect?"
   ],
   "metadata": {
    "colab_type": "text",
    "id": "XfAkIahGYn6i"
   }
  },
  {
   "cell_type": "code",
   "execution_count": null,
   "source": [
    "false_positive_rate = FP / float(TN + FP)\n",
    "\n",
    "print(false_positive_rate)\n",
    "print(1 - specificity)"
   ],
   "outputs": [
    {
     "output_type": "stream",
     "name": "stdout",
     "text": [
      "0.1796875\n",
      "0.1796875\n"
     ]
    }
   ],
   "metadata": {
    "colab": {},
    "colab_type": "code",
    "id": "LxO1c2-eYn6j",
    "outputId": "e76a8637-0bd1-4d96-9640-e8f1b1ec8512"
   }
  },
  {
   "cell_type": "markdown",
   "source": [
    "**Precision:** When a positive value is predicted, how often is the prediction correct?\n",
    "\n",
    "How \"precise\" is the classifier when predicting positive instances?"
   ],
   "metadata": {
    "colab_type": "text",
    "id": "ceLGLR6FYn6n"
   }
  },
  {
   "cell_type": "code",
   "execution_count": null,
   "source": [
    "precision = TP / float(TP + FP)\n",
    "\n",
    "print(precision)\n",
    "print(metrics.precision_score(y_test, y_pred_class))"
   ],
   "outputs": [
    {
     "output_type": "stream",
     "name": "stdout",
     "text": [
      "0.6567164179104478\n",
      "0.6567164179104478\n"
     ]
    }
   ],
   "metadata": {
    "colab": {},
    "colab_type": "code",
    "id": "vc-n4pg1Yn6n",
    "outputId": "506002f4-1525-4fc8-abec-c38eca38f84f"
   }
  },
  {
   "cell_type": "markdown",
   "source": [
    "\n",
    "\n",
    "---\n",
    "\n",
    "\n",
    "\n",
    "---\n",
    "\n",
    "\n",
    "\n",
    "> > > > > > > > > © 2021 Institute of Data\n",
    "\n",
    "\n",
    "---\n",
    "\n",
    "\n",
    "\n",
    "---\n",
    "\n",
    "\n",
    "\n"
   ],
   "metadata": {
    "colab_type": "text",
    "id": "RERADKgNFq9T"
   }
  }
 ],
 "metadata": {
  "colab": {
   "collapsed_sections": [
    "WpOA8_TFSrF_"
   ],
   "name": "DSIA_Lab_5_1 Answers.ipynb",
   "provenance": []
  },
  "kernelspec": {
   "name": "python3",
   "display_name": "Python 3.8.10 64-bit ('IOD_Env3': conda)"
  },
  "language_info": {
   "codemirror_mode": {
    "name": "ipython",
    "version": 3
   },
   "file_extension": ".py",
   "mimetype": "text/x-python",
   "name": "python",
   "nbconvert_exporter": "python",
   "pygments_lexer": "ipython3",
   "version": "3.8.10"
  },
  "interpreter": {
   "hash": "fd5ed4922c887efe02aa92d022a9136c9c36dbccc7147cf88411bda2be4ce349"
  }
 },
 "nbformat": 4,
 "nbformat_minor": 4
}