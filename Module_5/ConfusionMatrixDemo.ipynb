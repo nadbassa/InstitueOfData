{
 "cells": [
  {
   "cell_type": "code",
   "execution_count": 20,
   "id": "4d56916e",
   "metadata": {},
   "outputs": [
    {
     "data": {
      "text/html": [
       "<div>\n",
       "<style scoped>\n",
       "    .dataframe tbody tr th:only-of-type {\n",
       "        vertical-align: middle;\n",
       "    }\n",
       "\n",
       "    .dataframe tbody tr th {\n",
       "        vertical-align: top;\n",
       "    }\n",
       "\n",
       "    .dataframe thead th {\n",
       "        text-align: right;\n",
       "    }\n",
       "</style>\n",
       "<table border=\"1\" class=\"dataframe\">\n",
       "  <thead>\n",
       "    <tr style=\"text-align: right;\">\n",
       "      <th></th>\n",
       "      <th>Predicted NO</th>\n",
       "      <th>Predicted YES</th>\n",
       "    </tr>\n",
       "  </thead>\n",
       "  <tbody>\n",
       "    <tr>\n",
       "      <th>Actual NO</th>\n",
       "      <td>50</td>\n",
       "      <td>10</td>\n",
       "    </tr>\n",
       "    <tr>\n",
       "      <th>Actual YES</th>\n",
       "      <td>5</td>\n",
       "      <td>100</td>\n",
       "    </tr>\n",
       "  </tbody>\n",
       "</table>\n",
       "</div>"
      ],
      "text/plain": [
       "            Predicted NO  Predicted YES\n",
       "Actual NO             50             10\n",
       "Actual YES             5            100"
      ]
     },
     "execution_count": 20,
     "metadata": {},
     "output_type": "execute_result"
    }
   ],
   "source": [
    "import pandas as pd\n",
    "\n",
    "data = {'Predicted NO':[50,5],\n",
    "        'Predicted YES':[10, 100]} \n",
    "\n",
    "df = pd.DataFrame(data, index =['Actual NO',\n",
    "                                'Actual YES'\n",
    "                               ]) \n",
    "\n",
    "df"
   ]
  },
  {
   "cell_type": "code",
   "execution_count": 22,
   "id": "fdd1f5cc",
   "metadata": {},
   "outputs": [],
   "source": [
    "TN = 50\n",
    "TP = 100\n",
    "FP = 10\n",
    "FN = 5\n",
    "\n",
    "total = 50 + 100 + 10 + 5"
   ]
  },
  {
   "cell_type": "code",
   "execution_count": 23,
   "id": "dc331a30",
   "metadata": {},
   "outputs": [
    {
     "data": {
      "text/plain": [
       "0.9090909090909091"
      ]
     },
     "execution_count": 23,
     "metadata": {},
     "output_type": "execute_result"
    }
   ],
   "source": [
    "#Accuracy: Overall, how often is the classifier correct?\n",
    "(TP+TN)/total "
   ]
  },
  {
   "cell_type": "code",
   "execution_count": 24,
   "id": "15855c85",
   "metadata": {},
   "outputs": [
    {
     "data": {
      "text/plain": [
       "0.09090909090909091"
      ]
     },
     "execution_count": 24,
     "metadata": {},
     "output_type": "execute_result"
    }
   ],
   "source": [
    "#Misclassification Rate: Overall, how often is it wrong?\n",
    "#equivalent to 1 minus Accuracy\n",
    "#also known as \"Error Rate\"\n",
    "    \n",
    "(FP+FN)/total"
   ]
  },
  {
   "cell_type": "code",
   "execution_count": 25,
   "id": "e67339a9",
   "metadata": {},
   "outputs": [
    {
     "data": {
      "text/plain": [
       "0.9523809523809523"
      ]
     },
     "execution_count": 25,
     "metadata": {},
     "output_type": "execute_result"
    }
   ],
   "source": [
    "#True Positive Rate: When it's actually yes, how often does it predict yes?\n",
    "#also known as \"Sensitivity\" or \"Recall\"\n",
    "\n",
    "#TP/actual yes \n",
    "TP / (5+100)"
   ]
  },
  {
   "cell_type": "code",
   "execution_count": 26,
   "id": "7f8efac6",
   "metadata": {},
   "outputs": [
    {
     "data": {
      "text/plain": [
       "0.16666666666666666"
      ]
     },
     "execution_count": 26,
     "metadata": {},
     "output_type": "execute_result"
    }
   ],
   "source": [
    "#False Positive Rate: When it's actually no, how often does it predict yes?\n",
    "FP/ (50+10)\n"
   ]
  },
  {
   "cell_type": "code",
   "execution_count": 27,
   "id": "ec326a44",
   "metadata": {},
   "outputs": [
    {
     "data": {
      "text/plain": [
       "0.8333333333333334"
      ]
     },
     "execution_count": 27,
     "metadata": {},
     "output_type": "execute_result"
    }
   ],
   "source": [
    "#True Negative Rate: When it's actually no, how often does it predict no?\n",
    "#equivalent to 1 minus False Positive Rate\n",
    "#also known as \"Specificity\"\n",
    "\n",
    "TN/(50+10)"
   ]
  },
  {
   "cell_type": "code",
   "execution_count": 28,
   "id": "8dc1e040",
   "metadata": {},
   "outputs": [
    {
     "data": {
      "text/plain": [
       "0.9090909090909091"
      ]
     },
     "execution_count": 28,
     "metadata": {},
     "output_type": "execute_result"
    }
   ],
   "source": [
    "#Precision: When it predicts yes, how often is it correct?\n",
    "\n",
    "TP/(10+100)"
   ]
  },
  {
   "cell_type": "code",
   "execution_count": 29,
   "id": "ebcc7836",
   "metadata": {},
   "outputs": [
    {
     "data": {
      "text/plain": [
       "0.6363636363636364"
      ]
     },
     "execution_count": 29,
     "metadata": {},
     "output_type": "execute_result"
    }
   ],
   "source": [
    "#Prevalence: How often does the yes condition actually occur in our sample?\n",
    "(5+100)/total "
   ]
  },
  {
   "cell_type": "code",
   "execution_count": null,
   "id": "63e654ad",
   "metadata": {},
   "outputs": [],
   "source": []
  }
 ],
 "metadata": {
  "kernelspec": {
   "display_name": "Python 3",
   "language": "python",
   "name": "python3"
  },
  "language_info": {
   "codemirror_mode": {
    "name": "ipython",
    "version": 3
   },
   "file_extension": ".py",
   "mimetype": "text/x-python",
   "name": "python",
   "nbconvert_exporter": "python",
   "pygments_lexer": "ipython3",
   "version": "3.8.8"
  }
 },
 "nbformat": 4,
 "nbformat_minor": 5
}
