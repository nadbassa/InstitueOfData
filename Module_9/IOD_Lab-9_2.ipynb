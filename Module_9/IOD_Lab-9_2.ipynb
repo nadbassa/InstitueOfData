{
 "cells": [
  {
   "cell_type": "markdown",
   "source": [
    "<div>\n",
    "<img src=https://www.institutedata.com/wp-content/uploads/2019/10/iod_h_tp_primary_c.svg width=\"300\">\n",
    "</div>"
   ],
   "metadata": {
    "colab_type": "text",
    "id": "Fix0Ry0j1qn5"
   }
  },
  {
   "cell_type": "markdown",
   "source": [
    "# Lab 9.2: CNN with Keras\n",
    "INSTRUCTIONS:\n",
    "- Read the guides and hints, then create the necessary analysis and code to find an answer and conclusion for the task below.\n",
    "- A guide you are encouraged to read through is TensorFlow's own tutorial for immage classification, which can be found [here](https://www.tensorflow.org/tutorials/images/cnn)"
   ],
   "metadata": {
    "colab_type": "text",
    "id": "U7WTDbVT1qn9"
   }
  },
  {
   "cell_type": "markdown",
   "source": [
    "## CIFAR10 small image classification\n",
    "- [CIFAR10](https://www.cs.toronto.edu/~kriz/cifar.html) dataset of color training images, labeled over 10 categories.\n",
    "\n",
    "It has the classes:\n",
    "- airplane\n",
    "- automobile\n",
    "- bird\n",
    "- cat\n",
    "- deer\n",
    "- dog\n",
    "- frog\n",
    "- horse\n",
    "- ship\n",
    "- truck"
   ],
   "metadata": {
    "colab_type": "text",
    "id": "EWGurboj1qoA"
   }
  },
  {
   "cell_type": "markdown",
   "source": [
    "## Import libraries"
   ],
   "metadata": {
    "colab_type": "text",
    "id": "ee2ul0ED1qoD"
   }
  },
  {
   "cell_type": "code",
   "execution_count": null,
   "source": [
    "# Uncomment the statements below if there are problems with TensorFlow on macOS\r\n",
    "# import os\r\n",
    "# os.environ['KMP_DUPLICATE_LIB_OK'] = 'True'"
   ],
   "outputs": [],
   "metadata": {
    "colab": {},
    "colab_type": "code",
    "id": "c-pCdtFw1qoF"
   }
  },
  {
   "cell_type": "code",
   "execution_count": 1,
   "source": [
    "# insert code here\r\n",
    "\r\n",
    "## Import libraries\r\n",
    "import numpy as np\r\n",
    "\r\n",
    "%matplotlib inline\r\n",
    "import matplotlib.pyplot as plt\r\n",
    "\r\n",
    "from sklearn.datasets import load_diabetes\r\n",
    "from sklearn.model_selection import train_test_split\r\n",
    "from sklearn.metrics import r2_score\r\n",
    "\r\n",
    "# import keras\r\n",
    "from tensorflow.keras.models import Sequential\r\n",
    "from tensorflow.keras.layers import Dense"
   ],
   "outputs": [],
   "metadata": {
    "colab": {},
    "colab_type": "code",
    "id": "TQgN2_6D1qoN"
   }
  },
  {
   "cell_type": "code",
   "execution_count": 6,
   "source": [
    "#conda install -c conda-forge tensorboard"
   ],
   "outputs": [],
   "metadata": {}
  },
  {
   "cell_type": "code",
   "execution_count": 5,
   "source": [
    "# Uncomment the statement below to allow online monitoring with TensorBoard (need to be installed)\r\n",
    "from keras.callbacks import TensorBoard"
   ],
   "outputs": [],
   "metadata": {
    "colab": {},
    "colab_type": "code",
    "id": "OohPiooS1qoQ"
   }
  },
  {
   "cell_type": "code",
   "execution_count": 86,
   "source": [
    "from keras.layers import Conv2D\r\n",
    "from keras.layers import Dense\r\n",
    "from keras.layers import Dropout\r\n",
    "from keras.layers import Flatten\r\n",
    "from keras.layers import MaxPool2D\r\n",
    "from keras.models import Sequential\r\n",
    "from keras.utils import to_categorical"
   ],
   "outputs": [],
   "metadata": {}
  },
  {
   "cell_type": "markdown",
   "source": [
    "## Load data\n",
    "Use the **Keras**' load method."
   ],
   "metadata": {
    "colab_type": "text",
    "id": "BAWeroBa1qoS"
   }
  },
  {
   "cell_type": "code",
   "execution_count": 7,
   "source": [
    "# insert code here\r\n",
    "from keras.datasets import cifar10\r\n",
    "cifar10"
   ],
   "outputs": [
    {
     "output_type": "execute_result",
     "data": {
      "text/plain": [
       "<module 'keras.datasets.cifar10' from 'C:\\\\ProgramData\\\\Anaconda3\\\\envs\\\\Env_DL\\\\lib\\\\site-packages\\\\keras\\\\datasets\\\\cifar10.py'>"
      ]
     },
     "metadata": {},
     "execution_count": 7
    }
   ],
   "metadata": {
    "colab": {},
    "colab_type": "code",
    "id": "F-Swb4TS1qoT"
   }
  },
  {
   "cell_type": "code",
   "execution_count": null,
   "source": [],
   "outputs": [],
   "metadata": {}
  },
  {
   "cell_type": "markdown",
   "source": [
    "## Check some data"
   ],
   "metadata": {
    "colab_type": "text",
    "id": "bLdYg4g41qoX"
   }
  },
  {
   "cell_type": "code",
   "execution_count": 45,
   "source": [
    "# insert code here\r\n",
    "(X_train_all, y_train_all), (X_test_all, y_test_all) = cifar10.load_data()"
   ],
   "outputs": [],
   "metadata": {
    "colab": {},
    "colab_type": "code",
    "id": "Swf_e6CR1qoY"
   }
  },
  {
   "cell_type": "code",
   "execution_count": 46,
   "source": [
    "size = 30000\r\n",
    "X_train = X_train_all[:size,:,:,:]\r\n",
    "y_train = y_train_all[0:size,:]\r\n",
    "X_test = X_test_all[0:size,:,:,:]\r\n",
    "y_test = y_test_all[0:size,:]"
   ],
   "outputs": [],
   "metadata": {}
  },
  {
   "cell_type": "code",
   "execution_count": 51,
   "source": [
    "X_train.shape"
   ],
   "outputs": [
    {
     "output_type": "execute_result",
     "data": {
      "text/plain": [
       "(30000, 32, 32, 3)"
      ]
     },
     "metadata": {},
     "execution_count": 51
    }
   ],
   "metadata": {}
  },
  {
   "cell_type": "code",
   "execution_count": 52,
   "source": [
    "y_test.shape"
   ],
   "outputs": [
    {
     "output_type": "execute_result",
     "data": {
      "text/plain": [
       "(10000, 1)"
      ]
     },
     "metadata": {},
     "execution_count": 52
    }
   ],
   "metadata": {}
  },
  {
   "cell_type": "markdown",
   "source": [
    "## Prepare data"
   ],
   "metadata": {
    "colab_type": "text",
    "id": "N-Jhbjf11qob"
   }
  },
  {
   "cell_type": "code",
   "execution_count": 53,
   "source": [
    "classes = (\r\n",
    " 'plane',\r\n",
    "    'car',\r\n",
    "    'bird',\r\n",
    "    'cat',\r\n",
    "    'deer',\r\n",
    "    'dog',\r\n",
    "    'frog',\r\n",
    "    'horse',\r\n",
    "    'ship',\r\n",
    "    'truck'\r\n",
    ")"
   ],
   "outputs": [],
   "metadata": {
    "colab": {},
    "colab_type": "code",
    "id": "L9kdVXHd1qoc"
   }
  },
  {
   "cell_type": "markdown",
   "source": [
    "## Create the model's architecture\n",
    "- **NOTE ALERT**: Take into account the volume of data and parameters. Time and processing escalate quite fast.\n",
    "- **NOTE ALERT**: It is likely this data will require more complex models."
   ],
   "metadata": {
    "colab_type": "text",
    "id": "m2GU1EyK1qoe"
   }
  },
  {
   "cell_type": "code",
   "execution_count": 54,
   "source": [
    "# insert code here\r\n",
    "def check_one(data, label, id = None, actual = None, compare = False):\r\n",
    "    # check one\r\n",
    "    if id is None:\r\n",
    "        id = np.random.randint(data.shape[0])\r\n",
    "    im = data[id]\r\n",
    "    plt.figure(figsize = (3, 3))\r\n",
    "    plt.imshow(im)\r\n",
    "    \r\n",
    "    l_id = label[id]\r\n",
    "    if (compare) and (actual is not None) and (l_id != np.argmax(actual[id])):\r\n",
    "        a_id = np.argmax(actual[id])\r\n",
    "        plt.title('Class %d (%s) [\\u2260 %d-%s]' % (l_id, classes[l_id], a_id, classes[a_id]))\r\n",
    "    else:\r\n",
    "        plt.title('Class %d (%s)' % (l_id, classes[l_id]))\r\n",
    "    plt.xticks([])\r\n",
    "    plt.yticks([])\r\n",
    "    plt.show()"
   ],
   "outputs": [],
   "metadata": {
    "colab": {},
    "colab_type": "code",
    "id": "82J0lM7d1qoe"
   }
  },
  {
   "cell_type": "code",
   "execution_count": 55,
   "source": [
    "check_one(X_train, y_train.flatten())"
   ],
   "outputs": [
    {
     "output_type": "display_data",
     "data": {
      "image/png": "[encoded data removed]",
      "text/plain": [
       "<Figure size 216x216 with 1 Axes>"
      ]
     },
     "metadata": {}
    }
   ],
   "metadata": {}
  },
  {
   "cell_type": "code",
   "execution_count": 57,
   "source": [
    "def check_ten(data, label, actual = None, compare = False):\r\n",
    "    # check ten\r\n",
    "    fig, ax = plt.subplots(2, 5, figsize = (11, 5))\r\n",
    "    fig.subplots_adjust(left = 0.02, right = 0.98, top = 0.8, wspace = 0.2, hspace = 0.2)\r\n",
    "    fig.suptitle('Check Data', fontsize = 12, fontweight = 'bold')\r\n",
    "\r\n",
    "    plt.rcParams.update({'font.size': 10})\r\n",
    "\r\n",
    "    ids = np.random.randint(data.shape[0], size = 10)\r\n",
    "    r = 0\r\n",
    "    c = 0\r\n",
    "    for id in ids:\r\n",
    "        im = data[id]\r\n",
    "\r\n",
    "        # original image\r\n",
    "        ax[r, c].imshow(im)\r\n",
    "        l_id = label[id]\r\n",
    "        if (compare) and (actual is not None) and (l_id != np.argmax(actual[id])):\r\n",
    "            a_id = np.argmax(actual[id])\r\n",
    "            ax[r, c].set_title('Class %d (%s) [\\u2260 %d-%s]' % (l_id, classes[l_id], a_id, classes[a_id]))\r\n",
    "        else:\r\n",
    "            ax[r, c].set_title('Class %d (%s)' % (l_id, classes[l_id]))\r\n",
    "        ax[r, c].set_xticks([])\r\n",
    "        ax[r, c].set_yticks([])\r\n",
    "        c += 1\r\n",
    "        if c > 4:\r\n",
    "            r += 1\r\n",
    "            c = 0\r\n",
    "\r\n",
    "    plt.show()"
   ],
   "outputs": [],
   "metadata": {}
  },
  {
   "cell_type": "code",
   "execution_count": 58,
   "source": [
    "check_ten(X_train, y_train.flatten())"
   ],
   "outputs": [
    {
     "output_type": "display_data",
     "data": {
      "image/png": "[encoded data removed]",
      "text/plain": [
       "<Figure size 792x360 with 10 Axes>"
      ]
     },
     "metadata": {}
    }
   ],
   "metadata": {}
  },
  {
   "cell_type": "code",
   "execution_count": 59,
   "source": [
    "from tensorflow.keras.utils import to_categorical"
   ],
   "outputs": [],
   "metadata": {}
  },
  {
   "cell_type": "code",
   "execution_count": 60,
   "source": [
    "# Prepare input data\r\n",
    "_, img_rows, img_cols, img_channels = X_train.shape\r\n",
    "num_classes = len(set(y_train.flatten()))\r\n",
    "\r\n",
    "# Convert the target to categorical\r\n",
    "y_train = to_categorical(\r\n",
    "    y_train,\r\n",
    "    num_classes = num_classes,\r\n",
    "    dtype = 'uint8')\r\n",
    "y_test = to_categorical(\r\n",
    "    y_test,\r\n",
    "    num_classes = num_classes,\r\n",
    "    dtype = 'uint8')"
   ],
   "outputs": [],
   "metadata": {}
  },
  {
   "cell_type": "code",
   "execution_count": 61,
   "source": [
    "y_train[:5]"
   ],
   "outputs": [
    {
     "output_type": "execute_result",
     "data": {
      "text/plain": [
       "array([[0, 0, 0, 0, 0, 0, 1, 0, 0, 0],\n",
       "       [0, 0, 0, 0, 0, 0, 0, 0, 0, 1],\n",
       "       [0, 0, 0, 0, 0, 0, 0, 0, 0, 1],\n",
       "       [0, 0, 0, 0, 1, 0, 0, 0, 0, 0],\n",
       "       [0, 1, 0, 0, 0, 0, 0, 0, 0, 0]], dtype=uint8)"
      ]
     },
     "metadata": {},
     "execution_count": 61
    }
   ],
   "metadata": {}
  },
  {
   "cell_type": "code",
   "execution_count": 62,
   "source": [
    "model = Sequential()"
   ],
   "outputs": [],
   "metadata": {}
  },
  {
   "cell_type": "code",
   "execution_count": 63,
   "source": [
    "from keras.layers import Conv2D\r\n",
    "from keras.layers import Dense\r\n",
    "from keras.layers import Dropout\r\n",
    "from keras.layers import Flatten\r\n",
    "from keras.layers import MaxPool2D"
   ],
   "outputs": [],
   "metadata": {}
  },
  {
   "cell_type": "code",
   "execution_count": 64,
   "source": [
    "model.add(Conv2D(48, kernel_size = 3, activation = 'relu', padding = 'same', input_shape = (32, 32, 3)))\r\n",
    "model.add(Conv2D(48, kernel_size = 3, activation = 'relu'))\r\n",
    "model.add(MaxPool2D(pool_size = (2, 2)))\r\n",
    "model.add(Dropout(0.25))\r\n",
    "model.add(Conv2D(96, kernel_size = 3, activation = 'relu', padding = 'same'))\r\n",
    "model.add(Conv2D(96, kernel_size = 3, activation = 'relu'))\r\n",
    "model.add(MaxPool2D(pool_size = (2, 2)))\r\n",
    "model.add(Dropout(0.25))\r\n",
    "model.add(Conv2D(192, kernel_size = 3, activation = 'relu', padding = 'same'))\r\n",
    "model.add(Conv2D(192, kernel_size = 3, activation = 'relu'))\r\n",
    "model.add(MaxPool2D(pool_size = (2, 2)))\r\n",
    "model.add(Dropout(0.25))\r\n",
    "model.add(Flatten())\r\n",
    "model.add(Dense(512, activation = 'relu'))\r\n",
    "model.add(Dropout(0.5))\r\n",
    "model.add(Dense(256, activation = 'relu'))\r\n",
    "model.add(Dropout(0.5))\r\n",
    "model.add(Dense(num_classes, activation = 'softmax'))"
   ],
   "outputs": [],
   "metadata": {}
  },
  {
   "cell_type": "code",
   "execution_count": 65,
   "source": [
    "model.summary()"
   ],
   "outputs": [
    {
     "output_type": "stream",
     "name": "stdout",
     "text": [
      "Model: \"sequential_1\"\n",
      "_________________________________________________________________\n",
      "Layer (type)                 Output Shape              Param #   \n",
      "=================================================================\n",
      "conv2d_6 (Conv2D)            (None, 32, 32, 48)        1344      \n",
      "_________________________________________________________________\n",
      "conv2d_7 (Conv2D)            (None, 30, 30, 48)        20784     \n",
      "_________________________________________________________________\n",
      "max_pooling2d_3 (MaxPooling2 (None, 15, 15, 48)        0         \n",
      "_________________________________________________________________\n",
      "dropout_5 (Dropout)          (None, 15, 15, 48)        0         \n",
      "_________________________________________________________________\n",
      "conv2d_8 (Conv2D)            (None, 15, 15, 96)        41568     \n",
      "_________________________________________________________________\n",
      "conv2d_9 (Conv2D)            (None, 13, 13, 96)        83040     \n",
      "_________________________________________________________________\n",
      "max_pooling2d_4 (MaxPooling2 (None, 6, 6, 96)          0         \n",
      "_________________________________________________________________\n",
      "dropout_6 (Dropout)          (None, 6, 6, 96)          0         \n",
      "_________________________________________________________________\n",
      "conv2d_10 (Conv2D)           (None, 6, 6, 192)         166080    \n",
      "_________________________________________________________________\n",
      "conv2d_11 (Conv2D)           (None, 4, 4, 192)         331968    \n",
      "_________________________________________________________________\n",
      "max_pooling2d_5 (MaxPooling2 (None, 2, 2, 192)         0         \n",
      "_________________________________________________________________\n",
      "dropout_7 (Dropout)          (None, 2, 2, 192)         0         \n",
      "_________________________________________________________________\n",
      "flatten_1 (Flatten)          (None, 768)               0         \n",
      "_________________________________________________________________\n",
      "dense_3 (Dense)              (None, 512)               393728    \n",
      "_________________________________________________________________\n",
      "dropout_8 (Dropout)          (None, 512)               0         \n",
      "_________________________________________________________________\n",
      "dense_4 (Dense)              (None, 256)               131328    \n",
      "_________________________________________________________________\n",
      "dropout_9 (Dropout)          (None, 256)               0         \n",
      "_________________________________________________________________\n",
      "dense_5 (Dense)              (None, 10)                2570      \n",
      "=================================================================\n",
      "Total params: 1,172,410\n",
      "Trainable params: 1,172,410\n",
      "Non-trainable params: 0\n",
      "_________________________________________________________________\n"
     ]
    }
   ],
   "metadata": {}
  },
  {
   "cell_type": "markdown",
   "source": [
    "## Compile the model"
   ],
   "metadata": {
    "colab_type": "text",
    "id": "Dyq0xqGd1qoh"
   }
  },
  {
   "cell_type": "code",
   "execution_count": 66,
   "source": [
    "model.compile(optimizer = 'adam', \r\n",
    "              loss = 'categorical_crossentropy', \r\n",
    "              metrics = ['accuracy'])"
   ],
   "outputs": [],
   "metadata": {
    "colab": {},
    "colab_type": "code",
    "id": "zSv44CjG1qoh"
   }
  },
  {
   "cell_type": "markdown",
   "source": [
    "## Fit the training data"
   ],
   "metadata": {
    "colab_type": "text",
    "id": "27wG0lYH1qoj"
   }
  },
  {
   "cell_type": "code",
   "execution_count": 67,
   "source": [
    "# Uncomment the statement below to allow online monitoring with TensorBoard\r\n",
    "tensorboard = TensorBoard(log_dir = 'logs') # choose or create a directory for the logs"
   ],
   "outputs": [],
   "metadata": {
    "colab": {},
    "colab_type": "code",
    "id": "Z8gUYh3n1qoj"
   }
  },
  {
   "cell_type": "code",
   "execution_count": 69,
   "source": [
    "%%time\r\n",
    "# Fit the model on a training set\r\n",
    "history = model.fit(\r\n",
    "    X_train,\r\n",
    "    y_train,\r\n",
    "    validation_split = 0.2,\r\n",
    "    # epochs = 100,\r\n",
    "    epochs = 30,\r\n",
    "    # batch_size = 100,\r\n",
    "    batch_size = 100,\r\n",
    "    callbacks = [tensorboard],\r\n",
    "    verbose = 0)\r\n",
    "print(f'Training accuracy:{history.history[\"accuracy\"][-1]:.2f} validation accuracy:{history.history[\"val_accuracy\"][-1]:.2f} ')"
   ],
   "outputs": [
    {
     "output_type": "stream",
     "name": "stdout",
     "text": [
      "WARNING:tensorflow:Callbacks method `on_train_batch_end` is slow compared to the batch time (batch time: 0.3476s vs `on_train_batch_end` time: 1.4359s). Check your callbacks.\n",
      "Training accuracy:0.50 validation accuracy:0.52 \n",
      "Wall time: 47min 1s\n"
     ]
    }
   ],
   "metadata": {
    "colab": {},
    "colab_type": "code",
    "id": "0ux6Ss1h1qok"
   }
  },
  {
   "cell_type": "markdown",
   "source": [
    "### TensorBoard\n",
    "- TensorBoard is TensorFlow's visualisation toolkit. \n",
    "- If Tensorflow 2 and Jupyter is installed in the same environment, running the cell below will start TensorBoard within the notebook.\n",
    "- More information about how to set up TensorBoard can be found [here](https://www.tensorflow.org/tensorboard/tensorboard_in_notebooks)\n"
   ],
   "metadata": {
    "colab_type": "text",
    "id": "PCL-erlE1qol"
   }
  },
  {
   "cell_type": "code",
   "execution_count": null,
   "source": [
    "%load_ext tensorboard\r\n",
    "%tensorboard --logdir logs"
   ],
   "outputs": [],
   "metadata": {
    "colab": {},
    "colab_type": "code",
    "id": "_SC1MnqpABBQ"
   }
  },
  {
   "cell_type": "markdown",
   "source": [
    "## Create predictions"
   ],
   "metadata": {
    "colab_type": "text",
    "id": "tQ_vBEpk1qom"
   }
  },
  {
   "cell_type": "code",
   "execution_count": 71,
   "source": [
    "%%time\r\n",
    "predictions = model.predict_classes(X_test)"
   ],
   "outputs": [
    {
     "output_type": "stream",
     "name": "stdout",
     "text": [
      "WARNING:tensorflow:From <timed exec>:1: Sequential.predict_classes (from tensorflow.python.keras.engine.sequential) is deprecated and will be removed after 2021-01-01.\n",
      "Instructions for updating:\n",
      "Please use instead:* `np.argmax(model.predict(x), axis=-1)`,   if your model does multi-class classification   (e.g. if it uses a `softmax` last-layer activation).* `(model.predict(x) > 0.5).astype(\"int32\")`,   if your model does binary classification   (e.g. if it uses a `sigmoid` last-layer activation).\n",
      "Wall time: 9.61 s\n"
     ]
    }
   ],
   "metadata": {
    "colab": {},
    "colab_type": "code",
    "id": "EuVMau111qon"
   }
  },
  {
   "cell_type": "markdown",
   "source": [
    "## Evaluate the model"
   ],
   "metadata": {
    "colab_type": "text",
    "id": "2lA8OW9e1qop"
   }
  },
  {
   "cell_type": "code",
   "execution_count": 72,
   "source": [
    "# insert code here\r\n",
    "score = model.evaluate(X_test, y_test, batch_size = 10)\r\n",
    "print('\\nTest loss: %.6f, Test accuracy: %.6f' % tuple(score))"
   ],
   "outputs": [
    {
     "output_type": "stream",
     "name": "stdout",
     "text": [
      "1000/1000 [==============================] - 13s 13ms/step - loss: 1.3512 - accuracy: 0.5181\n",
      "\n",
      "Test loss: 1.351184, Test accuracy: 0.518100\n"
     ]
    }
   ],
   "metadata": {
    "colab": {},
    "colab_type": "code",
    "id": "CjKr29mZ1qoq"
   }
  },
  {
   "cell_type": "code",
   "execution_count": 73,
   "source": [
    "def print_cm(cm):\r\n",
    "    d_size = max(len('%d' % cm.max()), len('%d' % cm.shape[1]))\r\n",
    "    if min(cm.shape) > 10: # make sparse\r\n",
    "        print('Sparse Matrix (*=diagonal)')\r\n",
    "        fmt_c = ', c%%0%dd%%s= %%%dd' % (d_size, d_size)\r\n",
    "        for i in range(cm.shape[0]):\r\n",
    "            s = fmt_r % i\r\n",
    "            for j in range(cm.shape[1]):\r\n",
    "                if cm[i, j] > 0:\r\n",
    "                    s += fmt_c % (j, '*' if i == j else ' ', cm[i, j])\r\n",
    "            print(s)\r\n",
    "    else: # make dense\r\n",
    "        c = '%%%dd ' % d_size\r\n",
    "        s = '%s| ' % (' ' * d_size)\r\n",
    "        s += ''.join([c % i for i in range(len(cm[0]))])\r\n",
    "        print(s)\r\n",
    "        print('-' * len(s))\r\n",
    "        for i, r in enumerate(cm):\r\n",
    "            s = '%%%dd| ' % d_size\r\n",
    "            s = s % i\r\n",
    "            s += c * len(r)\r\n",
    "            print(s % tuple(r))"
   ],
   "outputs": [],
   "metadata": {}
  },
  {
   "cell_type": "code",
   "execution_count": 75,
   "source": [
    "from sklearn.metrics import confusion_matrix"
   ],
   "outputs": [],
   "metadata": {}
  },
  {
   "cell_type": "code",
   "execution_count": 76,
   "source": [
    "y_test_target = np.array([x.argmax() for x in y_test])\r\n",
    "cm = confusion_matrix(y_test_target, predictions)\r\n",
    "print_cm(cm)"
   ],
   "outputs": [
    {
     "output_type": "stream",
     "name": "stdout",
     "text": [
      "   |   0   1   2   3   4   5   6   7   8   9 \n",
      "---------------------------------------------\n",
      "  0| 509  34  22  19  61   9  17  37 261  31 \n",
      "  1|  12 685   1  11   6  10  31   9  80 155 \n",
      "  2|  63  11 277  57 258 115  86  85  34  14 \n",
      "  3|  12  17  30 170 195 252 163 110  24  27 \n",
      "  4|  18   4  42  32 571  46 117 147  13  10 \n",
      "  5|   6   6  44  88 159 464  78 139   4  12 \n",
      "  6|   6   8  34  62 177  31 630  29   9  14 \n",
      "  7|  10   9  12  35 113 113  47 622   8  31 \n",
      "  8|  70  76   8  39  34   6  14  12 723  18 \n",
      "  9|  27 222   2  22  23  12  33  32  97 530 \n"
     ]
    }
   ],
   "metadata": {}
  },
  {
   "cell_type": "code",
   "execution_count": 99,
   "source": [
    "len(model.history.history)"
   ],
   "outputs": [
    {
     "output_type": "execute_result",
     "data": {
      "text/plain": [
       "0"
      ]
     },
     "metadata": {},
     "execution_count": 99
    }
   ],
   "metadata": {}
  },
  {
   "cell_type": "code",
   "execution_count": 98,
   "source": [
    "for key, value in model.history.history.items():\r\n",
    "    print(key, ' : ', value)"
   ],
   "outputs": [],
   "metadata": {}
  },
  {
   "cell_type": "markdown",
   "source": [
    "## Visualisation of cost"
   ],
   "metadata": {
    "colab_type": "text",
    "id": "EI2omiec1qos"
   }
  },
  {
   "cell_type": "code",
   "execution_count": 89,
   "source": [
    "fig, ax = plt.subplots(1, 2, figsize = (18, 6))\r\n",
    "fig.subplots_adjust(left = 0.02, right = 0.98, wspace = 0.2)\r\n",
    "\r\n",
    "plt.rcParams.update({'font.size': 18})\r\n",
    "\r\n",
    "# Plot training & validation accuracy values\r\n",
    "ax[0].plot(model.history.history['accuracy'])\r\n",
    "ax[0].plot(model.history.history['val_accuracy'])\r\n",
    "ax[0].set_title('Model accuracy')\r\n",
    "ax[0].set_ylabel('Accuracy')\r\n",
    "ax[0].set_xlabel('Epoch')\r\n",
    "ax[0].legend(['Train', 'Validation'])\r\n",
    "\r\n",
    "# Plot training & validation loss values\r\n",
    "ax[1].plot(model.history.history['loss'])\r\n",
    "ax[1].plot(model.history.history['val_loss'])\r\n",
    "ax[1].set_title('Model loss')\r\n",
    "ax[1].set_ylabel('Loss')\r\n",
    "ax[1].set_xlabel('Epoch')\r\n",
    "ax[1].legend(['Train', 'Validation'])\r\n",
    "\r\n",
    "plt.show()"
   ],
   "outputs": [
    {
     "output_type": "error",
     "ename": "KeyError",
     "evalue": "'loss'",
     "traceback": [
      "\u001b[1;31m---------------------------------------------------------------------------\u001b[0m",
      "\u001b[1;31mKeyError\u001b[0m                                  Traceback (most recent call last)",
      "\u001b[1;32m~\\AppData\\Local\\Temp/ipykernel_20460/1759213493.py\u001b[0m in \u001b[0;36m<module>\u001b[1;34m\u001b[0m\n\u001b[0;32m      5\u001b[0m \u001b[1;33m\u001b[0m\u001b[0m\n\u001b[0;32m      6\u001b[0m \u001b[1;31m# Plot training & validation accuracy values\u001b[0m\u001b[1;33m\u001b[0m\u001b[1;33m\u001b[0m\u001b[1;33m\u001b[0m\u001b[0m\n\u001b[1;32m----> 7\u001b[1;33m \u001b[0max\u001b[0m\u001b[1;33m[\u001b[0m\u001b[1;36m0\u001b[0m\u001b[1;33m]\u001b[0m\u001b[1;33m.\u001b[0m\u001b[0mplot\u001b[0m\u001b[1;33m(\u001b[0m\u001b[0mmodel\u001b[0m\u001b[1;33m.\u001b[0m\u001b[0mhistory\u001b[0m\u001b[1;33m.\u001b[0m\u001b[0mhistory\u001b[0m\u001b[1;33m[\u001b[0m\u001b[1;34m'loss'\u001b[0m\u001b[1;33m]\u001b[0m\u001b[1;33m)\u001b[0m\u001b[1;33m\u001b[0m\u001b[1;33m\u001b[0m\u001b[0m\n\u001b[0m\u001b[0;32m      8\u001b[0m \u001b[0max\u001b[0m\u001b[1;33m[\u001b[0m\u001b[1;36m0\u001b[0m\u001b[1;33m]\u001b[0m\u001b[1;33m.\u001b[0m\u001b[0mplot\u001b[0m\u001b[1;33m(\u001b[0m\u001b[0mmodel\u001b[0m\u001b[1;33m.\u001b[0m\u001b[0mhistory\u001b[0m\u001b[1;33m.\u001b[0m\u001b[0mhistory\u001b[0m\u001b[1;33m[\u001b[0m\u001b[1;34m'val_accuracy'\u001b[0m\u001b[1;33m]\u001b[0m\u001b[1;33m)\u001b[0m\u001b[1;33m\u001b[0m\u001b[1;33m\u001b[0m\u001b[0m\n\u001b[0;32m      9\u001b[0m \u001b[0max\u001b[0m\u001b[1;33m[\u001b[0m\u001b[1;36m0\u001b[0m\u001b[1;33m]\u001b[0m\u001b[1;33m.\u001b[0m\u001b[0mset_title\u001b[0m\u001b[1;33m(\u001b[0m\u001b[1;34m'Model accuracy'\u001b[0m\u001b[1;33m)\u001b[0m\u001b[1;33m\u001b[0m\u001b[1;33m\u001b[0m\u001b[0m\n",
      "\u001b[1;31mKeyError\u001b[0m: 'loss'"
     ]
    },
    {
     "output_type": "display_data",
     "data": {
      "image/png": "[encoded data removed]",
      "text/plain": [
       "<Figure size 1296x432 with 2 Axes>"
      ]
     },
     "metadata": {
      "needs_background": "light"
     }
    }
   ],
   "metadata": {
    "colab": {},
    "colab_type": "code",
    "id": "_REk0bSz1qos"
   }
  },
  {
   "cell_type": "code",
   "execution_count": 79,
   "source": [
    "check_one(X_test, predictions, actual = y_test, compare = True)"
   ],
   "outputs": [
    {
     "output_type": "display_data",
     "data": {
      "image/png": "[encoded data removed]",
      "text/plain": [
       "<Figure size 216x216 with 1 Axes>"
      ]
     },
     "metadata": {}
    }
   ],
   "metadata": {}
  },
  {
   "cell_type": "code",
   "execution_count": 80,
   "source": [
    "check_ten(X_test, predictions, y_test, True)"
   ],
   "outputs": [
    {
     "output_type": "display_data",
     "data": {
      "image/png": "[encoded data removed]",
      "text/plain": [
       "<Figure size 792x360 with 10 Axes>"
      ]
     },
     "metadata": {}
    }
   ],
   "metadata": {}
  },
  {
   "cell_type": "markdown",
   "source": [
    "## Results"
   ],
   "metadata": {
    "colab_type": "text",
    "id": "d1KBysuc1qou"
   }
  },
  {
   "cell_type": "code",
   "execution_count": null,
   "source": [
    "# insert code here"
   ],
   "outputs": [],
   "metadata": {
    "colab": {},
    "colab_type": "code",
    "id": "r2Rqvn1i1qou"
   }
  },
  {
   "cell_type": "markdown",
   "source": [
    "\n",
    "\n",
    "---\n",
    "\n",
    "\n",
    "\n",
    "---\n",
    "\n",
    "\n",
    "\n",
    "> > > > > > > > > © 2021 Institute of Data\n",
    "\n",
    "\n",
    "---\n",
    "\n",
    "\n",
    "\n",
    "---\n",
    "\n",
    "\n",
    "\n"
   ],
   "metadata": {
    "colab_type": "text",
    "id": "RERADKgNFq9T"
   }
  }
 ],
 "metadata": {
  "colab": {
   "collapsed_sections": [],
   "name": "IOD_Lab-10_2.ipynb",
   "provenance": []
  },
  "kernelspec": {
   "name": "python3",
   "display_name": "Python 3.8.11 64-bit ('Env_DL': conda)"
  },
  "language_info": {
   "codemirror_mode": {
    "name": "ipython",
    "version": 3
   },
   "file_extension": ".py",
   "mimetype": "text/x-python",
   "name": "python",
   "nbconvert_exporter": "python",
   "pygments_lexer": "ipython3",
   "version": "3.8.11"
  },
  "interpreter": {
   "hash": "d4cc69c2496bab24d490eb520a5bd7b6815fd7f954a293db4d3694c71cf4aecc"
  }
 },
 "nbformat": 4,
 "nbformat_minor": 4
}