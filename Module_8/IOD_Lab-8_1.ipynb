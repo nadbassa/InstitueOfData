{
 "cells": [
  {
   "cell_type": "markdown",
   "source": [
    "<div>\n",
    "<img src=https://www.institutedata.com/wp-content/uploads/2019/10/iod_h_tp_primary_c.svg width=\"300\">\n",
    "</div>"
   ],
   "metadata": {
    "colab_type": "text",
    "id": "4hbPgptrMKl-"
   }
  },
  {
   "cell_type": "markdown",
   "source": [
    "# Lab 8.1: Regular Expressions\n",
    "INSTRUCTIONS:\n",
    "- Read the guides and [hints](https://www.w3schools.com/python/python_regex.asp), then create the necessary analysis and code to find an answer and conclusion for the task below.\n",
    "- Complete `IOD Demo-9_2` first"
   ],
   "metadata": {
    "colab_type": "text",
    "id": "5YFCF9NXMKmB"
   }
  },
  {
   "cell_type": "markdown",
   "source": [
    "## 0. Import the necessary libraries\n",
    "\n",
    "Please use Python's built-in package called `re` to work with Regular Expressions."
   ],
   "metadata": {
    "colab_type": "text",
    "id": "7HixmqcIMKmF"
   }
  },
  {
   "cell_type": "code",
   "execution_count": 1,
   "source": [
    "# Import Libraries\r\n",
    "import re"
   ],
   "outputs": [],
   "metadata": {
    "colab": {},
    "colab_type": "code",
    "id": "zvHNnovVcwu0"
   }
  },
  {
   "cell_type": "markdown",
   "source": [
    "## 1. Extract the `user id`, `domain name` and `suffix` from the following email addresses\n",
    "**Hint**: Use groups with `()`. There are more sophisticated patterns for matching the email domain and suffix. This is just one version of the answer."
   ],
   "metadata": {
    "colab_type": "text",
    "id": "uyj2kaYeMKmI"
   }
  },
  {
   "cell_type": "code",
   "execution_count": 8,
   "source": [
    "emails = '''zuck26@facebook.com\r\n",
    "page33@google.com\r\n",
    "jeff42@amazon.com'''\r\n",
    "\r\n",
    "desired_output = [\r\n",
    "    ('zuck26', 'facebook', 'com'),\r\n",
    "    ('page33', 'google', 'com'),\r\n",
    "    ('jeff42', 'amazon', 'com')\r\n",
    "]\r\n",
    "\r\n",
    "pattern =  r'(\\w+)@(\\w+)\\.([a-z]{2,4})'\r\n",
    "flags = re.IGNORECASE\r\n",
    "\r\n",
    "output = re.findall(pattern, emails, flags = flags)\r\n",
    "\r\n",
    "assert output == desired_output, 'Not equal!'\r\n",
    "output"
   ],
   "outputs": [
    {
     "output_type": "execute_result",
     "data": {
      "text/plain": [
       "[('zuck26', 'facebook', 'com'),\n",
       " ('page33', 'google', 'com'),\n",
       " ('jeff42', 'amazon', 'com')]"
      ]
     },
     "metadata": {},
     "execution_count": 8
    }
   ],
   "metadata": {
    "colab": {},
    "colab_type": "code",
    "id": "RyB5pa2iMKmL"
   }
  },
  {
   "cell_type": "markdown",
   "source": [
    "## 2. Retrieve all the words starting with 'b' or 'B' from the following text\n",
    "`\\b` mandates the left of `B` is a word boundary, effectively requiring the word to start with `B`.\n",
    "\n",
    "Setting `flags` arg to `re.IGNORECASE` makes the pattern case insensitive."
   ],
   "metadata": {
    "colab_type": "text",
    "id": "x5VnTr9ZMKmV"
   }
  },
  {
   "cell_type": "code",
   "execution_count": 13,
   "source": [
    "text = 'Betty bought a bit of butter, But the butter was so bitter, So she bought some better butter, To make the bitter butter better.'\r\n",
    "\r\n",
    "desired_output = [\r\n",
    "    'Betty', 'bought', 'bit', 'butter', 'But', \r\n",
    "    'butter', 'bitter', 'bought', 'better', \r\n",
    "    'butter', 'bitter', 'butter', 'better'\r\n",
    "]\r\n",
    "\r\n",
    "pattern = r'\\bb[a-z]+'\r\n",
    "flags = re.IGNORECASE\r\n",
    "\r\n",
    "output = re.findall(pattern, text, flags = flags)\r\n",
    "\r\n",
    "assert output == desired_output, 'Not equal!'\r\n",
    "output"
   ],
   "outputs": [
    {
     "output_type": "execute_result",
     "data": {
      "text/plain": [
       "['Betty',\n",
       " 'bought',\n",
       " 'bit',\n",
       " 'butter',\n",
       " 'But',\n",
       " 'butter',\n",
       " 'bitter',\n",
       " 'bought',\n",
       " 'better',\n",
       " 'butter',\n",
       " 'bitter',\n",
       " 'butter',\n",
       " 'better']"
      ]
     },
     "metadata": {},
     "execution_count": 13
    }
   ],
   "metadata": {
    "colab": {},
    "colab_type": "code",
    "id": "mL5R80-xMKmX"
   }
  },
  {
   "cell_type": "markdown",
   "source": [
    "## 3. Split the following irregular sentence into words\n",
    "Add more delimiters into the pattern as needed."
   ],
   "metadata": {
    "colab_type": "text",
    "id": "Dhzd73XzMKmb"
   }
  },
  {
   "cell_type": "code",
   "execution_count": 15,
   "source": [
    "sentence = 'A, very   very; irregular_sentence'\r\n",
    "\r\n",
    "desired_output = 'A very very irregular sentence'\r\n",
    "\r\n",
    "pattern = r'[\\s,;_]+'\r\n",
    "\r\n",
    "output = ' '.join(re.split(pattern, sentence))\r\n",
    "\r\n",
    "assert output == desired_output, 'Not equal!'\r\n",
    "\r\n",
    "output\r\n"
   ],
   "outputs": [
    {
     "output_type": "execute_result",
     "data": {
      "text/plain": [
       "'A very very irregular sentence'"
      ]
     },
     "metadata": {},
     "execution_count": 15
    }
   ],
   "metadata": {
    "colab": {},
    "colab_type": "code",
    "id": "RCILkx5rMKmd"
   }
  },
  {
   "cell_type": "markdown",
   "source": [
    "## 4. Clean up the following tweet so that it contains only the user’s message\n",
    "That is, remove all URLs, hashtags, mentions, punctuations, RTs and CCs."
   ],
   "metadata": {
    "colab_type": "text",
    "id": "YJoo9KuFMKmh"
   }
  },
  {
   "cell_type": "code",
   "execution_count": 46,
   "source": [
    "tweet = 'Good advice! RT @TheNextWeb: What I would do differently if I was learning to code today http://t.co/lbwej0pxOd cc: @garybernhardt #rstats'\r\n",
    "\r\n",
    "desired_output = 'Good advice What I would do differently if I was learning to code today'\r\n",
    "\r\n",
    "def clean_tweet(tweet):\r\n",
    "    tweet = re.sub(r'\\bhttp[\\S]+', '', tweet)  # remove URLs\r\n",
    "    tweet = re.sub(r'cc|RT', '', tweet)  # remove RT and cc\r\n",
    "    tweet = re.sub(r'\\#[\\S]+', '', tweet)  # remove hashtags\r\n",
    "    tweet = re.sub(r'\\@[\\S]+', '', tweet)  # remove mentions\r\n",
    "    tweet = re.sub(r'[^\\w\\s]+', '', tweet)   # remove punctuations\r\n",
    "    tweet = re.sub(r'[\\s]+', ' ', tweet)  # remove extra whitespace\r\n",
    "    tweet = re.sub(r'\\s+$', '', tweet)  # remove extra whitespace\r\n",
    "    return tweet\r\n",
    "\r\n",
    "output = clean_tweet(tweet)\r\n",
    "\r\n",
    "assert output == desired_output, 'Not equal!'\r\n",
    "\r\n",
    "output"
   ],
   "outputs": [
    {
     "output_type": "execute_result",
     "data": {
      "text/plain": [
       "'Good advice What I would do differently if I was learning to code today'"
      ]
     },
     "metadata": {},
     "execution_count": 46
    }
   ],
   "metadata": {
    "colab": {},
    "colab_type": "code",
    "id": "02JgjxPTMKmi"
   }
  },
  {
   "cell_type": "code",
   "execution_count": 47,
   "source": [
    "#tweet = 'Good advice   What I would do differently if I was learning to code today '\r\n",
    "#tweet = re.sub(r'[\\s]+', ' ', tweet) \r\n",
    "#tweet"
   ],
   "outputs": [],
   "metadata": {}
  },
  {
   "cell_type": "markdown",
   "source": [
    "\n",
    "\n",
    "---\n",
    "\n",
    "\n",
    "\n",
    "---\n",
    "\n",
    "\n",
    "\n",
    "> > > > > > > > > © 2021 Institute of Data\n",
    "\n",
    "\n",
    "---\n",
    "\n",
    "\n",
    "\n",
    "---\n",
    "\n",
    "\n",
    "\n"
   ],
   "metadata": {
    "colab_type": "text",
    "id": "RERADKgNFq9T"
   }
  }
 ],
 "metadata": {
  "colab": {
   "collapsed_sections": [],
   "name": "DSIA Lab-9_1.ipynb",
   "provenance": []
  },
  "kernelspec": {
   "name": "python3",
   "display_name": "Python 3.8.11 64-bit ('Env_DL': conda)"
  },
  "language_info": {
   "codemirror_mode": {
    "name": "ipython",
    "version": 3
   },
   "file_extension": ".py",
   "mimetype": "text/x-python",
   "name": "python",
   "nbconvert_exporter": "python",
   "pygments_lexer": "ipython3",
   "version": "3.8.11"
  },
  "interpreter": {
   "hash": "d4cc69c2496bab24d490eb520a5bd7b6815fd7f954a293db4d3694c71cf4aecc"
  }
 },
 "nbformat": 4,
 "nbformat_minor": 1
}