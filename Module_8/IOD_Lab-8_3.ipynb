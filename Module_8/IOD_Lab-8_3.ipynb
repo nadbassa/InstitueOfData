{
 "cells": [
  {
   "cell_type": "markdown",
   "source": [
    "<div>\n",
    "<img src=https://www.institutedata.com/wp-content/uploads/2019/10/iod_h_tp_primary_c.svg width=\"300\">\n",
    "</div>"
   ],
   "metadata": {
    "colab_type": "text",
    "id": "XXUiceLiLNOv"
   }
  },
  {
   "cell_type": "markdown",
   "source": [
    "# Lab 8.3: Working with Text\n",
    "- Using [NLTK](http://www.nltk.org) (Natural Language Toolkit)\n",
    "- Using [spaCy](https://spacy.io)\n",
    "\n",
    "INSTRUCTIONS:\n",
    "- Run the cells\n",
    "- Observe and understand the results\n",
    "- Answer the questions"
   ],
   "metadata": {
    "colab_type": "text",
    "id": "SmJwFqq5LNOx"
   }
  },
  {
   "cell_type": "markdown",
   "source": [
    "## Import libraries"
   ],
   "metadata": {
    "colab_type": "text",
    "id": "I83eiiJqLNO0"
   }
  },
  {
   "cell_type": "code",
   "execution_count": 64,
   "source": [
    "## Import Libraries\r\n",
    "%matplotlib inline\r\n",
    "import matplotlib.pyplot as plt\r\n",
    "from collections import Counter\r\n",
    "\r\n",
    "import re\r\n",
    "import spacy\r\n",
    "#import nltk"
   ],
   "outputs": [],
   "metadata": {
    "ExecuteTime": {
     "end_time": "2019-06-17T01:17:23.125143Z",
     "start_time": "2019-06-17T01:17:20.625946Z"
    },
    "colab": {},
    "colab_type": "code",
    "id": "-ecJn_1MLNO4"
   }
  },
  {
   "cell_type": "code",
   "execution_count": 66,
   "source": [
    "import nltk"
   ],
   "outputs": [],
   "metadata": {}
  },
  {
   "cell_type": "markdown",
   "source": [
    "## Load data"
   ],
   "metadata": {
    "colab_type": "text",
    "id": "OsSgzr8MLNO9"
   }
  },
  {
   "cell_type": "code",
   "execution_count": 65,
   "source": [
    "## Loading the data\r\n",
    "\r\n",
    "input_file = 'C:/Users/nadun/Documents/InstitueOfData/DATA/ncc-1701-D.txt'\r\n",
    "\r\n",
    "with open(input_file, 'r') as f:\r\n",
    "    text = f.read()"
   ],
   "outputs": [],
   "metadata": {
    "ExecuteTime": {
     "end_time": "2019-06-17T01:17:24.800475Z",
     "start_time": "2019-06-17T01:17:24.784516Z"
    },
    "colab": {},
    "colab_type": "code",
    "id": "HvyU9ZbtLNPA"
   }
  },
  {
   "cell_type": "markdown",
   "source": [
    "## Inspect the data"
   ],
   "metadata": {
    "colab_type": "text",
    "id": "KF9gBdpALNPE"
   }
  },
  {
   "cell_type": "code",
   "execution_count": 8,
   "source": [
    "print(text[:1000])"
   ],
   "outputs": [
    {
     "output_type": "stream",
     "name": "stdout",
     "text": [
      "USS Enterprise (NCC-1701-D)\n",
      "\n",
      "\"For five hundred years, every ship that has borne the name of the Enterprise has become a legend. This one is no different.\"\n",
      "\n",
      "The USS Enterprise (NCC-1701-D) was a 24th century United Federation of Planets Galaxy Class starship operated by Starfleet, and the fifth Federation ship to bear the name Enterprise. During her career, the Enterprise served as the Federation flagship. The Enterprise was destroyed during the Battle of Veridian III in 2371.\n",
      "\n",
      "==History==\n",
      "===Construction and launch===\n",
      "The Enterprise was built at Utopia Planitia Fleet Yards orbiting Mars in the Solar system. The construction was a massive undertaking, involving thousands of people across disciplines. Construction was supervised by Commander Orfil Quinteros. Dr. Leah Brahms was responsible for much of the Enterprise's warp propulsion system design. Some of the Enterprise's components were derived from technology originally developed on the USS Pegasus.\n",
      "\n",
      "One of the ship's nacelle tube was\n"
     ]
    }
   ],
   "metadata": {
    "ExecuteTime": {
     "end_time": "2019-06-17T01:17:28.662206Z",
     "start_time": "2019-06-17T01:17:28.656190Z"
    },
    "colab": {},
    "colab_type": "code",
    "id": "-JImxUzrLNPG",
    "outputId": "13ce31ea-531e-4abd-8f21-c726df89bb21",
    "scrolled": true
   }
  },
  {
   "cell_type": "markdown",
   "source": [
    "## Work the data\n",
    "- if necessary or desired\n",
    "    - remove text or content, e.g. quotes (\") or metadata (===)\n",
    "    - add content or markers, e.g. (#FLAG, --NAME--)\n",
    "    - remove or convert special symbols, e.g. \"é\" to \"e\"\n",
    "    - remove or convert emoticons"
   ],
   "metadata": {
    "colab_type": "text",
    "id": "H5ePf_5bLNPK"
   }
  },
  {
   "cell_type": "code",
   "execution_count": 9,
   "source": [],
   "outputs": [],
   "metadata": {
    "ExecuteTime": {
     "end_time": "2019-06-17T01:18:07.223561Z",
     "start_time": "2019-06-17T01:18:07.219572Z"
    },
    "colab": {},
    "colab_type": "code",
    "id": "BRq7VfoOLNPM"
   }
  },
  {
   "cell_type": "markdown",
   "source": [
    "## Helper method"
   ],
   "metadata": {
    "colab_type": "text",
    "id": "xMG9Yim0LNPP"
   }
  },
  {
   "cell_type": "code",
   "execution_count": 75,
   "source": [
    "# create a bar chart of the frequency of the words in the text\r\n",
    "def plot_words(tokens, top = 30):\r\n",
    "    tokens_counter = Counter(tokens)\r\n",
    "    tok = [t for (t, _) in tokens_counter.most_common()]\r\n",
    "    val = [v for (_, v) in tokens_counter.most_common()]\r\n",
    "\r\n",
    "    plt.figure(figsize = (16, 6))\r\n",
    "    plt.bar(tok[:top], val[:top])\r\n",
    "    plt.title('Number of terms: %d' % len(tokens_counter))\r\n",
    "    plt.xticks(rotation = 90)\r\n",
    "\r\n",
    "    plt.show()"
   ],
   "outputs": [],
   "metadata": {
    "ExecuteTime": {
     "end_time": "2019-06-17T01:18:44.351070Z",
     "start_time": "2019-06-17T01:18:44.330126Z"
    },
    "colab": {},
    "colab_type": "code",
    "id": "3oIPRH3gLNPQ"
   }
  },
  {
   "cell_type": "code",
   "execution_count": 17,
   "source": [
    "#conda install -c conda-forge spacy-model-en_core_web_sm"
   ],
   "outputs": [],
   "metadata": {}
  },
  {
   "cell_type": "markdown",
   "source": [
    "## spaCy model invocation and text processing\n",
    "spaCy does the processing of the text as part of the reading of the data."
   ],
   "metadata": {
    "colab_type": "text",
    "id": "U1FsFC6yLNPS"
   }
  },
  {
   "cell_type": "code",
   "execution_count": 18,
   "source": [
    "# load spaCy and the English model\r\n",
    "nlp = spacy.load('en_core_web_sm')\r\n",
    "\r\n",
    "# process the text\r\n",
    "doc = nlp(text)"
   ],
   "outputs": [],
   "metadata": {
    "ExecuteTime": {
     "end_time": "2019-06-17T01:18:18.119766Z",
     "start_time": "2019-06-17T01:18:16.984471Z"
    },
    "colab": {},
    "colab_type": "code",
    "id": "JgM48u-dLNPU"
   }
  },
  {
   "cell_type": "code",
   "execution_count": 70,
   "source": [
    "type(doc)"
   ],
   "outputs": [
    {
     "output_type": "execute_result",
     "data": {
      "text/plain": [
       "spacy.tokens.doc.Doc"
      ]
     },
     "metadata": {},
     "execution_count": 70
    }
   ],
   "metadata": {}
  },
  {
   "cell_type": "code",
   "execution_count": 69,
   "source": [
    "doc[:100]"
   ],
   "outputs": [
    {
     "output_type": "execute_result",
     "data": {
      "text/plain": [
       "USS Enterprise (NCC-1701-D)\n",
       "\n",
       "\"For five hundred years, every ship that has borne the name of the Enterprise has become a legend. This one is no different.\"\n",
       "\n",
       "The USS Enterprise (NCC-1701-D) was a 24th century United Federation of Planets Galaxy Class starship operated by Starfleet, and the fifth Federation ship to bear the name Enterprise. During her career, the Enterprise served as the Federation flagship. The Enterprise was destroyed during the Battle of Veridian III in 2371.\n",
       "\n",
       "==History=="
      ]
     },
     "metadata": {},
     "execution_count": 69
    }
   ],
   "metadata": {}
  },
  {
   "cell_type": "markdown",
   "source": [
    "## Tokenise"
   ],
   "metadata": {
    "colab_type": "text",
    "id": "z8--KeYzLNPW"
   }
  },
  {
   "cell_type": "code",
   "execution_count": 71,
   "source": [
    "# only show the results\r\n",
    "# spaCy has done it already\r\n",
    "for i, t in enumerate(doc):\r\n",
    "    print('%2d| %r' % (i+1, t.text))\r\n",
    "    if t.text == '.':\r\n",
    "        break"
   ],
   "outputs": [
    {
     "output_type": "stream",
     "name": "stdout",
     "text": [
      " 1| 'USS'\n",
      " 2| 'Enterprise'\n",
      " 3| '('\n",
      " 4| 'NCC-1701'\n",
      " 5| '-'\n",
      " 6| 'D'\n",
      " 7| ')'\n",
      " 8| '\\n\\n'\n",
      " 9| '\"'\n",
      "10| 'For'\n",
      "11| 'five'\n",
      "12| 'hundred'\n",
      "13| 'years'\n",
      "14| ','\n",
      "15| 'every'\n",
      "16| 'ship'\n",
      "17| 'that'\n",
      "18| 'has'\n",
      "19| 'borne'\n",
      "20| 'the'\n",
      "21| 'name'\n",
      "22| 'of'\n",
      "23| 'the'\n",
      "24| 'Enterprise'\n",
      "25| 'has'\n",
      "26| 'become'\n",
      "27| 'a'\n",
      "28| 'legend'\n",
      "29| '.'\n"
     ]
    }
   ],
   "metadata": {
    "ExecuteTime": {
     "end_time": "2019-06-17T01:18:58.447329Z",
     "start_time": "2019-06-17T01:18:58.401479Z"
    },
    "colab": {},
    "colab_type": "code",
    "id": "-7lVWo5DLNPe",
    "outputId": "b679dc9c-f19f-4ad2-fdbd-9b6755c17bae"
   }
  },
  {
   "cell_type": "code",
   "execution_count": 76,
   "source": [
    "plot_words(['%r' % t.text for t in doc])"
   ],
   "outputs": [
    {
     "output_type": "display_data",
     "data": {
      "image/png": "[encoded data removed]",
      "text/plain": [
       "<Figure size 1152x432 with 1 Axes>"
      ]
     },
     "metadata": {
      "needs_background": "light"
     }
    }
   ],
   "metadata": {
    "ExecuteTime": {
     "end_time": "2019-06-17T01:19:56.492190Z",
     "start_time": "2019-06-17T01:19:56.488201Z"
    },
    "colab": {},
    "colab_type": "code",
    "id": "Gcg4Hkx4LNPh",
    "scrolled": false
   }
  },
  {
   "cell_type": "markdown",
   "source": [
    "### Stop Words"
   ],
   "metadata": {
    "colab_type": "text",
    "id": "iAtMzEZTLNPj"
   }
  },
  {
   "cell_type": "code",
   "execution_count": 79,
   "source": [
    "## spaCy\r\n",
    "print('i | with stop words without')\r\n",
    "print('--| --------------- ------------')\r\n",
    "\r\n",
    "# for all the tokens\r\n",
    "for i, t in enumerate(doc):\r\n",
    "    print('%2d| %-15r %r' % (i+1, t.text, ('' if t.is_stop else t.text)))\r\n",
    "\r\n",
    "    # break after the first sentence\r\n",
    "    if t.text == '.':\r\n",
    "        break"
   ],
   "outputs": [
    {
     "output_type": "stream",
     "name": "stdout",
     "text": [
      "i | with stop words without\n",
      "--| --------------- ------------\n",
      " 1| 'USS'           'USS'\n",
      " 2| 'Enterprise'    'Enterprise'\n",
      " 3| '('             '('\n",
      " 4| 'NCC-1701'      'NCC-1701'\n",
      " 5| '-'             '-'\n",
      " 6| 'D'             'D'\n",
      " 7| ')'             ')'\n",
      " 8| '\\n\\n'          '\\n\\n'\n",
      " 9| '\"'             '\"'\n",
      "10| 'For'           ''\n",
      "11| 'five'          ''\n",
      "12| 'hundred'       ''\n",
      "13| 'years'         'years'\n",
      "14| ','             ','\n",
      "15| 'every'         ''\n",
      "16| 'ship'          'ship'\n",
      "17| 'that'          ''\n",
      "18| 'has'           ''\n",
      "19| 'borne'         'borne'\n",
      "20| 'the'           ''\n",
      "21| 'name'          ''\n",
      "22| 'of'            ''\n",
      "23| 'the'           ''\n",
      "24| 'Enterprise'    'Enterprise'\n",
      "25| 'has'           ''\n",
      "26| 'become'        ''\n",
      "27| 'a'             ''\n",
      "28| 'legend'        'legend'\n",
      "29| '.'             '.'\n"
     ]
    }
   ],
   "metadata": {
    "ExecuteTime": {
     "end_time": "2019-06-17T01:24:08.828052Z",
     "start_time": "2019-06-17T01:24:08.777179Z"
    },
    "colab": {},
    "colab_type": "code",
    "id": "zOzudmrILNPq",
    "outputId": "1e58fcfc-674d-42f1-e82a-63f7d61a837a"
   }
  },
  {
   "cell_type": "code",
   "execution_count": 80,
   "source": [
    "plot_words(['%r' % t.text for t in doc if not (t.is_stop | t.is_punct)])"
   ],
   "outputs": [
    {
     "output_type": "display_data",
     "data": {
      "image/png": "[encoded data removed]",
      "text/plain": [
       "<Figure size 1152x432 with 1 Axes>"
      ]
     },
     "metadata": {
      "needs_background": "light"
     }
    }
   ],
   "metadata": {
    "ExecuteTime": {
     "end_time": "2019-06-17T01:22:05.293365Z",
     "start_time": "2019-06-17T01:22:04.981199Z"
    },
    "colab": {},
    "colab_type": "code",
    "id": "B2LoqLmULNPs",
    "outputId": "63f83744-f889-462f-f166-d8add6a03f7e"
   }
  },
  {
   "cell_type": "markdown",
   "source": [
    "### Check Part of Speech"
   ],
   "metadata": {
    "colab_type": "text",
    "id": "9uqME12uLNPu"
   }
  },
  {
   "cell_type": "code",
   "execution_count": 81,
   "source": [
    "## spaCy\r\n",
    "for i, t in enumerate(doc):\r\n",
    "    print('%2d|%-12r : %-5s %s' % (i+1, t.text, t.pos_, t.tag_))\r\n",
    "    if t.text == '.':\r\n",
    "        break"
   ],
   "outputs": [
    {
     "output_type": "stream",
     "name": "stdout",
     "text": [
      " 1|'USS'        : PROPN NNP\n",
      " 2|'Enterprise' : PROPN NNP\n",
      " 3|'('          : PUNCT -LRB-\n",
      " 4|'NCC-1701'   : PROPN NNP\n",
      " 5|'-'          : PUNCT HYPH\n",
      " 6|'D'          : PROPN NNP\n",
      " 7|')'          : PUNCT -RRB-\n",
      " 8|'\\n\\n'       : SPACE _SP\n",
      " 9|'\"'          : PUNCT ``\n",
      "10|'For'        : ADP   IN\n",
      "11|'five'       : NUM   CD\n",
      "12|'hundred'    : NUM   CD\n",
      "13|'years'      : NOUN  NNS\n",
      "14|','          : PUNCT ,\n",
      "15|'every'      : DET   DT\n",
      "16|'ship'       : NOUN  NN\n",
      "17|'that'       : DET   WDT\n",
      "18|'has'        : AUX   VBZ\n",
      "19|'borne'      : VERB  VBN\n",
      "20|'the'        : DET   DT\n",
      "21|'name'       : NOUN  NN\n",
      "22|'of'         : ADP   IN\n",
      "23|'the'        : DET   DT\n",
      "24|'Enterprise' : PROPN NNP\n",
      "25|'has'        : AUX   VBZ\n",
      "26|'become'     : VERB  VBN\n",
      "27|'a'          : DET   DT\n",
      "28|'legend'     : NOUN  NN\n",
      "29|'.'          : PUNCT .\n"
     ]
    }
   ],
   "metadata": {
    "ExecuteTime": {
     "end_time": "2019-06-17T01:22:17.213316Z",
     "start_time": "2019-06-17T01:22:17.169434Z"
    },
    "colab": {},
    "colab_type": "code",
    "id": "vD-BrcLALNPz",
    "outputId": "a26b4e4f-095a-4086-a8fe-841cbbfb5b05"
   }
  },
  {
   "cell_type": "markdown",
   "source": [
    "### Lemmatisation"
   ],
   "metadata": {}
  },
  {
   "cell_type": "code",
   "execution_count": 82,
   "source": [
    "## spaCy\r\n",
    "print('i | Token        Lemma')\r\n",
    "print('--| ------------ ------------')\r\n",
    "for i, t in enumerate(doc):\r\n",
    "    print('%2d| %-12r %r' % (i+1, t.text, t.lemma_))\r\n",
    "    if t.text == '.':\r\n",
    "        break"
   ],
   "outputs": [
    {
     "output_type": "stream",
     "name": "stdout",
     "text": [
      "i | Token        Lemma\n",
      "--| ------------ ------------\n",
      " 1| 'USS'        'USS'\n",
      " 2| 'Enterprise' 'Enterprise'\n",
      " 3| '('          '('\n",
      " 4| 'NCC-1701'   'NCC-1701'\n",
      " 5| '-'          '-'\n",
      " 6| 'D'          'D'\n",
      " 7| ')'          ')'\n",
      " 8| '\\n\\n'       '\\n\\n'\n",
      " 9| '\"'          '\"'\n",
      "10| 'For'        'for'\n",
      "11| 'five'       'five'\n",
      "12| 'hundred'    'hundred'\n",
      "13| 'years'      'year'\n",
      "14| ','          ','\n",
      "15| 'every'      'every'\n",
      "16| 'ship'       'ship'\n",
      "17| 'that'       'that'\n",
      "18| 'has'        'have'\n",
      "19| 'borne'      'bear'\n",
      "20| 'the'        'the'\n",
      "21| 'name'       'name'\n",
      "22| 'of'         'of'\n",
      "23| 'the'        'the'\n",
      "24| 'Enterprise' 'Enterprise'\n",
      "25| 'has'        'have'\n",
      "26| 'become'     'become'\n",
      "27| 'a'          'a'\n",
      "28| 'legend'     'legend'\n",
      "29| '.'          '.'\n"
     ]
    }
   ],
   "metadata": {
    "ExecuteTime": {
     "end_time": "2019-06-17T01:22:53.270758Z",
     "start_time": "2019-06-17T01:22:53.220888Z"
    },
    "colab": {},
    "colab_type": "code",
    "id": "448zp9_vLNQC",
    "outputId": "561168c1-3a42-449d-9be3-dd22182459c3"
   }
  },
  {
   "cell_type": "code",
   "execution_count": 25,
   "source": [
    "plot_words(['%r' % t.lemma_ for t in doc if not (t.is_stop | t.is_punct)])"
   ],
   "outputs": [
    {
     "output_type": "display_data",
     "data": {
      "image/png": "[encoded data removed]",
      "text/plain": [
       "<Figure size 1152x432 with 1 Axes>"
      ]
     },
     "metadata": {
      "needs_background": "light"
     }
    }
   ],
   "metadata": {
    "ExecuteTime": {
     "end_time": "2019-06-17T01:22:56.143434Z",
     "start_time": "2019-06-17T01:22:55.839376Z"
    },
    "colab": {},
    "colab_type": "code",
    "id": "i-7pqVMxLNQD",
    "outputId": "6deff35e-0d28-4351-bbab-7600618eb817"
   }
  },
  {
   "cell_type": "markdown",
   "source": [
    "### Entity Recognition"
   ],
   "metadata": {
    "colab_type": "text",
    "id": "RHUdgHM7LNQF"
   }
  },
  {
   "cell_type": "code",
   "execution_count": 26,
   "source": [
    "## spaCy\r\n",
    "for i, s in enumerate(doc.sents):\r\n",
    "    print('%2d: %s' % (i, re.sub(r'\\n+', '', s.text)))\r\n",
    "    if s.as_doc().ents:\r\n",
    "        print('-'*80)\r\n",
    "        for e in s.as_doc().ents:\r\n",
    "            print('%-11s: %s' % (e.label_, re.sub(r'\\n+', '', e.text)))\r\n",
    "    print('='*80)"
   ],
   "outputs": [
    {
     "output_type": "stream",
     "name": "stdout",
     "text": [
      " 0: USS Enterprise (NCC-1701-D)\"\n",
      "================================================================================\n",
      " 1: For five hundred years, every ship that has borne the name of the Enterprise has become a legend.\n",
      "--------------------------------------------------------------------------------\n",
      "DATE       : five hundred years\n",
      "ORG        : Enterprise\n",
      "================================================================================\n",
      " 2: This one is no different.\"\n",
      "================================================================================\n",
      " 3: \n",
      "================================================================================\n",
      " 4: The USS Enterprise (NCC-1701-D) was a 24th century United Federation of Planets Galaxy Class starship operated by Starfleet, and the fifth Federation ship to bear the name Enterprise.\n",
      "--------------------------------------------------------------------------------\n",
      "WORK_OF_ART: The USS Enterprise\n",
      "DATE       : a 24th century\n",
      "ORG        : United Federation of Planets Galaxy\n",
      "PERSON     : Starfleet\n",
      "PRODUCT    : Enterprise\n",
      "================================================================================\n",
      " 5: During her career, the Enterprise served as the Federation flagship.\n",
      "--------------------------------------------------------------------------------\n",
      "ORG        : Enterprise\n",
      "================================================================================\n",
      " 6: The Enterprise was destroyed during the Battle of Veridian III in 2371.\n",
      "--------------------------------------------------------------------------------\n",
      "EVENT      : the Battle of Veridian III\n",
      "DATE       : 2371\n",
      "================================================================================\n",
      " 7: =\n",
      "================================================================================\n",
      " 8: =\n",
      "================================================================================\n",
      " 9: History===\n",
      "================================================================================\n",
      "10: ==\n",
      "================================================================================\n",
      "11: Construction and launch===The Enterprise was built at Utopia Planitia Fleet Yards orbiting Mars in the Solar system.\n",
      "--------------------------------------------------------------------------------\n",
      "ORG        : Utopia Planitia Fleet Yards\n",
      "LOC        : Mars\n",
      "================================================================================\n",
      "12: The construction was a massive undertaking, involving thousands of people across disciplines.\n",
      "--------------------------------------------------------------------------------\n",
      "CARDINAL   : thousands\n",
      "================================================================================\n",
      "13: Construction was supervised by Commander Orfil Quinteros.\n",
      "--------------------------------------------------------------------------------\n",
      "PERSON     : Orfil Quinteros\n",
      "================================================================================\n",
      "14: Dr. Leah Brahms was responsible for much of the Enterprise's warp propulsion system design.\n",
      "--------------------------------------------------------------------------------\n",
      "PERSON     : Leah Brahms\n",
      "ORG        : Enterprise\n",
      "================================================================================\n",
      "15: Some of the Enterprise's components were derived from technology originally developed on the USS Pegasus.\n",
      "--------------------------------------------------------------------------------\n",
      "ORG        : Enterprise\n",
      "PRODUCT    : the USS Pegasus\n",
      "================================================================================\n",
      "16: One of the ship's nacelle tube was the site of a multiple murder-suicide while she was still under construction at Utopia Planitia.\n",
      "--------------------------------------------------------------------------------\n",
      "CARDINAL   : One\n",
      "PERSON     : nacelle tube\n",
      "ORG        : Utopia Planitia\n",
      "================================================================================\n",
      "17: A member of the construction team, Walter Pierce, became jealous of a former lover's new relationship.\n",
      "--------------------------------------------------------------------------------\n",
      "PERSON     : Walter Pierce\n",
      "================================================================================\n",
      "18: He killed the two officers, Marla Finn and William Hodges, then disposed of their bodies in the plasma stream.\n",
      "--------------------------------------------------------------------------------\n",
      "CARDINAL   : two\n",
      "PERSON     : Marla Finn\n",
      "PERSON     : William Hodges\n",
      "================================================================================\n",
      "19: Pierce committed suicide in the same manner, leaving a telepathic imprint in a bulkhead that was not discovered until 2370.\n",
      "--------------------------------------------------------------------------------\n",
      "DATE       : 2370\n",
      "================================================================================\n",
      "20: On stardate 40759.5, in the year 2363, the Enterprise was launched from Mars.\n",
      "--------------------------------------------------------------------------------\n",
      "CARDINAL   : 40759.5\n",
      "DATE       : the year 2363\n",
      "ORG        : Enterprise\n",
      "LOC        : Mars\n",
      "================================================================================\n",
      "21: On stardate 41025.5, the Enterprise was commissioned.\n",
      "--------------------------------------------------------------------------------\n",
      "CARDINAL   : 41025.5\n",
      "ORG        : Enterprise\n",
      "================================================================================\n",
      "22: These stardates weren't mentioned in dialog; they were from the Enterprise dedication plaque.\n",
      "--------------------------------------------------------------------------------\n",
      "PRODUCT    : Enterprise\n",
      "================================================================================\n",
      "23: Final systems completion and shakedown was conducted at Earth Station McKinley.\n",
      "--------------------------------------------------------------------------------\n",
      "LOC        : Earth Station McKinley\n",
      "================================================================================\n",
      "24: Captain Jean-Luc Picard took command of the ship on stardate 41148 at the order of Rear Admiral Norah Satie.\n",
      "--------------------------------------------------------------------------------\n",
      "PERSON     : Jean-Luc Picard\n",
      "DATE       : 41148\n",
      "PERSON     : Norah Satie\n",
      "================================================================================\n",
      "25: =\n",
      "================================================================================\n",
      "26: ==\n",
      "================================================================================\n",
      "27: Legacy===Commander Riker was upset over the loss of the Enterprise.\n",
      "--------------------------------------------------------------------------------\n",
      "ORG        : Legacy===\n",
      "PERSON     : Riker\n",
      "================================================================================\n",
      "28: Having hoped he would one day command the ship, he was disappointed that he never got that opportunity.\n",
      "--------------------------------------------------------------------------------\n",
      "DATE       : one day\n",
      "================================================================================\n",
      "29: However, Picard expressed doubt that the Enterprise-D would be the last vessel to carry the name.\n",
      "--------------------------------------------------------------------------------\n",
      "PERSON     : Picard\n",
      "LAW        : the Enterprise-D\n",
      "================================================================================\n",
      "30: \n",
      "================================================================================\n",
      "31: The Enterprise was so dear to Worf that, shortly after being reassigned to Deep Space 9 in 2372, he briefly considered resigning from Starfleet.\n",
      "--------------------------------------------------------------------------------\n",
      "ORG        : Deep Space\n",
      "CARDINAL   : 9\n",
      "DATE       : 2372\n",
      "GPE        : Starfleet\n",
      "================================================================================\n",
      "32: Station commander Captain Benjamin Sisko expressed regret on the loss of the Enterprise and offered his condolences over the destruction of the ship to Worf, saying the Enterprise \"was a good ship.\"\n",
      "--------------------------------------------------------------------------------\n",
      "PERSON     : Benjamin Sisko\n",
      "ORG        : Enterprise\n",
      "PERSON     : Worf\n",
      "================================================================================\n",
      "33: Captain Picard's belief that the Enterprise-D would not be the final ship to bear the name was borne out with the christening of the Class Sovereign USS Enterprise NCC-1701-E, later the same year.\n",
      "--------------------------------------------------------------------------------\n",
      "PERSON     : Picard\n",
      "LAW        : the Enterprise-D\n",
      "DATE       : later the same year\n",
      "================================================================================\n",
      "34: In that instance, the legacy of the Enterprise continued with Picard reprising his role as CO and selecting most of the former crew from the Enterprise-D, with the notable exception of Worf due to his most recent assignment to DS9 (though he temporarily joined the Enterprise-E crew on several of their more notable missions).\n",
      "--------------------------------------------------------------------------------\n",
      "ORG        : Enterprise\n",
      "LAW        : the Enterprise-D\n",
      "================================================================================\n"
     ]
    }
   ],
   "metadata": {
    "ExecuteTime": {
     "end_time": "2019-06-17T01:23:02.688863Z",
     "start_time": "2019-06-17T01:23:02.464460Z"
    },
    "colab": {},
    "colab_type": "code",
    "id": "yyOrZ42oLNQH",
    "outputId": "dfcee498-0002-4064-98ca-fa11668978d5",
    "scrolled": false
   }
  },
  {
   "cell_type": "code",
   "execution_count": 30,
   "source": [
    "#nltk.download('punkt')"
   ],
   "outputs": [
    {
     "output_type": "stream",
     "name": "stderr",
     "text": [
      "[nltk_data] Downloading package punkt to\n",
      "[nltk_data]     C:\\Users\\nadun\\AppData\\Roaming\\nltk_data...\n",
      "[nltk_data]   Unzipping tokenizers\\punkt.zip.\n"
     ]
    },
    {
     "output_type": "execute_result",
     "data": {
      "text/plain": [
       "True"
      ]
     },
     "metadata": {},
     "execution_count": 30
    }
   ],
   "metadata": {}
  },
  {
   "cell_type": "code",
   "execution_count": 35,
   "source": [
    "#nltk.download('stopwords')"
   ],
   "outputs": [
    {
     "output_type": "stream",
     "name": "stderr",
     "text": [
      "[nltk_data] Downloading package stopwords to\n",
      "[nltk_data]     C:\\Users\\nadun\\AppData\\Roaming\\nltk_data...\n",
      "[nltk_data]   Unzipping corpora\\stopwords.zip.\n"
     ]
    },
    {
     "output_type": "execute_result",
     "data": {
      "text/plain": [
       "True"
      ]
     },
     "metadata": {},
     "execution_count": 35
    }
   ],
   "metadata": {}
  },
  {
   "cell_type": "markdown",
   "source": [
    "## Extra: Using NLTK for NLP\n",
    "\n",
    "### Tokenise"
   ],
   "metadata": {}
  },
  {
   "cell_type": "code",
   "execution_count": 83,
   "source": [
    "# use nltk to find tokens\r\n",
    "tokens = nltk.word_tokenize(text)\r\n",
    "\r\n",
    "for i, t in enumerate(tokens[:25]):\r\n",
    "    print('%2d| %r' % (i+1, t))"
   ],
   "outputs": [
    {
     "output_type": "stream",
     "name": "stdout",
     "text": [
      " 1| 'USS'\n",
      " 2| 'Enterprise'\n",
      " 3| '('\n",
      " 4| 'NCC-1701-D'\n",
      " 5| ')'\n",
      " 6| \"''\"\n",
      " 7| 'For'\n",
      " 8| 'five'\n",
      " 9| 'hundred'\n",
      "10| 'years'\n",
      "11| ','\n",
      "12| 'every'\n",
      "13| 'ship'\n",
      "14| 'that'\n",
      "15| 'has'\n",
      "16| 'borne'\n",
      "17| 'the'\n",
      "18| 'name'\n",
      "19| 'of'\n",
      "20| 'the'\n",
      "21| 'Enterprise'\n",
      "22| 'has'\n",
      "23| 'become'\n",
      "24| 'a'\n",
      "25| 'legend'\n"
     ]
    }
   ],
   "metadata": {
    "ExecuteTime": {
     "end_time": "2019-06-17T01:18:26.276966Z",
     "start_time": "2019-06-17T01:18:26.186212Z"
    },
    "colab": {},
    "colab_type": "code",
    "id": "pML63M9KLNPX",
    "outputId": "29a6c627-0eee-4ece-bb34-47eacbbb53ff",
    "scrolled": true
   }
  },
  {
   "cell_type": "code",
   "execution_count": 84,
   "source": [
    "plot_words(tokens)"
   ],
   "outputs": [
    {
     "output_type": "display_data",
     "data": {
      "image/png": "[encoded data removed]",
      "text/plain": [
       "<Figure size 1152x432 with 1 Axes>"
      ]
     },
     "metadata": {
      "needs_background": "light"
     }
    }
   ],
   "metadata": {
    "ExecuteTime": {
     "end_time": "2019-06-17T01:18:48.978316Z",
     "start_time": "2019-06-17T01:18:48.686799Z"
    },
    "colab": {},
    "colab_type": "code",
    "id": "G5C3ituYLNPZ",
    "outputId": "db39aade-f506-4b45-ed1e-56327c19e4f7"
   }
  },
  {
   "cell_type": "markdown",
   "source": [
    "### Stop words"
   ],
   "metadata": {}
  },
  {
   "cell_type": "code",
   "execution_count": 85,
   "source": [
    "stopWords = nltk.corpus.stopwords.words('english')\r\n",
    "\r\n",
    "stopWords.sort()\r\n",
    "print(', '.join(stopWords))"
   ],
   "outputs": [
    {
     "output_type": "stream",
     "name": "stdout",
     "text": [
      "a, about, above, after, again, against, ain, all, am, an, and, any, are, aren, aren't, as, at, be, because, been, before, being, below, between, both, but, by, can, couldn, couldn't, d, did, didn, didn't, do, does, doesn, doesn't, doing, don, don't, down, during, each, few, for, from, further, had, hadn, hadn't, has, hasn, hasn't, have, haven, haven't, having, he, her, here, hers, herself, him, himself, his, how, i, if, in, into, is, isn, isn't, it, it's, its, itself, just, ll, m, ma, me, mightn, mightn't, more, most, mustn, mustn't, my, myself, needn, needn't, no, nor, not, now, o, of, off, on, once, only, or, other, our, ours, ourselves, out, over, own, re, s, same, shan, shan't, she, she's, should, should've, shouldn, shouldn't, so, some, such, t, than, that, that'll, the, their, theirs, them, themselves, then, there, these, they, this, those, through, to, too, under, until, up, ve, very, was, wasn, wasn't, we, were, weren, weren't, what, when, where, which, while, who, whom, why, will, with, won, won't, wouldn, wouldn't, y, you, you'd, you'll, you're, you've, your, yours, yourself, yourselves\n"
     ]
    }
   ],
   "metadata": {
    "ExecuteTime": {
     "end_time": "2019-06-17T01:20:00.638483Z",
     "start_time": "2019-06-17T01:20:00.617539Z"
    },
    "colab": {},
    "colab_type": "code",
    "id": "BnY2rFzuLNPj",
    "outputId": "f64087cd-8e4b-4df5-fb2d-7b04851bde34",
    "scrolled": true
   }
  },
  {
   "cell_type": "code",
   "execution_count": 42,
   "source": [
    "# ANSWER\r\n",
    "# NOTE: see the `.lower()` method applied to token\r\n",
    "tokens_no_stop = 'abc' # create a list of tokens withOUT the stop words "
   ],
   "outputs": [],
   "metadata": {
    "colab": {},
    "colab_type": "code",
    "id": "dksPJF7YcI1o"
   }
  },
  {
   "cell_type": "code",
   "execution_count": 43,
   "source": [
    "## NLTK\r\n",
    "i = 0\r\n",
    "j = 0\r\n",
    "\r\n",
    "print('i | with stop words without')\r\n",
    "print('--| --------------- ------------')\r\n",
    "\r\n",
    "# for all the tokens\r\n",
    "while i < len(tokens):\r\n",
    "    # same word\r\n",
    "    if tokens[i] == tokens_no_stop[j]:\r\n",
    "        print('%2d| %-15r %r' % (i+1, tokens[i], tokens_no_stop[j]))\r\n",
    "        j += 1\r\n",
    "    # not the same word\r\n",
    "    else:\r\n",
    "        print('%2d| %-15r' % (i+1, tokens[i]))\r\n",
    "\r\n",
    "    # next word\r\n",
    "    i += 1\r\n",
    "    # break after the first sentence\r\n",
    "    if tokens[i-1] == '.':\r\n",
    "        break"
   ],
   "outputs": [
    {
     "output_type": "stream",
     "name": "stdout",
     "text": [
      "i | with stop words without\n",
      "--| --------------- ------------\n",
      " 1| 'USS'          \n",
      " 2| 'Enterprise'   \n",
      " 3| '('            \n",
      " 4| 'NCC-1701-D'   \n",
      " 5| ')'            \n",
      " 6| \"''\"           \n",
      " 7| 'For'          \n",
      " 8| 'five'         \n",
      " 9| 'hundred'      \n",
      "10| 'years'        \n",
      "11| ','            \n",
      "12| 'every'        \n",
      "13| 'ship'         \n",
      "14| 'that'         \n",
      "15| 'has'          \n",
      "16| 'borne'        \n",
      "17| 'the'          \n",
      "18| 'name'         \n",
      "19| 'of'           \n",
      "20| 'the'          \n",
      "21| 'Enterprise'   \n",
      "22| 'has'          \n",
      "23| 'become'       \n",
      "24| 'a'             'a'\n",
      "25| 'legend'       \n",
      "26| '.'            \n"
     ]
    }
   ],
   "metadata": {
    "ExecuteTime": {
     "end_time": "2019-06-17T01:21:23.469455Z",
     "start_time": "2019-06-17T01:21:23.412608Z"
    },
    "colab": {},
    "colab_type": "code",
    "id": "a82KBILRLNPm",
    "outputId": "b33cef88-79ab-4e06-9c0e-9f2a4a588306"
   }
  },
  {
   "cell_type": "code",
   "execution_count": 44,
   "source": [
    "# Create plot of words without stopword\r\n",
    "# ANSWER"
   ],
   "outputs": [],
   "metadata": {
    "ExecuteTime": {
     "end_time": "2019-06-17T01:24:39.503538Z",
     "start_time": "2019-06-17T01:24:39.498514Z"
    },
    "colab": {},
    "colab_type": "code",
    "id": "uPtOoiwuLNPo"
   }
  },
  {
   "cell_type": "code",
   "execution_count": 47,
   "source": [
    "#nltk.download('averaged_perceptron_tagger')"
   ],
   "outputs": [
    {
     "output_type": "stream",
     "name": "stderr",
     "text": [
      "[nltk_data] Downloading package averaged_perceptron_tagger to\n",
      "[nltk_data]     C:\\Users\\nadun\\AppData\\Roaming\\nltk_data...\n",
      "[nltk_data]   Unzipping taggers\\averaged_perceptron_tagger.zip.\n"
     ]
    },
    {
     "output_type": "execute_result",
     "data": {
      "text/plain": [
       "True"
      ]
     },
     "metadata": {},
     "execution_count": 47
    }
   ],
   "metadata": {}
  },
  {
   "cell_type": "markdown",
   "source": [
    "### Check Part of Speech"
   ],
   "metadata": {}
  },
  {
   "cell_type": "code",
   "execution_count": 48,
   "source": [
    "# define PoS\r\n",
    "pos_list = {\r\n",
    "    'CC':   'coordinating conjunction',\r\n",
    "    'CD':   'cardinal digit',\r\n",
    "    'DT':   'determiner',\r\n",
    "    'EX':   'existential there (like: \"there is\" ... think of it like \"there exists\")',\r\n",
    "    'FW':   'foreign word',\r\n",
    "    'IN':   'preposition/subordinating conjunction',\r\n",
    "    'JJ':   'adjective \"big\"',\r\n",
    "    'JJR':  'adjective, comparative \"bigger\"',\r\n",
    "    'JJS':  'adjective, superlative \"biggest\"',\r\n",
    "    'LS':   'list marker 1)',\r\n",
    "    'MD':   'modal could, will',\r\n",
    "    'NN':   'noun, singular \"desk\"',\r\n",
    "    'NNS':  'noun plural \"desks\"',\r\n",
    "    'NNP':  'proper noun, singular \"Harrison\"',\r\n",
    "    'NNPS': 'proper noun, plural \"Americans\"',\r\n",
    "    'PDT':  'predeterminer \"all the kids\"',\r\n",
    "    'POS':  'possessive ending parent\"s',\r\n",
    "    'PRP':  'personal pronoun I, he, she',\r\n",
    "    'PRP$': 'possessive pronoun my, his, hers',\r\n",
    "    'RB':   'adverb very, silently,',\r\n",
    "    'RBR':  'adverb, comparative better',\r\n",
    "    'RBS':  'adverb, superlative best',\r\n",
    "    'RP':   'particle give up',\r\n",
    "    'TO':   'to go \"to\" the store.',\r\n",
    "    'UH':   'interjection errrrrrrrm',\r\n",
    "    'VB':   'verb, base form take',\r\n",
    "    'VBD':  'verb, past tense took',\r\n",
    "    'VBG':  'verb, gerund/present participle taking',\r\n",
    "    'VBN':  'verb, past participle taken',\r\n",
    "    'VBP':  'verb, sing. present, non-3d take',\r\n",
    "    'VBZ':  'verb, 3rd person sing. present takes',\r\n",
    "    'WDT':  'wh-determiner which',\r\n",
    "    'WP':   'wh-pronoun who, what',\r\n",
    "    'WP$':  'possessive wh-pronoun whose',\r\n",
    "    'WRB':  'wh-abverb where, when',\r\n",
    "}"
   ],
   "outputs": [],
   "metadata": {
    "ExecuteTime": {
     "end_time": "2019-06-17T01:22:10.130223Z",
     "start_time": "2019-06-17T01:22:10.100306Z"
    },
    "colab": {},
    "colab_type": "code",
    "id": "KRupju0sLNPv"
   }
  },
  {
   "cell_type": "code",
   "execution_count": 49,
   "source": [
    "## nltk\r\n",
    "tagged = nltk.pos_tag(tokens)\r\n",
    "\r\n",
    "for i, t in enumerate(tagged[:25]):\r\n",
    "    print('%2d|%-12r : %-4s %s' % (i+1, t[0], t[1], (pos_list[t[1]] if t[1] in pos_list else '-')))"
   ],
   "outputs": [
    {
     "output_type": "stream",
     "name": "stdout",
     "text": [
      " 1|'USS'        : NNP  proper noun, singular \"Harrison\"\n",
      " 2|'Enterprise' : NNP  proper noun, singular \"Harrison\"\n",
      " 3|'('          : (    -\n",
      " 4|'NCC-1701-D' : NNP  proper noun, singular \"Harrison\"\n",
      " 5|')'          : )    -\n",
      " 6|\"''\"         : ''   -\n",
      " 7|'For'        : IN   preposition/subordinating conjunction\n",
      " 8|'five'       : CD   cardinal digit\n",
      " 9|'hundred'    : CD   cardinal digit\n",
      "10|'years'      : NNS  noun plural \"desks\"\n",
      "11|','          : ,    -\n",
      "12|'every'      : DT   determiner\n",
      "13|'ship'       : NN   noun, singular \"desk\"\n",
      "14|'that'       : WDT  wh-determiner which\n",
      "15|'has'        : VBZ  verb, 3rd person sing. present takes\n",
      "16|'borne'      : VBN  verb, past participle taken\n",
      "17|'the'        : DT   determiner\n",
      "18|'name'       : NN   noun, singular \"desk\"\n",
      "19|'of'         : IN   preposition/subordinating conjunction\n",
      "20|'the'        : DT   determiner\n",
      "21|'Enterprise' : NNP  proper noun, singular \"Harrison\"\n",
      "22|'has'        : VBZ  verb, 3rd person sing. present takes\n",
      "23|'become'     : VBN  verb, past participle taken\n",
      "24|'a'          : DT   determiner\n",
      "25|'legend'     : NN   noun, singular \"desk\"\n"
     ]
    }
   ],
   "metadata": {
    "ExecuteTime": {
     "end_time": "2019-06-17T01:22:13.969590Z",
     "start_time": "2019-06-17T01:22:13.665232Z"
    },
    "colab": {},
    "colab_type": "code",
    "id": "asqUoCHgLNPx",
    "outputId": "6e3cab17-f736-49f3-ce62-8e759d72ac35",
    "scrolled": false
   }
  },
  {
   "cell_type": "markdown",
   "source": [
    "### Stemming"
   ],
   "metadata": {
    "colab_type": "text",
    "id": "_n9qMgyULNP1"
   }
  },
  {
   "cell_type": "code",
   "execution_count": 86,
   "source": [
    "## nltk\r\n",
    "ps = nltk.porter.PorterStemmer()\r\n",
    "stemmed = ' '.join([ps.stem(word) for word in text.split()])\r\n",
    "stemmed"
   ],
   "outputs": [
    {
     "output_type": "execute_result",
     "data": {
      "text/plain": [
       "'uss enterpris (ncc-1701-d) \"for five hundr years, everi ship that ha born the name of the enterpris ha becom a legend. thi one is no different.\" the uss enterpris (ncc-1701-d) wa a 24th centuri unit feder of planet galaxi class starship oper by starfleet, and the fifth feder ship to bear the name enterprise. dure her career, the enterpris serv as the feder flagship. the enterpris wa destroy dure the battl of veridian iii in 2371. ==history== ===construct and launch=== the enterpris wa built at utopia planitia fleet yard orbit mar in the solar system. the construct wa a massiv undertaking, involv thousand of peopl across disciplines. construct wa supervis by command orfil quinteros. dr. leah brahm wa respons for much of the enterprise\\' warp propuls system design. some of the enterprise\\' compon were deriv from technolog origin develop on the uss pegasus. one of the ship\\' nacel tube wa the site of a multipl murder-suicid while she wa still under construct at utopia planitia. a member of the construct team, walter pierce, becam jealou of a former lover\\' new relationship. he kill the two officers, marla finn and william hodges, then dispos of their bodi in the plasma stream. pierc commit suicid in the same manner, leav a telepath imprint in a bulkhead that wa not discov until 2370. on stardat 40759.5, in the year 2363, the enterpris wa launch from mars. on stardat 41025.5, the enterpris wa commissioned. these stardat weren\\'t mention in dialog; they were from the enterpris dedic plaque. final system complet and shakedown wa conduct at earth station mckinley. captain jean-luc picard took command of the ship on stardat 41148 at the order of rear admir norah satie. ===legacy=== command riker wa upset over the loss of the enterprise. have hope he would one day command the ship, he wa disappoint that he never got that opportunity. however, picard express doubt that the enterprise-d would be the last vessel to carri the name. the enterpris wa so dear to worf that, shortli after be reassign to deep space 9 in 2372, he briefli consid resign from starfleet. station command captain benjamin sisko express regret on the loss of the enterpris and offer hi condol over the destruct of the ship to worf, say the enterpris \"wa a good ship.\" captain picard\\' belief that the enterprise-d would not be the final ship to bear the name wa born out with the christen of the class sovereign uss enterpris ncc-1701-e, later the same year. in that instance, the legaci of the enterpris continu with picard repris hi role as co and select most of the former crew from the enterprise-d, with the notabl except of worf due to hi most recent assign to ds9 (though he temporarili join the enterprise- crew on sever of their more notabl missions).'"
      ]
     },
     "metadata": {},
     "execution_count": 86
    }
   ],
   "metadata": {
    "ExecuteTime": {
     "end_time": "2019-06-17T01:22:29.259531Z",
     "start_time": "2019-06-17T01:22:29.243588Z"
    },
    "colab": {},
    "colab_type": "code",
    "id": "pL1vRUzxLNP2"
   }
  },
  {
   "cell_type": "code",
   "execution_count": 52,
   "source": [
    "#nltk.download('wordnet')"
   ],
   "outputs": [
    {
     "output_type": "stream",
     "name": "stderr",
     "text": [
      "[nltk_data] Downloading package wordnet to\n",
      "[nltk_data]     C:\\Users\\nadun\\AppData\\Roaming\\nltk_data...\n",
      "[nltk_data]   Unzipping corpora\\wordnet.zip.\n"
     ]
    },
    {
     "output_type": "execute_result",
     "data": {
      "text/plain": [
       "True"
      ]
     },
     "metadata": {},
     "execution_count": 52
    }
   ],
   "metadata": {}
  },
  {
   "cell_type": "markdown",
   "source": [
    "### Lemmatisation"
   ],
   "metadata": {
    "colab_type": "text",
    "id": "2d9a6QazLNP4"
   }
  },
  {
   "cell_type": "code",
   "execution_count": 53,
   "source": [
    "## nltk\r\n",
    "wl = nltk.stem.WordNetLemmatizer()\r\n",
    "lemma = ' '.join([wl.lemmatize(word) for word in text.split()])"
   ],
   "outputs": [],
   "metadata": {
    "ExecuteTime": {
     "end_time": "2019-06-17T01:22:33.219077Z",
     "start_time": "2019-06-17T01:22:31.251647Z"
    },
    "colab": {},
    "colab_type": "code",
    "id": "OAbriUsXLNP7",
    "scrolled": true
   }
  },
  {
   "cell_type": "code",
   "execution_count": 54,
   "source": [
    "## nltk\r\n",
    "dot = stemmed.find('.') + 1\r\n",
    "sl = stemmed[:dot].split()\r\n",
    "dot = lemma.find('.') + 1\r\n",
    "ll = lemma[:dot].split()\r\n",
    "\r\n",
    "print('i | Stem           Lemma')\r\n",
    "print('--| -------------- ------------')\r\n",
    "for i, p in enumerate(zip(sl, ll)):\r\n",
    "    print('%2d| %-12r   %-12r' % (i+1, p[0], p[1]))"
   ],
   "outputs": [
    {
     "output_type": "stream",
     "name": "stdout",
     "text": [
      "i | Stem           Lemma\n",
      "--| -------------- ------------\n",
      " 1| 'uss'          'USS'       \n",
      " 2| 'enterpris'    'Enterprise'\n",
      " 3| '(ncc-1701-d)'   '(NCC-1701-D)'\n",
      " 4| '\"for'         '\"For'      \n",
      " 5| 'five'         'five'      \n",
      " 6| 'hundr'        'hundred'   \n",
      " 7| 'years,'       'years,'    \n",
      " 8| 'everi'        'every'     \n",
      " 9| 'ship'         'ship'      \n",
      "10| 'that'         'that'      \n",
      "11| 'ha'           'ha'        \n",
      "12| 'born'         'borne'     \n",
      "13| 'the'          'the'       \n",
      "14| 'name'         'name'      \n",
      "15| 'of'           'of'        \n",
      "16| 'the'          'the'       \n",
      "17| 'enterpris'    'Enterprise'\n",
      "18| 'ha'           'ha'        \n",
      "19| 'becom'        'become'    \n",
      "20| 'a'            'a'         \n",
      "21| 'legend.'      'legend.'   \n"
     ]
    }
   ],
   "metadata": {
    "ExecuteTime": {
     "end_time": "2019-06-17T01:22:40.296601Z",
     "start_time": "2019-06-17T01:22:40.251721Z"
    },
    "colab": {},
    "colab_type": "code",
    "id": "yVIqX7HBLNP9",
    "outputId": "26f47e5f-7927-4ceb-e7aa-148b1a0d6798"
   }
  },
  {
   "cell_type": "code",
   "execution_count": 55,
   "source": [
    "plot_words(stemmed.split())"
   ],
   "outputs": [
    {
     "output_type": "display_data",
     "data": {
      "image/png": "[encoded data removed]",
      "text/plain": [
       "<Figure size 1152x432 with 1 Axes>"
      ]
     },
     "metadata": {
      "needs_background": "light"
     }
    }
   ],
   "metadata": {
    "ExecuteTime": {
     "end_time": "2019-06-17T01:22:47.305414Z",
     "start_time": "2019-06-17T01:22:47.017187Z"
    },
    "colab": {},
    "colab_type": "code",
    "id": "eG4yOgwVLNP-",
    "outputId": "70476f16-7ac6-4c40-e39f-7a6547c11fec"
   }
  },
  {
   "cell_type": "code",
   "execution_count": 56,
   "source": [
    "plot_words(lemma.split())"
   ],
   "outputs": [
    {
     "output_type": "display_data",
     "data": {
      "image/png": "[encoded data removed]",
      "text/plain": [
       "<Figure size 1152x432 with 1 Axes>"
      ]
     },
     "metadata": {
      "needs_background": "light"
     }
    }
   ],
   "metadata": {
    "ExecuteTime": {
     "end_time": "2019-06-17T01:22:50.433861Z",
     "start_time": "2019-06-17T01:22:50.144603Z"
    },
    "colab": {},
    "colab_type": "code",
    "id": "uEJR57TYLNQA",
    "outputId": "e96f9bb4-cdfc-432c-b0af-bcdb3a6c2c6c",
    "scrolled": true
   }
  },
  {
   "cell_type": "code",
   "execution_count": 62,
   "source": [
    "#nltk.download('maxent_ne_chunker')\r\n",
    "#nltk.download('words')"
   ],
   "outputs": [],
   "metadata": {}
  },
  {
   "cell_type": "code",
   "execution_count": 88,
   "source": [
    "tagged"
   ],
   "outputs": [
    {
     "output_type": "execute_result",
     "data": {
      "text/plain": [
       "[('USS', 'NNP'),\n",
       " ('Enterprise', 'NNP'),\n",
       " ('(', '('),\n",
       " ('NCC-1701-D', 'NNP'),\n",
       " (')', ')'),\n",
       " (\"''\", \"''\"),\n",
       " ('For', 'IN'),\n",
       " ('five', 'CD'),\n",
       " ('hundred', 'CD'),\n",
       " ('years', 'NNS'),\n",
       " (',', ','),\n",
       " ('every', 'DT'),\n",
       " ('ship', 'NN'),\n",
       " ('that', 'WDT'),\n",
       " ('has', 'VBZ'),\n",
       " ('borne', 'VBN'),\n",
       " ('the', 'DT'),\n",
       " ('name', 'NN'),\n",
       " ('of', 'IN'),\n",
       " ('the', 'DT'),\n",
       " ('Enterprise', 'NNP'),\n",
       " ('has', 'VBZ'),\n",
       " ('become', 'VBN'),\n",
       " ('a', 'DT'),\n",
       " ('legend', 'NN'),\n",
       " ('.', '.'),\n",
       " ('This', 'DT'),\n",
       " ('one', 'CD'),\n",
       " ('is', 'VBZ'),\n",
       " ('no', 'DT'),\n",
       " ('different', 'JJ'),\n",
       " ('.', '.'),\n",
       " (\"''\", \"''\"),\n",
       " ('The', 'DT'),\n",
       " ('USS', 'NNP'),\n",
       " ('Enterprise', 'NNP'),\n",
       " ('(', '('),\n",
       " ('NCC-1701-D', 'NNP'),\n",
       " (')', ')'),\n",
       " ('was', 'VBD'),\n",
       " ('a', 'DT'),\n",
       " ('24th', 'JJ'),\n",
       " ('century', 'NN'),\n",
       " ('United', 'NNP'),\n",
       " ('Federation', 'NNP'),\n",
       " ('of', 'IN'),\n",
       " ('Planets', 'NNP'),\n",
       " ('Galaxy', 'NNP'),\n",
       " ('Class', 'NNP'),\n",
       " ('starship', 'NN'),\n",
       " ('operated', 'VBN'),\n",
       " ('by', 'IN'),\n",
       " ('Starfleet', 'NNP'),\n",
       " (',', ','),\n",
       " ('and', 'CC'),\n",
       " ('the', 'DT'),\n",
       " ('fifth', 'JJ'),\n",
       " ('Federation', 'NNP'),\n",
       " ('ship', 'NN'),\n",
       " ('to', 'TO'),\n",
       " ('bear', 'VB'),\n",
       " ('the', 'DT'),\n",
       " ('name', 'NN'),\n",
       " ('Enterprise', 'NNP'),\n",
       " ('.', '.'),\n",
       " ('During', 'IN'),\n",
       " ('her', 'PRP$'),\n",
       " ('career', 'NN'),\n",
       " (',', ','),\n",
       " ('the', 'DT'),\n",
       " ('Enterprise', 'NNP'),\n",
       " ('served', 'VBD'),\n",
       " ('as', 'IN'),\n",
       " ('the', 'DT'),\n",
       " ('Federation', 'NNP'),\n",
       " ('flagship', 'NN'),\n",
       " ('.', '.'),\n",
       " ('The', 'DT'),\n",
       " ('Enterprise', 'NN'),\n",
       " ('was', 'VBD'),\n",
       " ('destroyed', 'VBN'),\n",
       " ('during', 'IN'),\n",
       " ('the', 'DT'),\n",
       " ('Battle', 'NNP'),\n",
       " ('of', 'IN'),\n",
       " ('Veridian', 'NNP'),\n",
       " ('III', 'NNP'),\n",
       " ('in', 'IN'),\n",
       " ('2371', 'CD'),\n",
       " ('.', '.'),\n",
       " ('==History==', 'CC'),\n",
       " ('===Construction', 'NN'),\n",
       " ('and', 'CC'),\n",
       " ('launch===', 'VBZ'),\n",
       " ('The', 'DT'),\n",
       " ('Enterprise', 'NN'),\n",
       " ('was', 'VBD'),\n",
       " ('built', 'VBN'),\n",
       " ('at', 'IN'),\n",
       " ('Utopia', 'NNP'),\n",
       " ('Planitia', 'NNP'),\n",
       " ('Fleet', 'NNP'),\n",
       " ('Yards', 'NNP'),\n",
       " ('orbiting', 'VBG'),\n",
       " ('Mars', 'NNP'),\n",
       " ('in', 'IN'),\n",
       " ('the', 'DT'),\n",
       " ('Solar', 'NNP'),\n",
       " ('system', 'NN'),\n",
       " ('.', '.'),\n",
       " ('The', 'DT'),\n",
       " ('construction', 'NN'),\n",
       " ('was', 'VBD'),\n",
       " ('a', 'DT'),\n",
       " ('massive', 'JJ'),\n",
       " ('undertaking', 'NN'),\n",
       " (',', ','),\n",
       " ('involving', 'VBG'),\n",
       " ('thousands', 'NNS'),\n",
       " ('of', 'IN'),\n",
       " ('people', 'NNS'),\n",
       " ('across', 'IN'),\n",
       " ('disciplines', 'NNS'),\n",
       " ('.', '.'),\n",
       " ('Construction', 'NN'),\n",
       " ('was', 'VBD'),\n",
       " ('supervised', 'VBN'),\n",
       " ('by', 'IN'),\n",
       " ('Commander', 'NNP'),\n",
       " ('Orfil', 'NNP'),\n",
       " ('Quinteros', 'NNP'),\n",
       " ('.', '.'),\n",
       " ('Dr.', 'NNP'),\n",
       " ('Leah', 'NNP'),\n",
       " ('Brahms', 'NNP'),\n",
       " ('was', 'VBD'),\n",
       " ('responsible', 'JJ'),\n",
       " ('for', 'IN'),\n",
       " ('much', 'JJ'),\n",
       " ('of', 'IN'),\n",
       " ('the', 'DT'),\n",
       " ('Enterprise', 'NNP'),\n",
       " (\"'s\", 'POS'),\n",
       " ('warp', 'NN'),\n",
       " ('propulsion', 'NN'),\n",
       " ('system', 'NN'),\n",
       " ('design', 'NN'),\n",
       " ('.', '.'),\n",
       " ('Some', 'DT'),\n",
       " ('of', 'IN'),\n",
       " ('the', 'DT'),\n",
       " ('Enterprise', 'NNP'),\n",
       " (\"'s\", 'POS'),\n",
       " ('components', 'NNS'),\n",
       " ('were', 'VBD'),\n",
       " ('derived', 'VBN'),\n",
       " ('from', 'IN'),\n",
       " ('technology', 'NN'),\n",
       " ('originally', 'RB'),\n",
       " ('developed', 'VBN'),\n",
       " ('on', 'IN'),\n",
       " ('the', 'DT'),\n",
       " ('USS', 'NNP'),\n",
       " ('Pegasus', 'NNP'),\n",
       " ('.', '.'),\n",
       " ('One', 'CD'),\n",
       " ('of', 'IN'),\n",
       " ('the', 'DT'),\n",
       " ('ship', 'NN'),\n",
       " (\"'s\", 'POS'),\n",
       " ('nacelle', 'JJ'),\n",
       " ('tube', 'NN'),\n",
       " ('was', 'VBD'),\n",
       " ('the', 'DT'),\n",
       " ('site', 'NN'),\n",
       " ('of', 'IN'),\n",
       " ('a', 'DT'),\n",
       " ('multiple', 'JJ'),\n",
       " ('murder-suicide', 'NN'),\n",
       " ('while', 'IN'),\n",
       " ('she', 'PRP'),\n",
       " ('was', 'VBD'),\n",
       " ('still', 'RB'),\n",
       " ('under', 'IN'),\n",
       " ('construction', 'NN'),\n",
       " ('at', 'IN'),\n",
       " ('Utopia', 'NNP'),\n",
       " ('Planitia', 'NNP'),\n",
       " ('.', '.'),\n",
       " ('A', 'DT'),\n",
       " ('member', 'NN'),\n",
       " ('of', 'IN'),\n",
       " ('the', 'DT'),\n",
       " ('construction', 'NN'),\n",
       " ('team', 'NN'),\n",
       " (',', ','),\n",
       " ('Walter', 'NNP'),\n",
       " ('Pierce', 'NNP'),\n",
       " (',', ','),\n",
       " ('became', 'VBD'),\n",
       " ('jealous', 'JJ'),\n",
       " ('of', 'IN'),\n",
       " ('a', 'DT'),\n",
       " ('former', 'JJ'),\n",
       " ('lover', 'NN'),\n",
       " (\"'s\", 'POS'),\n",
       " ('new', 'JJ'),\n",
       " ('relationship', 'NN'),\n",
       " ('.', '.'),\n",
       " ('He', 'PRP'),\n",
       " ('killed', 'VBD'),\n",
       " ('the', 'DT'),\n",
       " ('two', 'CD'),\n",
       " ('officers', 'NNS'),\n",
       " (',', ','),\n",
       " ('Marla', 'NNP'),\n",
       " ('Finn', 'NNP'),\n",
       " ('and', 'CC'),\n",
       " ('William', 'NNP'),\n",
       " ('Hodges', 'NNP'),\n",
       " (',', ','),\n",
       " ('then', 'RB'),\n",
       " ('disposed', 'VBD'),\n",
       " ('of', 'IN'),\n",
       " ('their', 'PRP$'),\n",
       " ('bodies', 'NNS'),\n",
       " ('in', 'IN'),\n",
       " ('the', 'DT'),\n",
       " ('plasma', 'NN'),\n",
       " ('stream', 'NN'),\n",
       " ('.', '.'),\n",
       " ('Pierce', 'NNP'),\n",
       " ('committed', 'VBD'),\n",
       " ('suicide', 'NN'),\n",
       " ('in', 'IN'),\n",
       " ('the', 'DT'),\n",
       " ('same', 'JJ'),\n",
       " ('manner', 'NN'),\n",
       " (',', ','),\n",
       " ('leaving', 'VBG'),\n",
       " ('a', 'DT'),\n",
       " ('telepathic', 'JJ'),\n",
       " ('imprint', 'NN'),\n",
       " ('in', 'IN'),\n",
       " ('a', 'DT'),\n",
       " ('bulkhead', 'NN'),\n",
       " ('that', 'WDT'),\n",
       " ('was', 'VBD'),\n",
       " ('not', 'RB'),\n",
       " ('discovered', 'VBN'),\n",
       " ('until', 'IN'),\n",
       " ('2370', 'CD'),\n",
       " ('.', '.'),\n",
       " ('On', 'IN'),\n",
       " ('stardate', 'NN'),\n",
       " ('40759.5', 'CD'),\n",
       " (',', ','),\n",
       " ('in', 'IN'),\n",
       " ('the', 'DT'),\n",
       " ('year', 'NN'),\n",
       " ('2363', 'CD'),\n",
       " (',', ','),\n",
       " ('the', 'DT'),\n",
       " ('Enterprise', 'NNP'),\n",
       " ('was', 'VBD'),\n",
       " ('launched', 'VBN'),\n",
       " ('from', 'IN'),\n",
       " ('Mars', 'NNP'),\n",
       " ('.', '.'),\n",
       " ('On', 'IN'),\n",
       " ('stardate', 'NN'),\n",
       " ('41025.5', 'CD'),\n",
       " (',', ','),\n",
       " ('the', 'DT'),\n",
       " ('Enterprise', 'NNP'),\n",
       " ('was', 'VBD'),\n",
       " ('commissioned', 'VBN'),\n",
       " ('.', '.'),\n",
       " ('These', 'DT'),\n",
       " ('stardates', 'NNS'),\n",
       " ('were', 'VBD'),\n",
       " (\"n't\", 'RB'),\n",
       " ('mentioned', 'VBN'),\n",
       " ('in', 'IN'),\n",
       " ('dialog', 'NN'),\n",
       " (';', ':'),\n",
       " ('they', 'PRP'),\n",
       " ('were', 'VBD'),\n",
       " ('from', 'IN'),\n",
       " ('the', 'DT'),\n",
       " ('Enterprise', 'NNP'),\n",
       " ('dedication', 'NN'),\n",
       " ('plaque', 'NN'),\n",
       " ('.', '.'),\n",
       " ('Final', 'JJ'),\n",
       " ('systems', 'NNS'),\n",
       " ('completion', 'NN'),\n",
       " ('and', 'CC'),\n",
       " ('shakedown', 'NN'),\n",
       " ('was', 'VBD'),\n",
       " ('conducted', 'VBN'),\n",
       " ('at', 'IN'),\n",
       " ('Earth', 'NNP'),\n",
       " ('Station', 'NNP'),\n",
       " ('McKinley', 'NNP'),\n",
       " ('.', '.'),\n",
       " ('Captain', 'NNP'),\n",
       " ('Jean-Luc', 'NNP'),\n",
       " ('Picard', 'NNP'),\n",
       " ('took', 'VBD'),\n",
       " ('command', 'NN'),\n",
       " ('of', 'IN'),\n",
       " ('the', 'DT'),\n",
       " ('ship', 'NN'),\n",
       " ('on', 'IN'),\n",
       " ('stardate', 'NN'),\n",
       " ('41148', 'CD'),\n",
       " ('at', 'IN'),\n",
       " ('the', 'DT'),\n",
       " ('order', 'NN'),\n",
       " ('of', 'IN'),\n",
       " ('Rear', 'NNP'),\n",
       " ('Admiral', 'NNP'),\n",
       " ('Norah', 'NNP'),\n",
       " ('Satie', 'NNP'),\n",
       " ('.', '.'),\n",
       " ('===Legacy===', 'NN'),\n",
       " ('Commander', 'NNP'),\n",
       " ('Riker', 'NNP'),\n",
       " ('was', 'VBD'),\n",
       " ('upset', 'VBN'),\n",
       " ('over', 'IN'),\n",
       " ('the', 'DT'),\n",
       " ('loss', 'NN'),\n",
       " ('of', 'IN'),\n",
       " ('the', 'DT'),\n",
       " ('Enterprise', 'NNP'),\n",
       " ('.', '.'),\n",
       " ('Having', 'VBG'),\n",
       " ('hoped', 'VBD'),\n",
       " ('he', 'PRP'),\n",
       " ('would', 'MD'),\n",
       " ('one', 'CD'),\n",
       " ('day', 'NN'),\n",
       " ('command', 'VB'),\n",
       " ('the', 'DT'),\n",
       " ('ship', 'NN'),\n",
       " (',', ','),\n",
       " ('he', 'PRP'),\n",
       " ('was', 'VBD'),\n",
       " ('disappointed', 'JJ'),\n",
       " ('that', 'IN'),\n",
       " ('he', 'PRP'),\n",
       " ('never', 'RB'),\n",
       " ('got', 'VBD'),\n",
       " ('that', 'DT'),\n",
       " ('opportunity', 'NN'),\n",
       " ('.', '.'),\n",
       " ('However', 'RB'),\n",
       " (',', ','),\n",
       " ('Picard', 'NNP'),\n",
       " ('expressed', 'VBD'),\n",
       " ('doubt', 'NN'),\n",
       " ('that', 'IN'),\n",
       " ('the', 'DT'),\n",
       " ('Enterprise-D', 'NNP'),\n",
       " ('would', 'MD'),\n",
       " ('be', 'VB'),\n",
       " ('the', 'DT'),\n",
       " ('last', 'JJ'),\n",
       " ('vessel', 'NN'),\n",
       " ('to', 'TO'),\n",
       " ('carry', 'VB'),\n",
       " ('the', 'DT'),\n",
       " ('name', 'NN'),\n",
       " ('.', '.'),\n",
       " ('The', 'DT'),\n",
       " ('Enterprise', 'NN'),\n",
       " ('was', 'VBD'),\n",
       " ('so', 'RB'),\n",
       " ('dear', 'JJ'),\n",
       " ('to', 'TO'),\n",
       " ('Worf', 'NNP'),\n",
       " ('that', 'IN'),\n",
       " (',', ','),\n",
       " ('shortly', 'RB'),\n",
       " ('after', 'IN'),\n",
       " ('being', 'VBG'),\n",
       " ('reassigned', 'VBN'),\n",
       " ('to', 'TO'),\n",
       " ('Deep', 'NNP'),\n",
       " ('Space', 'NNP'),\n",
       " ('9', 'CD'),\n",
       " ('in', 'IN'),\n",
       " ('2372', 'CD'),\n",
       " (',', ','),\n",
       " ('he', 'PRP'),\n",
       " ('briefly', 'VBZ'),\n",
       " ('considered', 'VBN'),\n",
       " ('resigning', 'VBG'),\n",
       " ('from', 'IN'),\n",
       " ('Starfleet', 'NNP'),\n",
       " ('.', '.'),\n",
       " ('Station', 'NNP'),\n",
       " ('commander', 'NN'),\n",
       " ('Captain', 'NNP'),\n",
       " ('Benjamin', 'NNP'),\n",
       " ('Sisko', 'NNP'),\n",
       " ('expressed', 'VBD'),\n",
       " ('regret', 'VB'),\n",
       " ('on', 'IN'),\n",
       " ('the', 'DT'),\n",
       " ('loss', 'NN'),\n",
       " ('of', 'IN'),\n",
       " ('the', 'DT'),\n",
       " ('Enterprise', 'NNP'),\n",
       " ('and', 'CC'),\n",
       " ('offered', 'VBD'),\n",
       " ('his', 'PRP$'),\n",
       " ('condolences', 'NNS'),\n",
       " ('over', 'IN'),\n",
       " ('the', 'DT'),\n",
       " ('destruction', 'NN'),\n",
       " ('of', 'IN'),\n",
       " ('the', 'DT'),\n",
       " ('ship', 'NN'),\n",
       " ('to', 'TO'),\n",
       " ('Worf', 'NNP'),\n",
       " (',', ','),\n",
       " ('saying', 'VBG'),\n",
       " ('the', 'DT'),\n",
       " ('Enterprise', 'NNP'),\n",
       " ('``', '``'),\n",
       " ('was', 'VBD'),\n",
       " ('a', 'DT'),\n",
       " ('good', 'JJ'),\n",
       " ('ship', 'NN'),\n",
       " ('.', '.'),\n",
       " (\"''\", \"''\"),\n",
       " ('Captain', 'NNP'),\n",
       " ('Picard', 'NNP'),\n",
       " (\"'s\", 'POS'),\n",
       " ('belief', 'NN'),\n",
       " ('that', 'IN'),\n",
       " ('the', 'DT'),\n",
       " ('Enterprise-D', 'NNP'),\n",
       " ('would', 'MD'),\n",
       " ('not', 'RB'),\n",
       " ('be', 'VB'),\n",
       " ('the', 'DT'),\n",
       " ('final', 'JJ'),\n",
       " ('ship', 'NN'),\n",
       " ('to', 'TO'),\n",
       " ('bear', 'VB'),\n",
       " ('the', 'DT'),\n",
       " ('name', 'NN'),\n",
       " ('was', 'VBD'),\n",
       " ('borne', 'VBN'),\n",
       " ('out', 'RP'),\n",
       " ('with', 'IN'),\n",
       " ('the', 'DT'),\n",
       " ('christening', 'NN'),\n",
       " ('of', 'IN'),\n",
       " ('the', 'DT'),\n",
       " ('Class', 'NNP'),\n",
       " ('Sovereign', 'NNP'),\n",
       " ('USS', 'NNP'),\n",
       " ('Enterprise', 'NNP'),\n",
       " ('NCC-1701-E', 'NNP'),\n",
       " (',', ','),\n",
       " ('later', 'RB'),\n",
       " ('the', 'DT'),\n",
       " ('same', 'JJ'),\n",
       " ('year', 'NN'),\n",
       " ('.', '.'),\n",
       " ('In', 'IN'),\n",
       " ('that', 'DT'),\n",
       " ('instance', 'NN'),\n",
       " (',', ','),\n",
       " ('the', 'DT'),\n",
       " ('legacy', 'NN'),\n",
       " ('of', 'IN'),\n",
       " ('the', 'DT'),\n",
       " ('Enterprise', 'NNP'),\n",
       " ('continued', 'VBD'),\n",
       " ('with', 'IN'),\n",
       " ('Picard', 'NNP'),\n",
       " ('reprising', 'VBG'),\n",
       " ('his', 'PRP$'),\n",
       " ('role', 'NN'),\n",
       " ('as', 'IN'),\n",
       " ('CO', 'NNP'),\n",
       " ('and', 'CC'),\n",
       " ('selecting', 'VBG'),\n",
       " ('most', 'JJS'),\n",
       " ('of', 'IN'),\n",
       " ('the', 'DT'),\n",
       " ('former', 'JJ'),\n",
       " ('crew', 'NN'),\n",
       " ('from', 'IN'),\n",
       " ('the', 'DT'),\n",
       " ('Enterprise-D', 'NNP'),\n",
       " (',', ','),\n",
       " ('with', 'IN'),\n",
       " ('the', 'DT'),\n",
       " ('notable', 'JJ'),\n",
       " ('exception', 'NN'),\n",
       " ('of', 'IN'),\n",
       " ('Worf', 'NNP'),\n",
       " ('due', 'JJ'),\n",
       " ('to', 'TO'),\n",
       " ('his', 'PRP$'),\n",
       " ('most', 'RBS'),\n",
       " ('recent', 'JJ'),\n",
       " ('assignment', 'NN'),\n",
       " ('to', 'TO'),\n",
       " ('DS9', 'NNP'),\n",
       " ('(', '('),\n",
       " ('though', 'IN'),\n",
       " ('he', 'PRP'),\n",
       " ('temporarily', 'RB'),\n",
       " ('joined', 'VBD'),\n",
       " ('the', 'DT'),\n",
       " ('Enterprise-E', 'NNP'),\n",
       " ('crew', 'NN'),\n",
       " ('on', 'IN'),\n",
       " ('several', 'JJ'),\n",
       " ('of', 'IN'),\n",
       " ('their', 'PRP$'),\n",
       " ('more', 'RBR'),\n",
       " ('notable', 'JJ'),\n",
       " ('missions', 'NNS'),\n",
       " (')', ')'),\n",
       " ('.', '.')]"
      ]
     },
     "metadata": {},
     "execution_count": 88
    }
   ],
   "metadata": {}
  },
  {
   "cell_type": "markdown",
   "source": [
    "### Entity recognition"
   ],
   "metadata": {}
  },
  {
   "cell_type": "code",
   "execution_count": 87,
   "source": [
    "## nltk\r\n",
    "entities = nltk.chunk.ne_chunk(tagged)\r\n",
    "\r\n",
    "for e in entities:\r\n",
    "    s = re.sub(r'[\\(\\)]', '', str(e))\r\n",
    "    if s.find('/NNP') > 0:\r\n",
    "        t = s.split()[0]\r\n",
    "        n = ' '.join([re.sub(r'/NNP', '', x) for x in s.split()[1:]])\r\n",
    "        print('%-12s: %s' % (t, n))"
   ],
   "outputs": [
    {
     "output_type": "stream",
     "name": "stdout",
     "text": [
      "ORGANIZATION: USS Enterprise\n",
      "ORGANIZATION: Enterprise\n",
      "ORGANIZATION: USS Enterprise\n",
      "PERSON      : United Federation\n",
      "ORGANIZATION: Planets Galaxy\n",
      "PERSON      : Starfleet\n",
      "ORGANIZATION: Enterprise\n",
      "ORGANIZATION: Federation\n",
      "ORGANIZATION: Battle\n",
      "GPE         : Veridian\n",
      "ORGANIZATION: Utopia Planitia Fleet\n",
      "PERSON      : Mars\n",
      "ORGANIZATION: Solar\n",
      "ORGANIZATION: Commander Orfil Quinteros\n",
      "PERSON      : Brahms\n",
      "ORGANIZATION: Enterprise\n",
      "ORGANIZATION: Enterprise\n",
      "ORGANIZATION: USS Pegasus\n",
      "ORGANIZATION: Utopia Planitia\n",
      "PERSON      : Walter Pierce\n",
      "PERSON      : Marla Finn\n",
      "PERSON      : William Hodges\n",
      "PERSON      : Pierce\n",
      "ORGANIZATION: Enterprise\n",
      "PERSON      : Mars\n",
      "ORGANIZATION: Enterprise\n",
      "ORGANIZATION: Enterprise\n",
      "FACILITY    : Earth Station McKinley\n",
      "PERSON      : Captain Jean-Luc Picard\n",
      "ORGANIZATION: Rear Admiral Norah Satie\n",
      "ORGANIZATION: Commander Riker\n",
      "ORGANIZATION: Enterprise\n",
      "PERSON      : Picard\n",
      "PERSON      : Deep Space\n",
      "GPE         : Starfleet\n",
      "PERSON      : Captain Benjamin Sisko\n",
      "ORGANIZATION: Enterprise\n",
      "GPE         : Worf\n",
      "ORGANIZATION: Enterprise\n",
      "PERSON      : Picard\n",
      "ORGANIZATION: Class Sovereign\n",
      "ORGANIZATION: Enterprise\n",
      "PERSON      : Picard\n",
      "ORGANIZATION: CO\n",
      "GPE         : Worf\n",
      "ORGANIZATION: DS9\n"
     ]
    }
   ],
   "metadata": {
    "ExecuteTime": {
     "end_time": "2019-06-17T01:22:59.142869Z",
     "start_time": "2019-06-17T01:22:58.754906Z"
    },
    "colab": {},
    "colab_type": "code",
    "id": "sw6fYdgXLNQG",
    "outputId": "a83ea9db-825d-4031-8112-f022b71f565b"
   }
  },
  {
   "cell_type": "markdown",
   "source": [
    "\n",
    "\n",
    "---\n",
    "\n",
    "\n",
    "\n",
    "---\n",
    "\n",
    "\n",
    "\n",
    "> > > > > > > > > © 2021 Institute of Data\n",
    "\n",
    "\n",
    "---\n",
    "\n",
    "\n",
    "\n",
    "---\n",
    "\n",
    "\n",
    "\n"
   ],
   "metadata": {
    "colab_type": "text",
    "id": "RERADKgNFq9T"
   }
  }
 ],
 "metadata": {
  "colab": {
   "collapsed_sections": [],
   "name": "IOD_Lab-9_5.ipynb",
   "provenance": []
  },
  "kernelspec": {
   "name": "python3",
   "display_name": "Python 3.8.11 64-bit ('Env_DL': conda)"
  },
  "language_info": {
   "codemirror_mode": {
    "name": "ipython",
    "version": 3
   },
   "file_extension": ".py",
   "mimetype": "text/x-python",
   "name": "python",
   "nbconvert_exporter": "python",
   "pygments_lexer": "ipython3",
   "version": "3.8.11"
  },
  "varInspector": {
   "cols": {
    "lenName": 16,
    "lenType": 16,
    "lenVar": 40
   },
   "kernels_config": {
    "python": {
     "delete_cmd_postfix": "",
     "delete_cmd_prefix": "del ",
     "library": "var_list.py",
     "varRefreshCmd": "print(var_dic_list())"
    },
    "r": {
     "delete_cmd_postfix": ") ",
     "delete_cmd_prefix": "rm(",
     "library": "var_list.r",
     "varRefreshCmd": "cat(var_dic_list()) "
    }
   },
   "types_to_exclude": [
    "module",
    "function",
    "builtin_function_or_method",
    "instance",
    "_Feature"
   ],
   "window_display": false
  },
  "interpreter": {
   "hash": "d4cc69c2496bab24d490eb520a5bd7b6815fd7f954a293db4d3694c71cf4aecc"
  }
 },
 "nbformat": 4,
 "nbformat_minor": 1
}