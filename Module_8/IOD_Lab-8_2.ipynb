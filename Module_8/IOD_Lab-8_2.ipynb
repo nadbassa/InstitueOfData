{
 "cells": [
  {
   "cell_type": "markdown",
   "source": [
    "<div>\n",
    "<img src=https://www.institutedata.com/wp-content/uploads/2019/10/iod_h_tp_primary_c.svg width=\"300\">\n",
    "</div>"
   ],
   "metadata": {
    "colab_type": "text",
    "id": "zYPZ2MKXMk4U"
   }
  },
  {
   "cell_type": "markdown",
   "source": [
    "# Lab 8.2: Web Scraping\n",
    "INSTRUCTIONS:\n",
    "- Read the guides and hints then create the necessary analysis and code to find an answer and conclusion for the task below."
   ],
   "metadata": {
    "colab_type": "text",
    "id": "8j6-MfKHMk4Y"
   }
  },
  {
   "cell_type": "markdown",
   "source": [
    "# Web Scraping in Python (using BeautifulSoup)\n",
    "\n",
    "## Scraping Rules\n",
    "1. **Always** check a website’s **Terms and Conditions** before you scrape it. Be careful to read the statements about legal use of data. Usually, the retrieved data should not be used for commercial purposes.\n",
    "2. **Do not** request data from the website too aggressively with a program (also known as spamming), as this may break the website. Make sure the program behaves in a reasonable manner (i.e. acts like a human). One request for one webpage per second is good practice.\n",
    "3. The layout of a website may change from time to time, so make sure to revisit the site and rewrite the code as needed"
   ],
   "metadata": {
    "colab_type": "text",
    "id": "HImUFlzCMk4c"
   }
  },
  {
   "cell_type": "markdown",
   "source": [
    "## Find a Page\n",
    "Visit the [Fandom](http://fandom.wikia.com) website, find a wikia of your interest and pick a page to work with."
   ],
   "metadata": {
    "colab_type": "text",
    "id": "l6UcvsYfMk4f"
   }
  },
  {
   "cell_type": "markdown",
   "source": [
    "Open a web page with the browser and inspect it.\n",
    "\n",
    "Hover the cursor on the text and follow the shaded box surrounding the main text.\n",
    "\n",
    "From the result, check the main text inside a few levels of HTML tags."
   ],
   "metadata": {
    "colab_type": "text",
    "id": "-NXv6z-6Mk4i"
   }
  },
  {
   "cell_type": "code",
   "execution_count": 1,
   "source": [
    "import re\r\n",
    "\r\n",
    "from urllib.parse import unquote\r\n",
    "import urllib3\r\n",
    "from bs4 import BeautifulSoup\r\n",
    "\r\n",
    "import warnings\r\n",
    "warnings.filterwarnings('ignore')"
   ],
   "outputs": [],
   "metadata": {
    "colab": {},
    "colab_type": "code",
    "id": "nYkrA5JuMk4m"
   }
  },
  {
   "cell_type": "markdown",
   "source": [
    "### Define the content to retrieve (webpage's URL)"
   ],
   "metadata": {
    "colab_type": "text",
    "id": "hb3_djX0Mk4s"
   }
  },
  {
   "cell_type": "code",
   "execution_count": 2,
   "source": [
    "url = 'https://bigbangtheory.fandom.com/wiki/Barry_Kripke'"
   ],
   "outputs": [],
   "metadata": {}
  },
  {
   "cell_type": "markdown",
   "source": [
    "### Retrieve the page\n",
    "- Require Internet connection"
   ],
   "metadata": {
    "colab_type": "text",
    "id": "pKYTTGA1Mk4t"
   }
  },
  {
   "cell_type": "code",
   "execution_count": 3,
   "source": [
    "http = urllib3.PoolManager()\r\n",
    "r = http.request('GET', url)\r\n",
    "if r.status == 200:\r\n",
    "    page = r.data\r\n",
    "    print('Type of the variable \\'page\\':', page.__class__.__name__)\r\n",
    "    print('Page Retrieved. Request Status: %d, Page Size: %d' % (r.status, len(page)))\r\n",
    "else:\r\n",
    "    print('Some problem occurred. Request Status: %s' % r.status)"
   ],
   "outputs": [
    {
     "output_type": "stream",
     "name": "stdout",
     "text": [
      "Type of the variable 'page': bytes\n",
      "Page Retrieved. Request Status: 200, Page Size: 518088\n"
     ]
    }
   ],
   "metadata": {}
  },
  {
   "cell_type": "markdown",
   "source": [
    "### Convert the stream of bytes into a BeautifulSoup representation"
   ],
   "metadata": {
    "colab_type": "text",
    "id": "w7HYoOoDMk4v"
   }
  },
  {
   "cell_type": "code",
   "execution_count": 4,
   "source": [
    "soup = BeautifulSoup(page, 'html.parser')"
   ],
   "outputs": [],
   "metadata": {}
  },
  {
   "cell_type": "code",
   "execution_count": 5,
   "source": [
    "type(soup)"
   ],
   "outputs": [
    {
     "output_type": "execute_result",
     "data": {
      "text/plain": [
       "bs4.BeautifulSoup"
      ]
     },
     "metadata": {},
     "execution_count": 5
    }
   ],
   "metadata": {}
  },
  {
   "cell_type": "code",
   "execution_count": 6,
   "source": [
    "soup.prettify()[:1000]"
   ],
   "outputs": [
    {
     "output_type": "execute_result",
     "data": {
      "text/plain": [
       "'<!DOCTYPE html>\\n<html class=\"client-nojs\" dir=\"ltr\" lang=\"en\">\\n <head>\\n  <meta charset=\"utf-8\"/>\\n  <title>\\n   Barry Kripke | The Big Bang Theory Wiki | Fandom\\n  </title>\\n  <script>\\n   document.documentElement.className = document.documentElement.className.replace( /(^|\\\\s)client-nojs(\\\\s|$)/, \"$1client-js$2\" );\\n  </script>\\n  <script>\\n   (window.RLQ=window.RLQ||[]).push(function(){mw.config.set({\"wgCanonicalNamespace\":\"\",\"wgCanonicalSpecialPageName\":false,\"wgNamespaceNumber\":0,\"wgPageName\":\"Barry_Kripke\",\"wgTitle\":\"Barry Kripke\",\"wgCurRevisionId\":352395,\"wgRevisionId\":352395,\"wgArticleId\":2273,\"wgIsArticle\":true,\"wgIsRedirect\":false,\"wgAction\":\"view\",\"wgUserName\":null,\"wgUserGroups\":[\"*\"],\"wgCategories\":[\"Characters\",\"Caltech Faculty\",\"Scientists\",\"Physicists\",\"Experimental Physicists\",\"Theoretical Physicists\",\"Particle Physicists\",\"Recurring Characters\",\"Season 2\",\"Season 3\",\"Season 4\",\"Season 5\",\"Season 6\",\"Season 7\",\"Season 8\",\"Season 9\",\"The Big Bang Theory\",\"Kripke\",\"Single\",\"Sheldon'"
      ]
     },
     "metadata": {},
     "execution_count": 6
    }
   ],
   "metadata": {}
  },
  {
   "cell_type": "markdown",
   "source": [
    "### Check the content\n",
    "- The HTML source\n",
    "- Includes all tags and scripts\n",
    "- Can be long!"
   ],
   "metadata": {
    "colab_type": "text",
    "id": "Zb0yHBblMk4w"
   }
  },
  {
   "cell_type": "markdown",
   "source": [
    "### Check the HTML's Title"
   ],
   "metadata": {
    "colab_type": "text",
    "id": "Hy2z1218Mk4x"
   }
  },
  {
   "cell_type": "code",
   "execution_count": 7,
   "source": [
    "soup.title"
   ],
   "outputs": [
    {
     "output_type": "execute_result",
     "data": {
      "text/plain": [
       "<title>Barry Kripke | The Big Bang Theory Wiki | Fandom</title>"
      ]
     },
     "metadata": {},
     "execution_count": 7
    }
   ],
   "metadata": {}
  },
  {
   "cell_type": "code",
   "execution_count": 8,
   "source": [
    "soup.title.string"
   ],
   "outputs": [
    {
     "output_type": "execute_result",
     "data": {
      "text/plain": [
       "'Barry Kripke | The Big Bang Theory Wiki | Fandom'"
      ]
     },
     "metadata": {},
     "execution_count": 8
    }
   ],
   "metadata": {}
  },
  {
   "cell_type": "markdown",
   "source": [
    "### Find the main content\n",
    "- Check if it is possible to use only the relevant data"
   ],
   "metadata": {
    "colab_type": "text",
    "id": "NV3IJlHQMk4z"
   }
  },
  {
   "cell_type": "code",
   "execution_count": 36,
   "source": [
    "article_tag = 'div'\r\n",
    "article = soup.find_all(article_tag)[4]\r\n"
   ],
   "outputs": [],
   "metadata": {}
  },
  {
   "cell_type": "code",
   "execution_count": 37,
   "source": [
    "article"
   ],
   "outputs": [
    {
     "output_type": "execute_result",
     "data": {
      "text/plain": [
       "<div class=\"wds-dropdown\">\n",
       "<div class=\"wds-tabs__tab-label wds-dropdown__toggle first-level-item\">\n",
       "<a data-tracking=\"custom-level-1\" href=\"#\">\n",
       "<svg class=\"wds-icon-tiny wds-icon navigation-item-icon\"><use xlink:href=\"#wds-icons-book-tiny\"></use></svg> <span>Explore</span>\n",
       "</a>\n",
       "<svg class=\"wds-icon wds-icon-tiny wds-dropdown__toggle-chevron\"><use xlink:href=\"#wds-icons-dropdown-tiny\"></use></svg> </div>\n",
       "<div class=\"wds-is-not-scrollable wds-dropdown__content\">\n",
       "<ul class=\"wds-list wds-is-linked\">\n",
       "<li>\n",
       "<a data-tracking=\"explore-main-page\" href=\"https://bigbangtheory.fandom.com/wiki/Main_Page\">\n",
       "<svg class=\"wds-icon-tiny wds-icon navigation-item-icon\"><use xlink:href=\"#wds-icons-home-tiny\"></use></svg> <span>Main Page</span>\n",
       "</a>\n",
       "</li>\n",
       "<li>\n",
       "<a data-tracking=\"explore-discuss\" href=\"/f\">\n",
       "<svg class=\"wds-icon-tiny wds-icon navigation-item-icon\"><use xlink:href=\"#wds-icons-comment-tiny\"></use></svg> <span>Discuss</span>\n",
       "</a>\n",
       "</li>\n",
       "<li>\n",
       "<a data-tracking=\"explore-all-pages\" href=\"https://bigbangtheory.fandom.com/wiki/Special:AllPages\">\n",
       "<span>All Pages</span>\n",
       "</a>\n",
       "</li>\n",
       "<li>\n",
       "<a data-tracking=\"explore-community\" href=\"https://bigbangtheory.fandom.com/wiki/Special:Community\">\n",
       "<span>Community</span>\n",
       "</a>\n",
       "</li>\n",
       "<li>\n",
       "<a data-tracking=\"explore-blogs\" href=\"/wiki/Blog:Recent_posts\">\n",
       "<span>Recent Blog Posts</span>\n",
       "</a>\n",
       "</li>\n",
       "</ul>\n",
       "</div>\n",
       "</div>"
      ]
     },
     "metadata": {},
     "execution_count": 37
    }
   ],
   "metadata": {}
  },
  {
   "cell_type": "code",
   "execution_count": 38,
   "source": [
    "type(article)"
   ],
   "outputs": [
    {
     "output_type": "execute_result",
     "data": {
      "text/plain": [
       "bs4.element.Tag"
      ]
     },
     "metadata": {},
     "execution_count": 38
    }
   ],
   "metadata": {}
  },
  {
   "cell_type": "code",
   "execution_count": 39,
   "source": [
    "for t in article.find_all('a'):\r\n",
    "    print(t)"
   ],
   "outputs": [
    {
     "output_type": "stream",
     "name": "stdout",
     "text": [
      "<a data-tracking=\"custom-level-1\" href=\"#\">\n",
      "<svg class=\"wds-icon-tiny wds-icon navigation-item-icon\"><use xlink:href=\"#wds-icons-book-tiny\"></use></svg> <span>Explore</span>\n",
      "</a>\n",
      "<a data-tracking=\"explore-main-page\" href=\"https://bigbangtheory.fandom.com/wiki/Main_Page\">\n",
      "<svg class=\"wds-icon-tiny wds-icon navigation-item-icon\"><use xlink:href=\"#wds-icons-home-tiny\"></use></svg> <span>Main Page</span>\n",
      "</a>\n",
      "<a data-tracking=\"explore-discuss\" href=\"/f\">\n",
      "<svg class=\"wds-icon-tiny wds-icon navigation-item-icon\"><use xlink:href=\"#wds-icons-comment-tiny\"></use></svg> <span>Discuss</span>\n",
      "</a>\n",
      "<a data-tracking=\"explore-all-pages\" href=\"https://bigbangtheory.fandom.com/wiki/Special:AllPages\">\n",
      "<span>All Pages</span>\n",
      "</a>\n",
      "<a data-tracking=\"explore-community\" href=\"https://bigbangtheory.fandom.com/wiki/Special:Community\">\n",
      "<span>Community</span>\n",
      "</a>\n",
      "<a data-tracking=\"explore-blogs\" href=\"/wiki/Blog:Recent_posts\">\n",
      "<span>Recent Blog Posts</span>\n",
      "</a>\n"
     ]
    }
   ],
   "metadata": {}
  },
  {
   "cell_type": "code",
   "execution_count": 41,
   "source": [
    "link_tag = 'a'\r\n",
    "\r\n",
    "tag_list = []\r\n",
    "for t in article.find_all(link_tag):\r\n",
    "    tag_list.append(t.get('href'))\r\n",
    "\r\n",
    "\r\n",
    "print('Size of \\'tag_list\\':', len(tag_list))\r\n",
    "tag_list"
   ],
   "outputs": [
    {
     "output_type": "stream",
     "name": "stdout",
     "text": [
      "Size of 'tag_list': 6\n"
     ]
    },
    {
     "output_type": "execute_result",
     "data": {
      "text/plain": [
       "['#',\n",
       " 'https://bigbangtheory.fandom.com/wiki/Main_Page',\n",
       " '/f',\n",
       " 'https://bigbangtheory.fandom.com/wiki/Special:AllPages',\n",
       " 'https://bigbangtheory.fandom.com/wiki/Special:Community',\n",
       " '/wiki/Blog:Recent_posts']"
      ]
     },
     "metadata": {},
     "execution_count": 41
    }
   ],
   "metadata": {}
  },
  {
   "cell_type": "code",
   "execution_count": 42,
   "source": [
    "# keep only the links to the wiki itself\r\n",
    "wiki_tag_list = []\r\n",
    "for link in tag_list:\r\n",
    "    if link is not None and link[:6] == '/wiki/':\r\n",
    "        wiki_link = link[6:]\r\n",
    "        wiki_tag_list.append(wiki_link)\r\n",
    "\r\n",
    "# List comprehension:\r\n",
    "# wiki_tag_list = [link[6:] for link in tag_list if link is not None and link[:6] == '/wiki/']\r\n",
    "\r\n",
    "print('Size of \\'wiki_tag_list\\':', len(wiki_tag_list))\r\n",
    "wiki_tag_list"
   ],
   "outputs": [
    {
     "output_type": "stream",
     "name": "stdout",
     "text": [
      "Size of 'wiki_tag_list': 1\n"
     ]
    },
    {
     "output_type": "execute_result",
     "data": {
      "text/plain": [
       "['Blog:Recent_posts']"
      ]
     },
     "metadata": {},
     "execution_count": 42
    }
   ],
   "metadata": {}
  },
  {
   "cell_type": "code",
   "execution_count": 50,
   "source": [
    "\r\n",
    "httplist = []\r\n",
    "for link in tag_list:\r\n",
    "    if link is not None and link[:5] == 'https':\r\n",
    "        link = link[:]\r\n",
    "        httplist.append(link)\r\n",
    "\r\n",
    "print('Size of http URLs'':', len(httplist))\r\n",
    "httplist"
   ],
   "outputs": [
    {
     "output_type": "stream",
     "name": "stdout",
     "text": [
      "Size of http URLs: 3\n"
     ]
    },
    {
     "output_type": "execute_result",
     "data": {
      "text/plain": [
       "['https://bigbangtheory.fandom.com/wiki/Main_Page',\n",
       " 'https://bigbangtheory.fandom.com/wiki/Special:AllPages',\n",
       " 'https://bigbangtheory.fandom.com/wiki/Special:Community']"
      ]
     },
     "metadata": {},
     "execution_count": 50
    }
   ],
   "metadata": {}
  },
  {
   "cell_type": "code",
   "execution_count": 51,
   "source": [
    "for t in article.find_all('div'):\r\n",
    "    print(t)"
   ],
   "outputs": [
    {
     "output_type": "stream",
     "name": "stdout",
     "text": [
      "<div class=\"wds-tabs__tab-label wds-dropdown__toggle first-level-item\">\n",
      "<a data-tracking=\"custom-level-1\" href=\"#\">\n",
      "<svg class=\"wds-icon-tiny wds-icon navigation-item-icon\"><use xlink:href=\"#wds-icons-book-tiny\"></use></svg> <span>Explore</span>\n",
      "</a>\n",
      "<svg class=\"wds-icon wds-icon-tiny wds-dropdown__toggle-chevron\"><use xlink:href=\"#wds-icons-dropdown-tiny\"></use></svg> </div>\n",
      "<div class=\"wds-is-not-scrollable wds-dropdown__content\">\n",
      "<ul class=\"wds-list wds-is-linked\">\n",
      "<li>\n",
      "<a data-tracking=\"explore-main-page\" href=\"https://bigbangtheory.fandom.com/wiki/Main_Page\">\n",
      "<svg class=\"wds-icon-tiny wds-icon navigation-item-icon\"><use xlink:href=\"#wds-icons-home-tiny\"></use></svg> <span>Main Page</span>\n",
      "</a>\n",
      "</li>\n",
      "<li>\n",
      "<a data-tracking=\"explore-discuss\" href=\"/f\">\n",
      "<svg class=\"wds-icon-tiny wds-icon navigation-item-icon\"><use xlink:href=\"#wds-icons-comment-tiny\"></use></svg> <span>Discuss</span>\n",
      "</a>\n",
      "</li>\n",
      "<li>\n",
      "<a data-tracking=\"explore-all-pages\" href=\"https://bigbangtheory.fandom.com/wiki/Special:AllPages\">\n",
      "<span>All Pages</span>\n",
      "</a>\n",
      "</li>\n",
      "<li>\n",
      "<a data-tracking=\"explore-community\" href=\"https://bigbangtheory.fandom.com/wiki/Special:Community\">\n",
      "<span>Community</span>\n",
      "</a>\n",
      "</li>\n",
      "<li>\n",
      "<a data-tracking=\"explore-blogs\" href=\"/wiki/Blog:Recent_posts\">\n",
      "<span>Recent Blog Posts</span>\n",
      "</a>\n",
      "</li>\n",
      "</ul>\n",
      "</div>\n"
     ]
    }
   ],
   "metadata": {}
  },
  {
   "cell_type": "markdown",
   "source": [
    "### Get some of the text\n",
    "- Plain text without HTML tags"
   ],
   "metadata": {
    "colab_type": "text",
    "id": "sEioc2exMk40"
   }
  },
  {
   "cell_type": "markdown",
   "source": [
    "### Find the links in the text"
   ],
   "metadata": {
    "colab_type": "text",
    "id": "Gdf3no5jMk41"
   }
  },
  {
   "cell_type": "markdown",
   "source": [
    "### Create a filter for unwanted types of articles"
   ],
   "metadata": {
    "colab_type": "text",
    "id": "2RNySAm5Mk42"
   }
  },
  {
   "cell_type": "markdown",
   "source": [
    "\n",
    "\n",
    "---\n",
    "\n",
    "\n",
    "\n",
    "---\n",
    "\n",
    "\n",
    "\n",
    "> > > > > > > > > © 2021 Institute of Data\n",
    "\n",
    "\n",
    "---\n",
    "\n",
    "\n",
    "\n",
    "---\n",
    "\n",
    "\n",
    "\n"
   ],
   "metadata": {
    "colab_type": "text",
    "id": "RERADKgNFq9T"
   }
  }
 ],
 "metadata": {
  "colab": {
   "collapsed_sections": [],
   "name": "DSIA Lab-9_2.ipynb",
   "provenance": []
  },
  "kernelspec": {
   "name": "python3",
   "display_name": "Python 3.8.11 64-bit ('Env_DL': conda)"
  },
  "language_info": {
   "codemirror_mode": {
    "name": "ipython",
    "version": 3
   },
   "file_extension": ".py",
   "mimetype": "text/x-python",
   "name": "python",
   "nbconvert_exporter": "python",
   "pygments_lexer": "ipython3",
   "version": "3.8.11"
  },
  "interpreter": {
   "hash": "d4cc69c2496bab24d490eb520a5bd7b6815fd7f954a293db4d3694c71cf4aecc"
  }
 },
 "nbformat": 4,
 "nbformat_minor": 1
}